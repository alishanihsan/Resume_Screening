{
  "nbformat": 4,
  "nbformat_minor": 0,
  "metadata": {
    "colab": {
      "provenance": [],
      "gpuType": "T4"
    },
    "kernelspec": {
      "name": "python3",
      "display_name": "Python 3"
    },
    "language_info": {
      "name": "python"
    },
    "accelerator": "GPU"
  },
  "cells": [
    {
      "cell_type": "markdown",
      "source": [
        "# NLP Project: Resume Screening with Deep Learning using TensorFlow\n",
        "\n",
        "## Introduction\n",
        "In this project, we aim to develop a resume screening system using deep learning techniques implemented in TensorFlow. Resume screening is a crucial task for many organizations to efficiently filter job applications based on predefined criteria. By leveraging deep learning and NLP, we can automate this process to save time and resources."
      ],
      "metadata": {
        "id": "gVaPArzfZ4WC"
      }
    },
    {
      "cell_type": "code",
      "execution_count": 1,
      "metadata": {
        "id": "AjVUWOaOXDCZ"
      },
      "outputs": [],
      "source": [
        "import pandas as pd"
      ]
    },
    {
      "cell_type": "code",
      "source": [
        "# Turn .csv files into pandas DataFrame's\n",
        "df = pd.read_csv(\"UpdatedResumeDataSet.csv\")\n",
        "df.head()"
      ],
      "metadata": {
        "colab": {
          "base_uri": "https://localhost:8080/",
          "height": 206
        },
        "id": "yf0SkCg1XtLx",
        "outputId": "b3dadf44-a0a7-4951-abfe-5b271bd445ab"
      },
      "execution_count": 2,
      "outputs": [
        {
          "output_type": "execute_result",
          "data": {
            "text/plain": [
              "       Category                                             Resume\n",
              "0  Data Science  Skills * Programming Languages: Python (pandas...\n",
              "1  Data Science  Education Details \\r\\nMay 2013 to May 2017 B.E...\n",
              "2  Data Science  Areas of Interest Deep Learning, Control Syste...\n",
              "3  Data Science  Skills â¢ R â¢ Python â¢ SAP HANA â¢ Table...\n",
              "4  Data Science  Education Details \\r\\n MCA   YMCAUST,  Faridab..."
            ],
            "text/html": [
              "\n",
              "  <div id=\"df-58a15543-712b-41f3-b4d2-e030445ee74f\" class=\"colab-df-container\">\n",
              "    <div>\n",
              "<style scoped>\n",
              "    .dataframe tbody tr th:only-of-type {\n",
              "        vertical-align: middle;\n",
              "    }\n",
              "\n",
              "    .dataframe tbody tr th {\n",
              "        vertical-align: top;\n",
              "    }\n",
              "\n",
              "    .dataframe thead th {\n",
              "        text-align: right;\n",
              "    }\n",
              "</style>\n",
              "<table border=\"1\" class=\"dataframe\">\n",
              "  <thead>\n",
              "    <tr style=\"text-align: right;\">\n",
              "      <th></th>\n",
              "      <th>Category</th>\n",
              "      <th>Resume</th>\n",
              "    </tr>\n",
              "  </thead>\n",
              "  <tbody>\n",
              "    <tr>\n",
              "      <th>0</th>\n",
              "      <td>Data Science</td>\n",
              "      <td>Skills * Programming Languages: Python (pandas...</td>\n",
              "    </tr>\n",
              "    <tr>\n",
              "      <th>1</th>\n",
              "      <td>Data Science</td>\n",
              "      <td>Education Details \\r\\nMay 2013 to May 2017 B.E...</td>\n",
              "    </tr>\n",
              "    <tr>\n",
              "      <th>2</th>\n",
              "      <td>Data Science</td>\n",
              "      <td>Areas of Interest Deep Learning, Control Syste...</td>\n",
              "    </tr>\n",
              "    <tr>\n",
              "      <th>3</th>\n",
              "      <td>Data Science</td>\n",
              "      <td>Skills â¢ R â¢ Python â¢ SAP HANA â¢ Table...</td>\n",
              "    </tr>\n",
              "    <tr>\n",
              "      <th>4</th>\n",
              "      <td>Data Science</td>\n",
              "      <td>Education Details \\r\\n MCA   YMCAUST,  Faridab...</td>\n",
              "    </tr>\n",
              "  </tbody>\n",
              "</table>\n",
              "</div>\n",
              "    <div class=\"colab-df-buttons\">\n",
              "\n",
              "  <div class=\"colab-df-container\">\n",
              "    <button class=\"colab-df-convert\" onclick=\"convertToInteractive('df-58a15543-712b-41f3-b4d2-e030445ee74f')\"\n",
              "            title=\"Convert this dataframe to an interactive table.\"\n",
              "            style=\"display:none;\">\n",
              "\n",
              "  <svg xmlns=\"http://www.w3.org/2000/svg\" height=\"24px\" viewBox=\"0 -960 960 960\">\n",
              "    <path d=\"M120-120v-720h720v720H120Zm60-500h600v-160H180v160Zm220 220h160v-160H400v160Zm0 220h160v-160H400v160ZM180-400h160v-160H180v160Zm440 0h160v-160H620v160ZM180-180h160v-160H180v160Zm440 0h160v-160H620v160Z\"/>\n",
              "  </svg>\n",
              "    </button>\n",
              "\n",
              "  <style>\n",
              "    .colab-df-container {\n",
              "      display:flex;\n",
              "      gap: 12px;\n",
              "    }\n",
              "\n",
              "    .colab-df-convert {\n",
              "      background-color: #E8F0FE;\n",
              "      border: none;\n",
              "      border-radius: 50%;\n",
              "      cursor: pointer;\n",
              "      display: none;\n",
              "      fill: #1967D2;\n",
              "      height: 32px;\n",
              "      padding: 0 0 0 0;\n",
              "      width: 32px;\n",
              "    }\n",
              "\n",
              "    .colab-df-convert:hover {\n",
              "      background-color: #E2EBFA;\n",
              "      box-shadow: 0px 1px 2px rgba(60, 64, 67, 0.3), 0px 1px 3px 1px rgba(60, 64, 67, 0.15);\n",
              "      fill: #174EA6;\n",
              "    }\n",
              "\n",
              "    .colab-df-buttons div {\n",
              "      margin-bottom: 4px;\n",
              "    }\n",
              "\n",
              "    [theme=dark] .colab-df-convert {\n",
              "      background-color: #3B4455;\n",
              "      fill: #D2E3FC;\n",
              "    }\n",
              "\n",
              "    [theme=dark] .colab-df-convert:hover {\n",
              "      background-color: #434B5C;\n",
              "      box-shadow: 0px 1px 3px 1px rgba(0, 0, 0, 0.15);\n",
              "      filter: drop-shadow(0px 1px 2px rgba(0, 0, 0, 0.3));\n",
              "      fill: #FFFFFF;\n",
              "    }\n",
              "  </style>\n",
              "\n",
              "    <script>\n",
              "      const buttonEl =\n",
              "        document.querySelector('#df-58a15543-712b-41f3-b4d2-e030445ee74f button.colab-df-convert');\n",
              "      buttonEl.style.display =\n",
              "        google.colab.kernel.accessAllowed ? 'block' : 'none';\n",
              "\n",
              "      async function convertToInteractive(key) {\n",
              "        const element = document.querySelector('#df-58a15543-712b-41f3-b4d2-e030445ee74f');\n",
              "        const dataTable =\n",
              "          await google.colab.kernel.invokeFunction('convertToInteractive',\n",
              "                                                    [key], {});\n",
              "        if (!dataTable) return;\n",
              "\n",
              "        const docLinkHtml = 'Like what you see? Visit the ' +\n",
              "          '<a target=\"_blank\" href=https://colab.research.google.com/notebooks/data_table.ipynb>data table notebook</a>'\n",
              "          + ' to learn more about interactive tables.';\n",
              "        element.innerHTML = '';\n",
              "        dataTable['output_type'] = 'display_data';\n",
              "        await google.colab.output.renderOutput(dataTable, element);\n",
              "        const docLink = document.createElement('div');\n",
              "        docLink.innerHTML = docLinkHtml;\n",
              "        element.appendChild(docLink);\n",
              "      }\n",
              "    </script>\n",
              "  </div>\n",
              "\n",
              "\n",
              "<div id=\"df-3a9b7b46-61ae-4154-980e-7145f40e9047\">\n",
              "  <button class=\"colab-df-quickchart\" onclick=\"quickchart('df-3a9b7b46-61ae-4154-980e-7145f40e9047')\"\n",
              "            title=\"Suggest charts\"\n",
              "            style=\"display:none;\">\n",
              "\n",
              "<svg xmlns=\"http://www.w3.org/2000/svg\" height=\"24px\"viewBox=\"0 0 24 24\"\n",
              "     width=\"24px\">\n",
              "    <g>\n",
              "        <path d=\"M19 3H5c-1.1 0-2 .9-2 2v14c0 1.1.9 2 2 2h14c1.1 0 2-.9 2-2V5c0-1.1-.9-2-2-2zM9 17H7v-7h2v7zm4 0h-2V7h2v10zm4 0h-2v-4h2v4z\"/>\n",
              "    </g>\n",
              "</svg>\n",
              "  </button>\n",
              "\n",
              "<style>\n",
              "  .colab-df-quickchart {\n",
              "      --bg-color: #E8F0FE;\n",
              "      --fill-color: #1967D2;\n",
              "      --hover-bg-color: #E2EBFA;\n",
              "      --hover-fill-color: #174EA6;\n",
              "      --disabled-fill-color: #AAA;\n",
              "      --disabled-bg-color: #DDD;\n",
              "  }\n",
              "\n",
              "  [theme=dark] .colab-df-quickchart {\n",
              "      --bg-color: #3B4455;\n",
              "      --fill-color: #D2E3FC;\n",
              "      --hover-bg-color: #434B5C;\n",
              "      --hover-fill-color: #FFFFFF;\n",
              "      --disabled-bg-color: #3B4455;\n",
              "      --disabled-fill-color: #666;\n",
              "  }\n",
              "\n",
              "  .colab-df-quickchart {\n",
              "    background-color: var(--bg-color);\n",
              "    border: none;\n",
              "    border-radius: 50%;\n",
              "    cursor: pointer;\n",
              "    display: none;\n",
              "    fill: var(--fill-color);\n",
              "    height: 32px;\n",
              "    padding: 0;\n",
              "    width: 32px;\n",
              "  }\n",
              "\n",
              "  .colab-df-quickchart:hover {\n",
              "    background-color: var(--hover-bg-color);\n",
              "    box-shadow: 0 1px 2px rgba(60, 64, 67, 0.3), 0 1px 3px 1px rgba(60, 64, 67, 0.15);\n",
              "    fill: var(--button-hover-fill-color);\n",
              "  }\n",
              "\n",
              "  .colab-df-quickchart-complete:disabled,\n",
              "  .colab-df-quickchart-complete:disabled:hover {\n",
              "    background-color: var(--disabled-bg-color);\n",
              "    fill: var(--disabled-fill-color);\n",
              "    box-shadow: none;\n",
              "  }\n",
              "\n",
              "  .colab-df-spinner {\n",
              "    border: 2px solid var(--fill-color);\n",
              "    border-color: transparent;\n",
              "    border-bottom-color: var(--fill-color);\n",
              "    animation:\n",
              "      spin 1s steps(1) infinite;\n",
              "  }\n",
              "\n",
              "  @keyframes spin {\n",
              "    0% {\n",
              "      border-color: transparent;\n",
              "      border-bottom-color: var(--fill-color);\n",
              "      border-left-color: var(--fill-color);\n",
              "    }\n",
              "    20% {\n",
              "      border-color: transparent;\n",
              "      border-left-color: var(--fill-color);\n",
              "      border-top-color: var(--fill-color);\n",
              "    }\n",
              "    30% {\n",
              "      border-color: transparent;\n",
              "      border-left-color: var(--fill-color);\n",
              "      border-top-color: var(--fill-color);\n",
              "      border-right-color: var(--fill-color);\n",
              "    }\n",
              "    40% {\n",
              "      border-color: transparent;\n",
              "      border-right-color: var(--fill-color);\n",
              "      border-top-color: var(--fill-color);\n",
              "    }\n",
              "    60% {\n",
              "      border-color: transparent;\n",
              "      border-right-color: var(--fill-color);\n",
              "    }\n",
              "    80% {\n",
              "      border-color: transparent;\n",
              "      border-right-color: var(--fill-color);\n",
              "      border-bottom-color: var(--fill-color);\n",
              "    }\n",
              "    90% {\n",
              "      border-color: transparent;\n",
              "      border-bottom-color: var(--fill-color);\n",
              "    }\n",
              "  }\n",
              "</style>\n",
              "\n",
              "  <script>\n",
              "    async function quickchart(key) {\n",
              "      const quickchartButtonEl =\n",
              "        document.querySelector('#' + key + ' button');\n",
              "      quickchartButtonEl.disabled = true;  // To prevent multiple clicks.\n",
              "      quickchartButtonEl.classList.add('colab-df-spinner');\n",
              "      try {\n",
              "        const charts = await google.colab.kernel.invokeFunction(\n",
              "            'suggestCharts', [key], {});\n",
              "      } catch (error) {\n",
              "        console.error('Error during call to suggestCharts:', error);\n",
              "      }\n",
              "      quickchartButtonEl.classList.remove('colab-df-spinner');\n",
              "      quickchartButtonEl.classList.add('colab-df-quickchart-complete');\n",
              "    }\n",
              "    (() => {\n",
              "      let quickchartButtonEl =\n",
              "        document.querySelector('#df-3a9b7b46-61ae-4154-980e-7145f40e9047 button');\n",
              "      quickchartButtonEl.style.display =\n",
              "        google.colab.kernel.accessAllowed ? 'block' : 'none';\n",
              "    })();\n",
              "  </script>\n",
              "</div>\n",
              "\n",
              "    </div>\n",
              "  </div>\n"
            ],
            "application/vnd.google.colaboratory.intrinsic+json": {
              "type": "dataframe",
              "variable_name": "df",
              "summary": "{\n  \"name\": \"df\",\n  \"rows\": 962,\n  \"fields\": [\n    {\n      \"column\": \"Category\",\n      \"properties\": {\n        \"dtype\": \"category\",\n        \"num_unique_values\": 25,\n        \"samples\": [\n          \"Civil Engineer\",\n          \"DevOps Engineer\",\n          \"Data Science\"\n        ],\n        \"semantic_type\": \"\",\n        \"description\": \"\"\n      }\n    },\n    {\n      \"column\": \"Resume\",\n      \"properties\": {\n        \"dtype\": \"category\",\n        \"num_unique_values\": 166,\n        \"samples\": [\n          \"KEY COMPETENCIES \\u00e2\\u009c\\u00b6Multi - Operations Management\\u00e2\\u009c\\u00b6People Management \\u00e2\\u009c\\u00b6Customer Services - Emails \\u00e2\\u009c\\u00b6 MIS \\u00e2\\u009c\\u00b6Vendor & Client Services Management\\u00e2\\u009c\\u00b6Cross Functional Coordination\\u00e2\\u009c\\u00b6Banking & Financial Services\\u00e2\\u009c\\u00b6 Transaction Monitoring * ATM Operations \\u00e2\\u009c\\u00b6 & Prepaid Card Operations (Pre-Issuance & Post-Issuance) \\u00e2\\u009c\\u00b6 POS Operations * JOB PROFILE & SKILLS: \\u00e2\\u0080\\u00a2 An effective communicator with excellent relationship building & interpersonal skills. Strong analytical, problem solving & organizational abilities. \\u00e2\\u0080\\u00a2 Extensive experience in managing operations with demonstrated leadership qualities & organisational skills during the tenure. \\u00e2\\u0080\\u00a2 Managing customer centric operations & ensuring customer satisfaction by achieving service quality norms. \\u00e2\\u0080\\u00a2 Analyzing of all operational problems, customer complaints and take preventive and corrective actions to resolve the same. \\u00e2\\u0080\\u00a2 Receive and respond to Key customer inquiries in an effective manner and provide relevant and timely information. \\u00e2\\u0080\\u00a2 Deft in steering banking back-end operations, analyzing risks and managing delinquencies with dexterity across applying techniques for maximizing recoveries and minimizing credit losses. \\u00e2\\u0080\\u00a2 Analyzed & identified training needs of the team members and developing, organizing and conducting training programs and manage bottom quartile team to improve their performance. \\u00e2\\u0080\\u00a2 Preparing and maintaining daily MIS reports to evaluate the performance and efficiency of the process relate to various verticals. \\u00e2\\u0080\\u00a2 Measuring the performance of the processes in terms of efficiency and effectiveness matrix and ensuring adherence to SLA. \\u00e2\\u0080\\u00a2 Major Activities Define processes for Field Services were monitored and necessary checks were executed and controlled. Also measured Vendor SLA by analyzing the TAT of vendors & the Client SLA provided to us. \\u00e2\\u0080\\u00a2 As per company procedures, handling & ensuring vendor's payment issues to be sorted out &payments are processed on quarterly basis. \\u00e2\\u0080\\u00a2 Appropriately plan and execute each skill of operations in accordance with the department's policies and procedures. \\u00e2\\u0080\\u00a2 Manage relationships with business team, software development team and other services to achieve project objectives. Different software Worked till now: - a. CTL prime - Axis Bank Credit Cards b. Insight - For POS Machine technical operations for Amex (MID & TID Generation- ATOS (Venture Infotek) c. Ticket Management System - TATA Communications Private Services Ltd (ATM - NOC Operations) d. Branch Portal (Yalamanchili Software Exports Ltd) - Prepaid Cards (SBI Bank & Zaggle Prepaid Oceans Services Ltd) Zaggle Prepaid Ocean Services Pvt Ltd Oct, 2017 to Till Date Designation: Manager - Operations (Payment Industry - Prepaid Cards - INR) Education Details \\r\\n  Commerce Mumbai, Maharashtra Mumbai University\\r\\nOperations Manager \\r\\n\\r\\nService Manager - Operations (Payment Industry - Prepaid Cards - INR & FTC)\\r\\nSkill Details \\r\\nOPERATIONS- Exprience - 73 months\\r\\nSATISFACTION- Exprience - 48 months\\r\\nTRAINING- Exprience - 24 months\\r\\nNOC- Exprience - 23 months\\r\\nPOINT OF SALE- Exprience - 20 monthsCompany Details \\r\\ncompany - Zaggle Prepaid Ocean Services Pvt Ltd\\r\\ndescription - Card Operations\\r\\ncompany - Yalamanchili Software Exports Ltd\\r\\ndescription - 24*7 Operations Pvt Ltd) Dec 2015 to Feb 2017\\r\\n\\r\\nDesignation: Service Manager - Operations (Payment Industry - Prepaid Cards - INR & FTC)\\r\\n\\r\\nKey Contributions: \\u00e2\\u0080\\u00a2 A result-oriented business professional in planning, executing& managing processes, improving efficiency of operations, team building and detailing process information to determine effective result into operations.\\r\\n\\u00e2\\u0080\\u00a2 Ensuring PINs generation (SLA) is maintained and chargeback cases are raised in perfect timeframe.\\r\\n\\u00e2\\u0080\\u00a2 Managing email customer services properly and ensuring the emails are replied properly. Also, ensuring transaction monitoring is properly managed 24/7.\\r\\n\\u00e2\\u0080\\u00a2 Assisting Bankers (SBI & Associated Banks) for their BCP plans by getting executed in the system with the help of DR-PR plans & vice versa or any other business requirements.\\r\\n\\u00e2\\u0080\\u00a2 Expertise in maintaining highest level of quality in operations; ensuring adherence to all the quality parameters and procedures as per the stringent norms.\\r\\n\\u00e2\\u0080\\u00a2 Lead, manage and supervise the execution of external audit engagements and responsible for presenting the findings & developing a quality reports to the senior Management and Clients.\\r\\n\\u00e2\\u0080\\u00a2 Coach/mentor (20) team members to perform at a higher level by giving opportunities, providing timely continuous feedback and working with staff to improve their communication, time management, decision making, organization, and analytical skills.\\r\\n\\u00e2\\u0080\\u00a2 Providing the solutions and services to the client in their own premises with aforesaid count of team members.\\r\\n\\u00e2\\u0080\\u00a2 Also ensuring end to end process of PR & DR as per client requirements (PR- DR & DR -PR) by interacting with internal & external stakeholders.\\r\\n\\u00e2\\u0080\\u00a2 Determining process gaps and designing & conducting training programs to enhance operational efficiency and retain talent by providing optimum opportunities for personal and professional growth.\\r\\ncompany - Credit Cards\\r\\ndescription - Ensured highest standard of customer satisfaction and quality service; developing new policies and procedures to improve based on customer feedback and resolving customer queries via correspondence, inbound calls & email channels with the strength of (12-16) Team members.\\r\\ncompany - AGS Transact Technologies Limited\\r\\ndescription - Key Contributions: Lead - SPOC to Banks\\r\\ncompany - TATA Communications Payment Solutions Ltd\\r\\ndescription - To make ATMs operational within TAT by analyzing the issue is technical or non-technical and also by interacting with internal & external stakeholders.\\r\\ncompany - Vertex Customer Solutions India Private Ltd\\r\\ndescription - Key Contributions: \\u00e2\\u0080\\u00a2 Build positive working relationship with all team members and clients by keeping Management informed   of KYC document collection & con-current audit progress, responding timely to Management inquiries, understanding the business and conducting self professionally.\\r\\ncompany - Financial Inclusion Network & Operations Limited\\r\\ndescription - Key Contributions: POS-Operations \\u00e2\\u0080\\u00a2 Cascading the adherence of process is strictly followed by team members & training them to reduce the downtime.\\r\\n\\u00e2\\u0080\\u00a2 Managing Stock of EDC Terminals \\u00e2\\u0080\\u00a2 Managing Deployments of terminals through Multiple teams \\u00e2\\u0080\\u00a2 Would have worked with multiple terminal make & model \\u00e2\\u0080\\u00a2 Managing Inward, Outward & QC of applications installed in the POS machines.\\r\\ncompany - Venture Infotek Private Ltd\\r\\ndescription - Key Contributions: POS-Operations\\r\\ncompany - Axis Bank Ltd - Customer Services\\r\\ndescription - Aug 2006 to Oct 2009 (Ma-Foi&I- smart)\\r\\n\\r\\nDesignation: Team Leader/Executive - Emails, Phone Banking & Correspondence Unit (Snail Mails)\",\n          \"Skill Set: Hadoop, Map Reduce, HDFS, Hive, Sqoop, java. Duration: 2016 to 2017. Role: Hadoop Developer Rplus offers an quick, simple and powerful cloud based Solution, Demand Sense to accurately predict demand for your product in all your markets which Combines Enterprise and External Data to predict demand more accurately through Uses Social Conversation and Sentiments to derive demand and Identifies significant drivers of sale out of hordes of factors that Selects the best suited model out of multiple forecasting models for each product. Responsibilities: \\u00e2\\u0080\\u00a2 Involved in deploying the product for customers, gathering requirements and algorithm optimization at backend of the product. \\u00e2\\u0080\\u00a2 Load and transform Large Datasets of structured semi structured. \\u00e2\\u0080\\u00a2 Responsible to manage data coming from different sources and application \\u00e2\\u0080\\u00a2 Supported Map Reduce Programs those are running on the cluster \\u00e2\\u0080\\u00a2 Involved in creating Hive tables, loading with data and writing hive queries which will run internally in map reduce way.Education Details \\r\\n\\r\\nHadoop Developer \\r\\n\\r\\nHadoop Developer - Braindatawire\\r\\nSkill Details \\r\\nAPACHE HADOOP HDFS- Exprience - 49 months\\r\\nAPACHE HADOOP SQOOP- Exprience - 49 months\\r\\nHadoop- Exprience - 49 months\\r\\nHADOOP- Exprience - 49 months\\r\\nHADOOP DISTRIBUTED FILE SYSTEM- Exprience - 49 monthsCompany Details \\r\\ncompany - Braindatawire\\r\\ndescription - Technical Skills:\\r\\n\\u00e2\\u0080\\u00a2   Programming: Core Java, Map Reduce, Scala\\r\\n\\u00e2\\u0080\\u00a2   Hadoop Tools: HDFS, Spark, Map Reduce, Sqoop, Hive, Hbase\\r\\n\\u00e2\\u0080\\u00a2   Database: MySQL, Oracle\\r\\n\\u00e2\\u0080\\u00a2   Scripting: Shell Scripting\\r\\n\\u00e2\\u0080\\u00a2   IDE: Eclipse\\r\\n\\u00e2\\u0080\\u00a2   Operating Systems: Linux (CentOS), Windows\\r\\n\\u00e2\\u0080\\u00a2   Source Control: Git (Github)\",\n          \"IT Skills: Area Exposure Modeling Tool: Bizagi, MS Visio Prototyping Tool: Indigo Studio. Documentation: MS Office (MS Word, MS Excel, MS Power Point) Testing Proficiency: Smoke, Sanity, Integration, Functional, Acceptance and UI Methodology implemented: Waterfall, Agile (Scrum) Database: SQL Testing Tool: HPQC Business Exposure Education Details \\r\\n Bachelor Of Computer Engineering Computer Engineering Mumbai, Maharashtra Thadomal Shahani Engineering college\\r\\n Diploma Computer Engineering Ulhasnagar, Maharashtra Institute of Technology\\r\\n Secondary School Certificate  Ulhasnagar, Maharashtra New English High School\\r\\nSenior Business Analyst - RPA \\r\\n\\r\\nSenior Business Analyst - RPA - Hexaware Technologies\\r\\nSkill Details \\r\\nDOCUMENTATION- Exprience - 47 months\\r\\nTESTING- Exprience - 29 months\\r\\nINTEGRATION- Exprience - 25 months\\r\\nINTEGRATOR- Exprience - 25 months\\r\\nPROTOTYPE- Exprience - 13 monthsCompany Details \\r\\ncompany - Hexaware Technologies\\r\\ndescription - Working as a RPA Business Analyst\\r\\ncompany - BBH- Brown Brothers Harriman & Co\\r\\ndescription - is a private bank that provides commercial banking, investment management, brokerage, and trust services to private companies and individuals. It also performs merger advisory, foreign exchange, custody services, commercial banking, and corporate financing services.\\r\\n\\r\\nResponsibilities: \\u00e2\\u0080\\u00a2 Performed Automation Assessment of various Processes and identified processes which can be candidates of RPA.\\r\\n\\u00e2\\u0080\\u00a2 Conducting Assessment that involves an initial Understanding of the Existing System, their technology, processes, Usage of the tools, Feasibility of tool with automation tool along with automation ROI analysis.\\r\\n\\u00e2\\u0080\\u00a2 Preparing the Automation Potential Sheet which describes the steps in the process, the volume and frequency of the transaction, the AHT taken by SME to perform the process and depending on the steps that could be automated, Automation potential and the manual efforts that will be saved are calculated.\\r\\nCalculating the complexity of the Process which is considered for automation and depending on all these factors Number of Bots and Number of Automation tool Licenses are determined.\\r\\n\\u00e2\\u0080\\u00a2 Implementing a Proof of Concept (POC) to Validate Feasibility by executing the selected critical use cases for conducting a POC which will helps to identify financial and operational benefits and provide recommendations regarding the actual need for complete automation.\\r\\n\\u00e2\\u0080\\u00a2 Gathering business requirements by conducting detailed interviews with business users, stakeholders, and Subject Matter Experts (SME's) \\u00e2\\u0080\\u00a2 Preparing Business Requirement Document and then converted Business requirements into Functional Requirements Specification.\\r\\n \\u00e2\\u0080\\u00a2 Constructing prototype early toward a design acceptable to the customer and feasible.\\r\\n\\u00e2\\u0080\\u00a2 Assisting in designing test plans, test scenarios and test cases for integration, regression, and user acceptance testing (UAT) to improve the overall quality of the Automation.\\r\\n\\u00e2\\u0080\\u00a2 Participating regularly in Walkthroughs and Review meetings with Project Manager, QA Engineers, and Development team.\\r\\n\\u00e2\\u0080\\u00a2 Regularly interacting with offshore and onshore development teams.\\r\\ncompany - FADV - First Advantage\\r\\ndescription - is a criminal background check company that delivers global solutions ranging from employment screenings to background checks.\\r\\nThe following are the processes which were covered:\\r\\nEmail Process, Research Process, Review Process.\\r\\n\\r\\nResponsibilities: \\u00e2\\u0080\\u00a2 Requirement Gathering through conducting Interviews & Brainstorming sessions with stakeholders \\u00e2\\u0080\\u00a2 To develop decision models and execute those rules as per the use case specifications.\\r\\n\\u00e2\\u0080\\u00a2 To Test/validate the decision models against document test data.\\r\\n\\u00e2\\u0080\\u00a2 To maintain and enhance the decision models for changes in regulations as per use case specifications.\\r\\n\\u00e2\\u0080\\u00a2 Responsible for performing the business research that will make a business growth.\\r\\n\\u00e2\\u0080\\u00a2 Developing a clear understanding of existing business functions and processes.\\r\\n\\u00e2\\u0080\\u00a2 Effectively communicate with the onsite clients for the queries, suggestions, and update.\\r\\n\\u00e2\\u0080\\u00a2 Giving suggestions to enhance the current processes.\\r\\n\\u00e2\\u0080\\u00a2 Identifying areas for process improvement.\\r\\n\\u00e2\\u0080\\u00a2 Flagging up potential problems at an early stage.\\r\\n\\u00e2\\u0080\\u00a2 Preparing PowerPoint presentations and documents for business meetings.\\r\\n\\u00e2\\u0080\\u00a2 Using any information gathered to write up detailed reports.\\r\\n\\u00e2\\u0080\\u00a2 Highlighting risks and issues that could impact project delivery.\\r\\n\\u00e2\\u0080\\u00a2 Able to work accurately.\\r\\n\\u00e2\\u0080\\u00a2 To develop and maintain documentation for internal team training and client end user operations.\\r\\n\\u00e2\\u0080\\u00a2 To work efficiently with team members and across teams.\\r\\n\\u00e2\\u0080\\u00a2 To mentor and train junior team members.\\r\\ncompany - Clinical Testing, Lab Work and Diagnostic Testing\\r\\ndescription - IQVIA provides services to its customers this includes: Clinical Testing, Lab Work and Diagnostic Testing under clinical trial. These customers need to pay to IQVIA and aging details and invoices are generated for the same.\\r\\nThe following are the processes which were covered:\\r\\n\\r\\nTracking Payments, Automated Real Time Metrics Reporting (Dashboard), Past Due Notifications, AR Statements, Credit/Rebill.\\r\\nResponsibilities: \\u00e2\\u0080\\u00a2 Conducting meetings with clients and key stakeholders to gather requirements, analyze, finalize and have formal sign-offs from approvers Gather and perform analysis of the business requirements \\u00e2\\u0080\\u00a2 Translating the business requirements into the Business Requirement Document [BRD], Functional Requirement Document [FRD].\\r\\n\\u00e2\\u0080\\u00a2 Facilitating meetings with the appropriate subject matter experts in both business and technology teams \\u00e2\\u0080\\u00a2 Coordinating with business user community for the execution of user acceptance test as well as tracking issues \\u00e2\\u0080\\u00a2 Working, collaborating and coordinating with Offshore and Onsite team members to fulfill the BA responsibilities from project initiation to Post-Implementation \\u00e2\\u0080\\u00a2 Reviewing the test scripts with business users as well as technology team. Execute test scripts with expected results for the System Integration Test (SIT) and User Acceptance Test (UAT) \\u00e2\\u0080\\u00a2 Coordinating and conducting the Production Acceptance Testing (PAT) with the business users \\u00e2\\u0080\\u00a2 Creating flow diagrams, structure charts, and other types of system or process representations \\u00e2\\u0080\\u00a2 Managing changes to requirements and baseline through a change control process \\u00e2\\u0080\\u00a2 Utilizing standard methods, design and testing tools throughout project development life cycle \\u00e2\\u0080\\u00a2 Work closely with the operational functional teams, operations management, and personnel, and various technology teams to facilitate a shared understanding of requirements and priorities across all areas\\r\\ncompany - Eduavenir IT Solution\\r\\ndescription - Project: M.B.M.S\\r\\n\\r\\nM.B.M.S. - is an Inventory management application that allows user to manage inventory details of different warehouses, having different products located at various locations and help extract what goods have been procured, sold or returned by customers. It generates automated invoicesalong withcustomized reports. It also managescustomer complaint and resolution system implementation along with automated MIS on monthly basis.Sales and forecastingis also developed on MIS System and the streamlining of process of warehousing and dispatch along with online proof of delivery management system (POD documentation) is generated.\\r\\n\\r\\nResponsibilities: \\u00e2\\u0080\\u00a2 Participate in requirement gathering discussion with client to understand the flow of business processes \\u00e2\\u0080\\u00a2 Analyze the requirements and determine the core processes, develop Process Documentation and ensure to stay up-to-date in conjunction with on-going changes \\u00e2\\u0080\\u00a2 Participate in process flow analysis and preparing BRD, SRS.\\r\\n\\u00e2\\u0080\\u00a2 Coordinating with developers, designers & operations teams for various nuances of the project, communicate the stakeholder requirements from requirement /enhancement to implementation and finally deliver the same within estimated timeframe.\\r\\n\\u00e2\\u0080\\u00a2 Support UAT by reviewing test cases, manage version control of documents, software builds.\\r\\n\\u00e2\\u0080\\u00a2 Coordinate with the stakeholders for UAT sign off and coordinate internally for production movement till Golive stage of the application.\\r\\n\\u00e2\\u0080\\u00a2 Provide demo and training to internal and end user using PowerPoint presentation.\\r\\n\\u00e2\\u0080\\u00a2 Resolving project functional &technical issues during UAT.\\r\\n\\u00e2\\u0080\\u00a2 Prioritizing the Production bugs and resolving the same within the estimated timeframe.\\r\\n\\u00e2\\u0080\\u00a2 Preparing Project Status Report and Production Bugs Status to all the stakeholders.\\r\\n\\u00e2\\u0080\\u00a2 Promoting and Networking for online trading platform.\\r\\n\\u00e2\\u0080\\u00a2 Designing query sheet for obtaining and comparison of quotes from various vendors.\\r\\n\\u00e2\\u0080\\u00a2 Development of product codes / material codes for inventory management (Master Data Management)\\r\\ncompany - CAPGEMINI Head Office\\r\\ndescription - Type: Mobile and Device Testing.       Duration: January 2014 - August 2014\\r\\n\\r\\nFollet - An application which takes an electronic request from the user for the books he requires from a particular follet store. This detailed information about books that will include the name of the book, its price, the date of the transaction and the parties involved which will then be sent to follet stores. User then create request for one or more books for a given date. This request is then processed further and user gets a mail of the date when he will be provided with that book.\\r\\n\\r\\nResponsibilities: \\u00e2\\u0080\\u00a2 Understanding the needs and business requirements.\\r\\n\\u00e2\\u0080\\u00a2 Preparing BRD, SRS by eliciting all the requirements from the client and SMEs \\u00e2\\u0080\\u00a2 Understanding the dependency of the modules in the system \\u00e2\\u0080\\u00a2 Preparation of test plan for Unit level and Integration level.\\r\\n\\u00e2\\u0080\\u00a2 Preparation and execution of test cases.\\r\\n\\u00e2\\u0080\\u00a2 Defect tracking, Issue Resolution, Risk Monitoring, Status Tracking, Reporting and Follow-up.\\r\\n\\u00e2\\u0080\\u00a2 Preparation of Test Completion report.\\r\\ncompany - CAPGEMINI Head Office\\r\\ndescription - \\r\\ncompany - CAPGEMINI Head Office\\r\\ndescription - Humana is a health care insurance project of U.S. which deals with supplying various medicines to citizens as per the doctor's reference and patient's insurance policy. This application keeps track of all the medicines user has consumed in the past and generates a patient history. A citizen is given a drug only after the doctor's reference so the doctor's information is also linked with the patient's history.\\r\\n\\r\\nResponsibilities: \\u00e2\\u0080\\u00a2 Understanding the requirements and getting clarifications from client.\\r\\n\\u00e2\\u0080\\u00a2 Involved in writing test cases based on test scenarios and execute them.\\r\\n\\u00e2\\u0080\\u00a2 Ensuring Test Coverage using Requirement Traceability Matrix (RTM) \\u00e2\\u0080\\u00a2 Preparation of Test Completion report.\\r\\ncompany - CAPGEMINI Head Office\\r\\ndescription - Testing Trends WQR (World Quality Report) is an application which allows the users to take a survey on different methods and technologies used for testing. Users can choose to answer any type of questions under three different categories. Users have a facility to search, view and export the data to excel. Also, users get daily and weekly reports through email about the new trends in testing implemented around the globe. Testing Trends WQR app is available on Android and IOS platforms.\\r\\n\\r\\nResponsibilities: \\u00e2\\u0080\\u00a2 Understanding the requirements and getting clarifications from client.\\r\\n\\u00e2\\u0080\\u00a2 Writing test cases based on test scenarios and executed them.\\r\\n\\u00e2\\u0080\\u00a2 Performing different types of testing such as Functional, Integration, System, and UAT.\\r\\n\\u00e2\\u0080\\u00a2 Defect resolution and maintenance of the application.\"\n        ],\n        \"semantic_type\": \"\",\n        \"description\": \"\"\n      }\n    }\n  ]\n}"
            }
          },
          "metadata": {},
          "execution_count": 2
        }
      ]
    },
    {
      "cell_type": "code",
      "source": [
        "# Shuffle training dataframe\n",
        "df_shuffled = df.sample(frac=1, random_state=42) # shuffle with random_state=42 for reproducibility\n",
        "df_shuffled.head()"
      ],
      "metadata": {
        "colab": {
          "base_uri": "https://localhost:8080/",
          "height": 206
        },
        "id": "sY2459pEYI3c",
        "outputId": "d7eedc43-72c2-4245-a917-870b3d6aa1f3"
      },
      "execution_count": 3,
      "outputs": [
        {
          "output_type": "execute_result",
          "data": {
            "text/plain": [
              "               Category                                             Resume\n",
              "344      Java Developer  TECHNICAL SKILLS Programming Languages: Java (...\n",
              "381      Java Developer  TECHNICALSKILLS SpringMVC, Hibernate, JDBC, Ja...\n",
              "351      Java Developer  Education Details \\r\\nJanuary 2013 Master of E...\n",
              "778              Hadoop  Skill Set: Hadoop, Map Reduce, HDFS, Hive, Sqo...\n",
              "277  Health and fitness  Education Details \\r\\nJanuary 1992 to January ..."
            ],
            "text/html": [
              "\n",
              "  <div id=\"df-27cb8d07-a157-4ac2-8d8f-92cc4a00461d\" class=\"colab-df-container\">\n",
              "    <div>\n",
              "<style scoped>\n",
              "    .dataframe tbody tr th:only-of-type {\n",
              "        vertical-align: middle;\n",
              "    }\n",
              "\n",
              "    .dataframe tbody tr th {\n",
              "        vertical-align: top;\n",
              "    }\n",
              "\n",
              "    .dataframe thead th {\n",
              "        text-align: right;\n",
              "    }\n",
              "</style>\n",
              "<table border=\"1\" class=\"dataframe\">\n",
              "  <thead>\n",
              "    <tr style=\"text-align: right;\">\n",
              "      <th></th>\n",
              "      <th>Category</th>\n",
              "      <th>Resume</th>\n",
              "    </tr>\n",
              "  </thead>\n",
              "  <tbody>\n",
              "    <tr>\n",
              "      <th>344</th>\n",
              "      <td>Java Developer</td>\n",
              "      <td>TECHNICAL SKILLS Programming Languages: Java (...</td>\n",
              "    </tr>\n",
              "    <tr>\n",
              "      <th>381</th>\n",
              "      <td>Java Developer</td>\n",
              "      <td>TECHNICALSKILLS SpringMVC, Hibernate, JDBC, Ja...</td>\n",
              "    </tr>\n",
              "    <tr>\n",
              "      <th>351</th>\n",
              "      <td>Java Developer</td>\n",
              "      <td>Education Details \\r\\nJanuary 2013 Master of E...</td>\n",
              "    </tr>\n",
              "    <tr>\n",
              "      <th>778</th>\n",
              "      <td>Hadoop</td>\n",
              "      <td>Skill Set: Hadoop, Map Reduce, HDFS, Hive, Sqo...</td>\n",
              "    </tr>\n",
              "    <tr>\n",
              "      <th>277</th>\n",
              "      <td>Health and fitness</td>\n",
              "      <td>Education Details \\r\\nJanuary 1992 to January ...</td>\n",
              "    </tr>\n",
              "  </tbody>\n",
              "</table>\n",
              "</div>\n",
              "    <div class=\"colab-df-buttons\">\n",
              "\n",
              "  <div class=\"colab-df-container\">\n",
              "    <button class=\"colab-df-convert\" onclick=\"convertToInteractive('df-27cb8d07-a157-4ac2-8d8f-92cc4a00461d')\"\n",
              "            title=\"Convert this dataframe to an interactive table.\"\n",
              "            style=\"display:none;\">\n",
              "\n",
              "  <svg xmlns=\"http://www.w3.org/2000/svg\" height=\"24px\" viewBox=\"0 -960 960 960\">\n",
              "    <path d=\"M120-120v-720h720v720H120Zm60-500h600v-160H180v160Zm220 220h160v-160H400v160Zm0 220h160v-160H400v160ZM180-400h160v-160H180v160Zm440 0h160v-160H620v160ZM180-180h160v-160H180v160Zm440 0h160v-160H620v160Z\"/>\n",
              "  </svg>\n",
              "    </button>\n",
              "\n",
              "  <style>\n",
              "    .colab-df-container {\n",
              "      display:flex;\n",
              "      gap: 12px;\n",
              "    }\n",
              "\n",
              "    .colab-df-convert {\n",
              "      background-color: #E8F0FE;\n",
              "      border: none;\n",
              "      border-radius: 50%;\n",
              "      cursor: pointer;\n",
              "      display: none;\n",
              "      fill: #1967D2;\n",
              "      height: 32px;\n",
              "      padding: 0 0 0 0;\n",
              "      width: 32px;\n",
              "    }\n",
              "\n",
              "    .colab-df-convert:hover {\n",
              "      background-color: #E2EBFA;\n",
              "      box-shadow: 0px 1px 2px rgba(60, 64, 67, 0.3), 0px 1px 3px 1px rgba(60, 64, 67, 0.15);\n",
              "      fill: #174EA6;\n",
              "    }\n",
              "\n",
              "    .colab-df-buttons div {\n",
              "      margin-bottom: 4px;\n",
              "    }\n",
              "\n",
              "    [theme=dark] .colab-df-convert {\n",
              "      background-color: #3B4455;\n",
              "      fill: #D2E3FC;\n",
              "    }\n",
              "\n",
              "    [theme=dark] .colab-df-convert:hover {\n",
              "      background-color: #434B5C;\n",
              "      box-shadow: 0px 1px 3px 1px rgba(0, 0, 0, 0.15);\n",
              "      filter: drop-shadow(0px 1px 2px rgba(0, 0, 0, 0.3));\n",
              "      fill: #FFFFFF;\n",
              "    }\n",
              "  </style>\n",
              "\n",
              "    <script>\n",
              "      const buttonEl =\n",
              "        document.querySelector('#df-27cb8d07-a157-4ac2-8d8f-92cc4a00461d button.colab-df-convert');\n",
              "      buttonEl.style.display =\n",
              "        google.colab.kernel.accessAllowed ? 'block' : 'none';\n",
              "\n",
              "      async function convertToInteractive(key) {\n",
              "        const element = document.querySelector('#df-27cb8d07-a157-4ac2-8d8f-92cc4a00461d');\n",
              "        const dataTable =\n",
              "          await google.colab.kernel.invokeFunction('convertToInteractive',\n",
              "                                                    [key], {});\n",
              "        if (!dataTable) return;\n",
              "\n",
              "        const docLinkHtml = 'Like what you see? Visit the ' +\n",
              "          '<a target=\"_blank\" href=https://colab.research.google.com/notebooks/data_table.ipynb>data table notebook</a>'\n",
              "          + ' to learn more about interactive tables.';\n",
              "        element.innerHTML = '';\n",
              "        dataTable['output_type'] = 'display_data';\n",
              "        await google.colab.output.renderOutput(dataTable, element);\n",
              "        const docLink = document.createElement('div');\n",
              "        docLink.innerHTML = docLinkHtml;\n",
              "        element.appendChild(docLink);\n",
              "      }\n",
              "    </script>\n",
              "  </div>\n",
              "\n",
              "\n",
              "<div id=\"df-99963438-eef8-47d2-9d38-34c96d06cc0f\">\n",
              "  <button class=\"colab-df-quickchart\" onclick=\"quickchart('df-99963438-eef8-47d2-9d38-34c96d06cc0f')\"\n",
              "            title=\"Suggest charts\"\n",
              "            style=\"display:none;\">\n",
              "\n",
              "<svg xmlns=\"http://www.w3.org/2000/svg\" height=\"24px\"viewBox=\"0 0 24 24\"\n",
              "     width=\"24px\">\n",
              "    <g>\n",
              "        <path d=\"M19 3H5c-1.1 0-2 .9-2 2v14c0 1.1.9 2 2 2h14c1.1 0 2-.9 2-2V5c0-1.1-.9-2-2-2zM9 17H7v-7h2v7zm4 0h-2V7h2v10zm4 0h-2v-4h2v4z\"/>\n",
              "    </g>\n",
              "</svg>\n",
              "  </button>\n",
              "\n",
              "<style>\n",
              "  .colab-df-quickchart {\n",
              "      --bg-color: #E8F0FE;\n",
              "      --fill-color: #1967D2;\n",
              "      --hover-bg-color: #E2EBFA;\n",
              "      --hover-fill-color: #174EA6;\n",
              "      --disabled-fill-color: #AAA;\n",
              "      --disabled-bg-color: #DDD;\n",
              "  }\n",
              "\n",
              "  [theme=dark] .colab-df-quickchart {\n",
              "      --bg-color: #3B4455;\n",
              "      --fill-color: #D2E3FC;\n",
              "      --hover-bg-color: #434B5C;\n",
              "      --hover-fill-color: #FFFFFF;\n",
              "      --disabled-bg-color: #3B4455;\n",
              "      --disabled-fill-color: #666;\n",
              "  }\n",
              "\n",
              "  .colab-df-quickchart {\n",
              "    background-color: var(--bg-color);\n",
              "    border: none;\n",
              "    border-radius: 50%;\n",
              "    cursor: pointer;\n",
              "    display: none;\n",
              "    fill: var(--fill-color);\n",
              "    height: 32px;\n",
              "    padding: 0;\n",
              "    width: 32px;\n",
              "  }\n",
              "\n",
              "  .colab-df-quickchart:hover {\n",
              "    background-color: var(--hover-bg-color);\n",
              "    box-shadow: 0 1px 2px rgba(60, 64, 67, 0.3), 0 1px 3px 1px rgba(60, 64, 67, 0.15);\n",
              "    fill: var(--button-hover-fill-color);\n",
              "  }\n",
              "\n",
              "  .colab-df-quickchart-complete:disabled,\n",
              "  .colab-df-quickchart-complete:disabled:hover {\n",
              "    background-color: var(--disabled-bg-color);\n",
              "    fill: var(--disabled-fill-color);\n",
              "    box-shadow: none;\n",
              "  }\n",
              "\n",
              "  .colab-df-spinner {\n",
              "    border: 2px solid var(--fill-color);\n",
              "    border-color: transparent;\n",
              "    border-bottom-color: var(--fill-color);\n",
              "    animation:\n",
              "      spin 1s steps(1) infinite;\n",
              "  }\n",
              "\n",
              "  @keyframes spin {\n",
              "    0% {\n",
              "      border-color: transparent;\n",
              "      border-bottom-color: var(--fill-color);\n",
              "      border-left-color: var(--fill-color);\n",
              "    }\n",
              "    20% {\n",
              "      border-color: transparent;\n",
              "      border-left-color: var(--fill-color);\n",
              "      border-top-color: var(--fill-color);\n",
              "    }\n",
              "    30% {\n",
              "      border-color: transparent;\n",
              "      border-left-color: var(--fill-color);\n",
              "      border-top-color: var(--fill-color);\n",
              "      border-right-color: var(--fill-color);\n",
              "    }\n",
              "    40% {\n",
              "      border-color: transparent;\n",
              "      border-right-color: var(--fill-color);\n",
              "      border-top-color: var(--fill-color);\n",
              "    }\n",
              "    60% {\n",
              "      border-color: transparent;\n",
              "      border-right-color: var(--fill-color);\n",
              "    }\n",
              "    80% {\n",
              "      border-color: transparent;\n",
              "      border-right-color: var(--fill-color);\n",
              "      border-bottom-color: var(--fill-color);\n",
              "    }\n",
              "    90% {\n",
              "      border-color: transparent;\n",
              "      border-bottom-color: var(--fill-color);\n",
              "    }\n",
              "  }\n",
              "</style>\n",
              "\n",
              "  <script>\n",
              "    async function quickchart(key) {\n",
              "      const quickchartButtonEl =\n",
              "        document.querySelector('#' + key + ' button');\n",
              "      quickchartButtonEl.disabled = true;  // To prevent multiple clicks.\n",
              "      quickchartButtonEl.classList.add('colab-df-spinner');\n",
              "      try {\n",
              "        const charts = await google.colab.kernel.invokeFunction(\n",
              "            'suggestCharts', [key], {});\n",
              "      } catch (error) {\n",
              "        console.error('Error during call to suggestCharts:', error);\n",
              "      }\n",
              "      quickchartButtonEl.classList.remove('colab-df-spinner');\n",
              "      quickchartButtonEl.classList.add('colab-df-quickchart-complete');\n",
              "    }\n",
              "    (() => {\n",
              "      let quickchartButtonEl =\n",
              "        document.querySelector('#df-99963438-eef8-47d2-9d38-34c96d06cc0f button');\n",
              "      quickchartButtonEl.style.display =\n",
              "        google.colab.kernel.accessAllowed ? 'block' : 'none';\n",
              "    })();\n",
              "  </script>\n",
              "</div>\n",
              "\n",
              "    </div>\n",
              "  </div>\n"
            ],
            "application/vnd.google.colaboratory.intrinsic+json": {
              "type": "dataframe",
              "variable_name": "df_shuffled",
              "summary": "{\n  \"name\": \"df_shuffled\",\n  \"rows\": 962,\n  \"fields\": [\n    {\n      \"column\": \"Category\",\n      \"properties\": {\n        \"dtype\": \"category\",\n        \"num_unique_values\": 25,\n        \"samples\": [\n          \"Testing\",\n          \"Arts\",\n          \"Java Developer\"\n        ],\n        \"semantic_type\": \"\",\n        \"description\": \"\"\n      }\n    },\n    {\n      \"column\": \"Resume\",\n      \"properties\": {\n        \"dtype\": \"category\",\n        \"num_unique_values\": 166,\n        \"samples\": [\n          \"KEY SKILLS: \\u00e2\\u0080\\u00a2 Planning & Strategizing \\u00e2\\u0080\\u00a2 Presentation skill \\u00e2\\u0080\\u00a2 Client relationship \\u00e2\\u0080\\u00a2 Energy level \\u00e2\\u0080\\u00a2 Enquiry Generation \\u00e2\\u0080\\u00a2 Achieving Targets QUALIFICATIONS: A university in marketing or business studies is preferred or a minimum of three years of related experience in sales & marketing sector. Problem - solving and analytical skills to interpret sales performance and market trend information. Proven ability to motivate and lead the sales team. Experience in developing marketing and sales strategies. Excellent oral and written communication skills, plus a good working knowledge of Microsoft Office. Computer KNOWLEDGE \\u00e2\\u0080\\u00a2 Knowledge of MS Excel, MS Word, MS PowerPoint achievements and Interests \\u00e2\\u0080\\u00a2 I played Cricket for National Team (Maharashtra Cricket Association) \\u00e2\\u0080\\u00a2 Played Regional level Cricket Tournament Thee times for School team \\u00e2\\u0080\\u00a2 Worked as a Sports Secretary in college annual meet. \\u00e2\\u0080\\u00a2 Worked as a volunteer for road show in POONA College. \\u00e2\\u0080\\u00a2 Worked as a Group leader for college presentation. \\u00e2\\u0080\\u00a2 My Interest are Learning various computers languages & Tricks and Techniques of computer and Playing Cricket. personal Information . Education Details \\r\\n MBA Operations  Dr. D. Y. Patil College\\r\\n B.B.A. Marketing Pune, Maharashtra Poona College\\r\\n H. S. C.   Moledina high School & Jr. College\\r\\n S. S. C. Maharashtra Board  A.M.V.High School\\r\\nSales manager \\r\\n\\r\\nSales Manager\\r\\nSkill Details \\r\\nSALES- Exprience - 104 months\\r\\nMARKETING- Exprience - 97 months\\r\\nSALES TEAM- Exprience - 44 months\\r\\nAND SALES- Exprience - 6 months\\r\\nEXCEL- Exprience - 6 monthsCompany Details \\r\\ncompany - F2 Fun Fitness\\r\\ndescription - \\u00e2\\u0080\\u00a2\\tSet individual sales targets with sales team.\\r\\n\\r\\n\\u00e2\\u0080\\u00a2\\tHandling Enquiries.\\r\\n\\r\\n\\u00e2\\u0080\\u00a2\\tGenerating new enquiries\\r\\n\\r\\n\\u00e2\\u0080\\u00a2\\tSet individual sales targets with sales team.\\r\\n\\r\\n\\u00e2\\u0080\\u00a2\\tContinuously managing team performance.\\u00c2\\u00a0\\r\\n\\r\\n\\u00e2\\u0080\\u00a2\\tManaging staff training requirements.\\u00c2\\u00a0\\r\\n\\u00c2\\u00a0\\r\\n\\u00e2\\u0080\\u00a2\\tGenerate timely sales reports.\\r\\n\\u00e2\\u0080\\u00a2\\tOrganizing seasonal promotions and events.\\r\\n\\r\\n\\u00e2\\u0080\\u00a2\\tSupervise and motivate staff.\\r\\n\\r\\n\\u00e2\\u0080\\u00a2\\t\\u00c2\\u00a0\\u00c2\\u00a0Holds regular meeting with sales staff.\\r\\ncompany - Gold's Gym India Pvt Ltd\\r\\ndescription - JOB PROFILE:\\r\\n\\r\\n\\u00e2\\u0080\\u00a2 Set individual sales targets with sales team.\\r\\n\\r\\n\\u00e2\\u0080\\u00a2 Handling Enquiries.\\r\\n\\r\\n\\u00e2\\u0080\\u00a2 Generating new enquiries\\r\\n\\r\\n\\u00e2\\u0080\\u00a2 Set individual sales targets with sales team.\\r\\n\\r\\n\\u00e2\\u0080\\u00a2 Continuously managing team performance.\\r\\n\\r\\n\\u00e2\\u0080\\u00a2 Managing staff training requirements.\\r\\n\\r\\n\\u00e2\\u0080\\u00a2 Generate timely sales reports.\\r\\n\\u00e2\\u0080\\u00a2 Organizing seasonal promotions and events.\\r\\n\\r\\n\\u00e2\\u0080\\u00a2 Supervise and motivate staff.\\r\\n\\r\\n\\u00e2\\u0080\\u00a2 Holds regular meeting with sales staff.\\r\\ncompany - \\r\\ndescription - 10 to 24/2012\\r\\nAchievements: Joined as a sales associate in 2010. Promoted to Sales Manager 2012.\\r\\nExceeded sales targets with high level of contribution & dedication to the organization.\\r\\nApplauded for Best sales & marketing performance in Pune zone & Awarded the\\r\\n\\u00e2\\u0080\\u00a2    Certificate of Excellence & outstanding performance in the year 2014. Ranked as #1 sales manager (out of 6) in 2013 and 2014. Recognized for superior performance as a two-time district \\\"Employee of the Month\\\" honoree.\\r\\n\\r\\nJOB PROFILE:\\r\\n\\u00e2\\u0080\\u00a2 Build strategies and develop marketing initiative to create awareness of company services.\\r\\n\\u00e2\\u0080\\u00a2 Propose and execute the promotional programme to attract clients.\\r\\n\\u00e2\\u0080\\u00a2 Working with the team of four - six people thereby ensuring that targets defined are achieved.\\r\\n\\u00e2\\u0080\\u00a2 Arrange all the necessary & possible facilities for information desk.\\r\\n\\u00e2\\u0080\\u00a2 Manages personal and develops sales roles support staff.\\r\\n\\u00e2\\u0080\\u00a2 Reviews progress of sales roles throughout the company.\\r\\n\\u00e2\\u0080\\u00a2 Determine price schedules and discount rate.\\r\\n\\u00e2\\u0080\\u00a2 Generate timely sales reports.\\r\\n\\u00e2\\u0080\\u00a2 Control expenses and monitor budgets.\\r\\ncompany - Talwalkars Aspire Fitness Pvt Ltd\\r\\ndescription - \\r\\ncompany - Talwalkars Aspire Fitness Pvt Ltd\\r\\ndescription - \",\n          \"KEY SKILLS: \\u00e2\\u0080\\u00a2 Computerized accounting with tally \\u00e2\\u0080\\u00a2 Sincere & hard working \\u00e2\\u0080\\u00a2 Management accounting & income tax \\u00e2\\u0080\\u00a2 Good communication & leadership \\u00e2\\u0080\\u00a2 Two and four wheeler driving license \\u00e2\\u0080\\u00a2 Internet & Ecommerce management COMPUTER SKILLS: \\u00e2\\u0080\\u00a2 C Language \\u00e2\\u0080\\u00a2 Web programing \\u00e2\\u0080\\u00a2 Tally \\u00e2\\u0080\\u00a2 Dbms Education Details \\r\\nJune 2017 to June 2019 Mba Finance/hr India Mlrit\\r\\nJune 2014 to June 2017 Bcom Computer Hyderabad, Telangana Osmania university\\r\\nJune 2012 to April 2014 Inter MEC India Srimedhav\\r\\nHr \\r\\n\\r\\nNani\\r\\nSkill Details \\r\\naccounting- Exprience - 6 months\\r\\nDATABASE MANAGEMENT SYSTEM- Exprience - 6 months\\r\\nDbms- Exprience - 6 months\\r\\nManagement accounting- Exprience - 6 months\\r\\nEcommerce- Exprience - 6 monthsCompany Details \\r\\ncompany - Valuelabs\\r\\ndescription - They will give the RRF form the required DLT then the hand over to RLT then scrum master will take the form from the RLT then scrum master will give the forms to trainee which we can work on the requirement till the candidate receive the offer from the company\",\n          \"KEY COMPETENCIES \\u00e2\\u009c\\u00b6Multi - Operations Management\\u00e2\\u009c\\u00b6People Management \\u00e2\\u009c\\u00b6Customer Services - Emails \\u00e2\\u009c\\u00b6 MIS \\u00e2\\u009c\\u00b6Vendor & Client Services Management\\u00e2\\u009c\\u00b6Cross Functional Coordination\\u00e2\\u009c\\u00b6Banking & Financial Services\\u00e2\\u009c\\u00b6 Transaction Monitoring * ATM Operations \\u00e2\\u009c\\u00b6 & Prepaid Card Operations (Pre-Issuance & Post-Issuance) \\u00e2\\u009c\\u00b6 POS Operations * JOB PROFILE & SKILLS: \\u00e2\\u0080\\u00a2 An effective communicator with excellent relationship building & interpersonal skills. Strong analytical, problem solving & organizational abilities. \\u00e2\\u0080\\u00a2 Extensive experience in managing operations with demonstrated leadership qualities & organisational skills during the tenure. \\u00e2\\u0080\\u00a2 Managing customer centric operations & ensuring customer satisfaction by achieving service quality norms. \\u00e2\\u0080\\u00a2 Analyzing of all operational problems, customer complaints and take preventive and corrective actions to resolve the same. \\u00e2\\u0080\\u00a2 Receive and respond to Key customer inquiries in an effective manner and provide relevant and timely information. \\u00e2\\u0080\\u00a2 Deft in steering banking back-end operations, analyzing risks and managing delinquencies with dexterity across applying techniques for maximizing recoveries and minimizing credit losses. \\u00e2\\u0080\\u00a2 Analyzed & identified training needs of the team members and developing, organizing and conducting training programs and manage bottom quartile team to improve their performance. \\u00e2\\u0080\\u00a2 Preparing and maintaining daily MIS reports to evaluate the performance and efficiency of the process relate to various verticals. \\u00e2\\u0080\\u00a2 Measuring the performance of the processes in terms of efficiency and effectiveness matrix and ensuring adherence to SLA. \\u00e2\\u0080\\u00a2 Major Activities Define processes for Field Services were monitored and necessary checks were executed and controlled. Also measured Vendor SLA by analyzing the TAT of vendors & the Client SLA provided to us. \\u00e2\\u0080\\u00a2 As per company procedures, handling & ensuring vendor's payment issues to be sorted out &payments are processed on quarterly basis. \\u00e2\\u0080\\u00a2 Appropriately plan and execute each skill of operations in accordance with the department's policies and procedures. \\u00e2\\u0080\\u00a2 Manage relationships with business team, software development team and other services to achieve project objectives. Different software Worked till now: - a. CTL prime - Axis Bank Credit Cards b. Insight - For POS Machine technical operations for Amex (MID & TID Generation- ATOS (Venture Infotek) c. Ticket Management System - TATA Communications Private Services Ltd (ATM - NOC Operations) d. Branch Portal (Yalamanchili Software Exports Ltd) - Prepaid Cards (SBI Bank & Zaggle Prepaid Oceans Services Ltd) Zaggle Prepaid Ocean Services Pvt Ltd Oct, 2017 to Till Date Designation: Manager - Operations (Payment Industry - Prepaid Cards - INR) Education Details \\r\\n  Commerce Mumbai, Maharashtra Mumbai University\\r\\nOperations Manager \\r\\n\\r\\nService Manager - Operations (Payment Industry - Prepaid Cards - INR & FTC)\\r\\nSkill Details \\r\\nOPERATIONS- Exprience - 73 months\\r\\nSATISFACTION- Exprience - 48 months\\r\\nTRAINING- Exprience - 24 months\\r\\nNOC- Exprience - 23 months\\r\\nPOINT OF SALE- Exprience - 20 monthsCompany Details \\r\\ncompany - Zaggle Prepaid Ocean Services Pvt Ltd\\r\\ndescription - Card Operations\\r\\ncompany - Yalamanchili Software Exports Ltd\\r\\ndescription - 24*7 Operations Pvt Ltd) Dec 2015 to Feb 2017\\r\\n\\r\\nDesignation: Service Manager - Operations (Payment Industry - Prepaid Cards - INR & FTC)\\r\\n\\r\\nKey Contributions: \\u00e2\\u0080\\u00a2 A result-oriented business professional in planning, executing& managing processes, improving efficiency of operations, team building and detailing process information to determine effective result into operations.\\r\\n\\u00e2\\u0080\\u00a2 Ensuring PINs generation (SLA) is maintained and chargeback cases are raised in perfect timeframe.\\r\\n\\u00e2\\u0080\\u00a2 Managing email customer services properly and ensuring the emails are replied properly. Also, ensuring transaction monitoring is properly managed 24/7.\\r\\n\\u00e2\\u0080\\u00a2 Assisting Bankers (SBI & Associated Banks) for their BCP plans by getting executed in the system with the help of DR-PR plans & vice versa or any other business requirements.\\r\\n\\u00e2\\u0080\\u00a2 Expertise in maintaining highest level of quality in operations; ensuring adherence to all the quality parameters and procedures as per the stringent norms.\\r\\n\\u00e2\\u0080\\u00a2 Lead, manage and supervise the execution of external audit engagements and responsible for presenting the findings & developing a quality reports to the senior Management and Clients.\\r\\n\\u00e2\\u0080\\u00a2 Coach/mentor (20) team members to perform at a higher level by giving opportunities, providing timely continuous feedback and working with staff to improve their communication, time management, decision making, organization, and analytical skills.\\r\\n\\u00e2\\u0080\\u00a2 Providing the solutions and services to the client in their own premises with aforesaid count of team members.\\r\\n\\u00e2\\u0080\\u00a2 Also ensuring end to end process of PR & DR as per client requirements (PR- DR & DR -PR) by interacting with internal & external stakeholders.\\r\\n\\u00e2\\u0080\\u00a2 Determining process gaps and designing & conducting training programs to enhance operational efficiency and retain talent by providing optimum opportunities for personal and professional growth.\\r\\ncompany - Credit Cards\\r\\ndescription - Ensured highest standard of customer satisfaction and quality service; developing new policies and procedures to improve based on customer feedback and resolving customer queries via correspondence, inbound calls & email channels with the strength of (12-16) Team members.\\r\\ncompany - AGS Transact Technologies Limited\\r\\ndescription - Key Contributions: Lead - SPOC to Banks\\r\\ncompany - TATA Communications Payment Solutions Ltd\\r\\ndescription - To make ATMs operational within TAT by analyzing the issue is technical or non-technical and also by interacting with internal & external stakeholders.\\r\\ncompany - Vertex Customer Solutions India Private Ltd\\r\\ndescription - Key Contributions: \\u00e2\\u0080\\u00a2 Build positive working relationship with all team members and clients by keeping Management informed   of KYC document collection & con-current audit progress, responding timely to Management inquiries, understanding the business and conducting self professionally.\\r\\ncompany - Financial Inclusion Network & Operations Limited\\r\\ndescription - Key Contributions: POS-Operations \\u00e2\\u0080\\u00a2 Cascading the adherence of process is strictly followed by team members & training them to reduce the downtime.\\r\\n\\u00e2\\u0080\\u00a2 Managing Stock of EDC Terminals \\u00e2\\u0080\\u00a2 Managing Deployments of terminals through Multiple teams \\u00e2\\u0080\\u00a2 Would have worked with multiple terminal make & model \\u00e2\\u0080\\u00a2 Managing Inward, Outward & QC of applications installed in the POS machines.\\r\\ncompany - Venture Infotek Private Ltd\\r\\ndescription - Key Contributions: POS-Operations\\r\\ncompany - Axis Bank Ltd - Customer Services\\r\\ndescription - Aug 2006 to Oct 2009 (Ma-Foi&I- smart)\\r\\n\\r\\nDesignation: Team Leader/Executive - Emails, Phone Banking & Correspondence Unit (Snail Mails)\"\n        ],\n        \"semantic_type\": \"\",\n        \"description\": \"\"\n      }\n    }\n  ]\n}"
            }
          },
          "metadata": {},
          "execution_count": 3
        }
      ]
    },
    {
      "cell_type": "code",
      "source": [
        "# How many examples of each class?\n",
        "df.Category.value_counts()"
      ],
      "metadata": {
        "colab": {
          "base_uri": "https://localhost:8080/"
        },
        "id": "_wof5GJ5YKga",
        "outputId": "c7e365a8-2ad2-4add-d421-cade88155a94"
      },
      "execution_count": 4,
      "outputs": [
        {
          "output_type": "execute_result",
          "data": {
            "text/plain": [
              "Category\n",
              "Java Developer               84\n",
              "Testing                      70\n",
              "DevOps Engineer              55\n",
              "Python Developer             48\n",
              "Web Designing                45\n",
              "HR                           44\n",
              "Hadoop                       42\n",
              "Blockchain                   40\n",
              "ETL Developer                40\n",
              "Operations Manager           40\n",
              "Data Science                 40\n",
              "Sales                        40\n",
              "Mechanical Engineer          40\n",
              "Arts                         36\n",
              "Database                     33\n",
              "Electrical Engineering       30\n",
              "Health and fitness           30\n",
              "PMO                          30\n",
              "Business Analyst             28\n",
              "DotNet Developer             28\n",
              "Automation Testing           26\n",
              "Network Security Engineer    25\n",
              "SAP Developer                24\n",
              "Civil Engineer               24\n",
              "Advocate                     20\n",
              "Name: count, dtype: int64"
            ]
          },
          "metadata": {},
          "execution_count": 4
        }
      ]
    },
    {
      "cell_type": "code",
      "source": [
        "import plotly.express as px\n",
        "\n",
        "def dispay_expamples():\n",
        "  # Count the examples of each class\n",
        "  category_counts = df['Category'].value_counts()\n",
        "\n",
        "  # Create a pie chart\n",
        "  fig = px.pie(category_counts, values=category_counts.values, names=category_counts.index,\n",
        "              title='Distribution of Categories',\n",
        "              labels={'value': 'Count', 'names': 'Category'},\n",
        "              hole=0.4)\n",
        "\n",
        "  # Show the pie chart\n",
        "  fig.show()\n",
        "\n",
        "dispay_expamples()"
      ],
      "metadata": {
        "colab": {
          "base_uri": "https://localhost:8080/",
          "height": 542
        },
        "id": "sKKP15M1ejNl",
        "outputId": "2bf89adc-259b-40dd-d236-8a06310b7779"
      },
      "execution_count": 5,
      "outputs": [
        {
          "output_type": "display_data",
          "data": {
            "text/html": [
              "<html>\n",
              "<head><meta charset=\"utf-8\" /></head>\n",
              "<body>\n",
              "    <div>            <script src=\"https://cdnjs.cloudflare.com/ajax/libs/mathjax/2.7.5/MathJax.js?config=TeX-AMS-MML_SVG\"></script><script type=\"text/javascript\">if (window.MathJax && window.MathJax.Hub && window.MathJax.Hub.Config) {window.MathJax.Hub.Config({SVG: {font: \"STIX-Web\"}});}</script>                <script type=\"text/javascript\">window.PlotlyConfig = {MathJaxConfig: 'local'};</script>\n",
              "        <script charset=\"utf-8\" src=\"https://cdn.plot.ly/plotly-2.24.1.min.js\"></script>                <div id=\"b2c8a05e-7616-4aad-b8a7-ed2a7affc326\" class=\"plotly-graph-div\" style=\"height:525px; width:100%;\"></div>            <script type=\"text/javascript\">                                    window.PLOTLYENV=window.PLOTLYENV || {};                                    if (document.getElementById(\"b2c8a05e-7616-4aad-b8a7-ed2a7affc326\")) {                    Plotly.newPlot(                        \"b2c8a05e-7616-4aad-b8a7-ed2a7affc326\",                        [{\"domain\":{\"x\":[0.0,1.0],\"y\":[0.0,1.0]},\"hole\":0.4,\"hovertemplate\":\"Category=%{label}\\u003cbr\\u003evalue=%{value}\\u003cextra\\u003e\\u003c\\u002fextra\\u003e\",\"labels\":[\"Java Developer\",\"Testing\",\"DevOps Engineer\",\"Python Developer\",\"Web Designing\",\"HR\",\"Hadoop\",\"Blockchain\",\"ETL Developer\",\"Operations Manager\",\"Data Science\",\"Sales\",\"Mechanical Engineer\",\"Arts\",\"Database\",\"Electrical Engineering\",\"Health and fitness\",\"PMO\",\"Business Analyst\",\"DotNet Developer\",\"Automation Testing\",\"Network Security Engineer\",\"SAP Developer\",\"Civil Engineer\",\"Advocate\"],\"legendgroup\":\"\",\"name\":\"\",\"showlegend\":true,\"values\":[84,70,55,48,45,44,42,40,40,40,40,40,40,36,33,30,30,30,28,28,26,25,24,24,20],\"type\":\"pie\"}],                        {\"template\":{\"data\":{\"histogram2dcontour\":[{\"type\":\"histogram2dcontour\",\"colorbar\":{\"outlinewidth\":0,\"ticks\":\"\"},\"colorscale\":[[0.0,\"#0d0887\"],[0.1111111111111111,\"#46039f\"],[0.2222222222222222,\"#7201a8\"],[0.3333333333333333,\"#9c179e\"],[0.4444444444444444,\"#bd3786\"],[0.5555555555555556,\"#d8576b\"],[0.6666666666666666,\"#ed7953\"],[0.7777777777777778,\"#fb9f3a\"],[0.8888888888888888,\"#fdca26\"],[1.0,\"#f0f921\"]]}],\"choropleth\":[{\"type\":\"choropleth\",\"colorbar\":{\"outlinewidth\":0,\"ticks\":\"\"}}],\"histogram2d\":[{\"type\":\"histogram2d\",\"colorbar\":{\"outlinewidth\":0,\"ticks\":\"\"},\"colorscale\":[[0.0,\"#0d0887\"],[0.1111111111111111,\"#46039f\"],[0.2222222222222222,\"#7201a8\"],[0.3333333333333333,\"#9c179e\"],[0.4444444444444444,\"#bd3786\"],[0.5555555555555556,\"#d8576b\"],[0.6666666666666666,\"#ed7953\"],[0.7777777777777778,\"#fb9f3a\"],[0.8888888888888888,\"#fdca26\"],[1.0,\"#f0f921\"]]}],\"heatmap\":[{\"type\":\"heatmap\",\"colorbar\":{\"outlinewidth\":0,\"ticks\":\"\"},\"colorscale\":[[0.0,\"#0d0887\"],[0.1111111111111111,\"#46039f\"],[0.2222222222222222,\"#7201a8\"],[0.3333333333333333,\"#9c179e\"],[0.4444444444444444,\"#bd3786\"],[0.5555555555555556,\"#d8576b\"],[0.6666666666666666,\"#ed7953\"],[0.7777777777777778,\"#fb9f3a\"],[0.8888888888888888,\"#fdca26\"],[1.0,\"#f0f921\"]]}],\"heatmapgl\":[{\"type\":\"heatmapgl\",\"colorbar\":{\"outlinewidth\":0,\"ticks\":\"\"},\"colorscale\":[[0.0,\"#0d0887\"],[0.1111111111111111,\"#46039f\"],[0.2222222222222222,\"#7201a8\"],[0.3333333333333333,\"#9c179e\"],[0.4444444444444444,\"#bd3786\"],[0.5555555555555556,\"#d8576b\"],[0.6666666666666666,\"#ed7953\"],[0.7777777777777778,\"#fb9f3a\"],[0.8888888888888888,\"#fdca26\"],[1.0,\"#f0f921\"]]}],\"contourcarpet\":[{\"type\":\"contourcarpet\",\"colorbar\":{\"outlinewidth\":0,\"ticks\":\"\"}}],\"contour\":[{\"type\":\"contour\",\"colorbar\":{\"outlinewidth\":0,\"ticks\":\"\"},\"colorscale\":[[0.0,\"#0d0887\"],[0.1111111111111111,\"#46039f\"],[0.2222222222222222,\"#7201a8\"],[0.3333333333333333,\"#9c179e\"],[0.4444444444444444,\"#bd3786\"],[0.5555555555555556,\"#d8576b\"],[0.6666666666666666,\"#ed7953\"],[0.7777777777777778,\"#fb9f3a\"],[0.8888888888888888,\"#fdca26\"],[1.0,\"#f0f921\"]]}],\"surface\":[{\"type\":\"surface\",\"colorbar\":{\"outlinewidth\":0,\"ticks\":\"\"},\"colorscale\":[[0.0,\"#0d0887\"],[0.1111111111111111,\"#46039f\"],[0.2222222222222222,\"#7201a8\"],[0.3333333333333333,\"#9c179e\"],[0.4444444444444444,\"#bd3786\"],[0.5555555555555556,\"#d8576b\"],[0.6666666666666666,\"#ed7953\"],[0.7777777777777778,\"#fb9f3a\"],[0.8888888888888888,\"#fdca26\"],[1.0,\"#f0f921\"]]}],\"mesh3d\":[{\"type\":\"mesh3d\",\"colorbar\":{\"outlinewidth\":0,\"ticks\":\"\"}}],\"scatter\":[{\"fillpattern\":{\"fillmode\":\"overlay\",\"size\":10,\"solidity\":0.2},\"type\":\"scatter\"}],\"parcoords\":[{\"type\":\"parcoords\",\"line\":{\"colorbar\":{\"outlinewidth\":0,\"ticks\":\"\"}}}],\"scatterpolargl\":[{\"type\":\"scatterpolargl\",\"marker\":{\"colorbar\":{\"outlinewidth\":0,\"ticks\":\"\"}}}],\"bar\":[{\"error_x\":{\"color\":\"#2a3f5f\"},\"error_y\":{\"color\":\"#2a3f5f\"},\"marker\":{\"line\":{\"color\":\"#E5ECF6\",\"width\":0.5},\"pattern\":{\"fillmode\":\"overlay\",\"size\":10,\"solidity\":0.2}},\"type\":\"bar\"}],\"scattergeo\":[{\"type\":\"scattergeo\",\"marker\":{\"colorbar\":{\"outlinewidth\":0,\"ticks\":\"\"}}}],\"scatterpolar\":[{\"type\":\"scatterpolar\",\"marker\":{\"colorbar\":{\"outlinewidth\":0,\"ticks\":\"\"}}}],\"histogram\":[{\"marker\":{\"pattern\":{\"fillmode\":\"overlay\",\"size\":10,\"solidity\":0.2}},\"type\":\"histogram\"}],\"scattergl\":[{\"type\":\"scattergl\",\"marker\":{\"colorbar\":{\"outlinewidth\":0,\"ticks\":\"\"}}}],\"scatter3d\":[{\"type\":\"scatter3d\",\"line\":{\"colorbar\":{\"outlinewidth\":0,\"ticks\":\"\"}},\"marker\":{\"colorbar\":{\"outlinewidth\":0,\"ticks\":\"\"}}}],\"scattermapbox\":[{\"type\":\"scattermapbox\",\"marker\":{\"colorbar\":{\"outlinewidth\":0,\"ticks\":\"\"}}}],\"scatterternary\":[{\"type\":\"scatterternary\",\"marker\":{\"colorbar\":{\"outlinewidth\":0,\"ticks\":\"\"}}}],\"scattercarpet\":[{\"type\":\"scattercarpet\",\"marker\":{\"colorbar\":{\"outlinewidth\":0,\"ticks\":\"\"}}}],\"carpet\":[{\"aaxis\":{\"endlinecolor\":\"#2a3f5f\",\"gridcolor\":\"white\",\"linecolor\":\"white\",\"minorgridcolor\":\"white\",\"startlinecolor\":\"#2a3f5f\"},\"baxis\":{\"endlinecolor\":\"#2a3f5f\",\"gridcolor\":\"white\",\"linecolor\":\"white\",\"minorgridcolor\":\"white\",\"startlinecolor\":\"#2a3f5f\"},\"type\":\"carpet\"}],\"table\":[{\"cells\":{\"fill\":{\"color\":\"#EBF0F8\"},\"line\":{\"color\":\"white\"}},\"header\":{\"fill\":{\"color\":\"#C8D4E3\"},\"line\":{\"color\":\"white\"}},\"type\":\"table\"}],\"barpolar\":[{\"marker\":{\"line\":{\"color\":\"#E5ECF6\",\"width\":0.5},\"pattern\":{\"fillmode\":\"overlay\",\"size\":10,\"solidity\":0.2}},\"type\":\"barpolar\"}],\"pie\":[{\"automargin\":true,\"type\":\"pie\"}]},\"layout\":{\"autotypenumbers\":\"strict\",\"colorway\":[\"#636efa\",\"#EF553B\",\"#00cc96\",\"#ab63fa\",\"#FFA15A\",\"#19d3f3\",\"#FF6692\",\"#B6E880\",\"#FF97FF\",\"#FECB52\"],\"font\":{\"color\":\"#2a3f5f\"},\"hovermode\":\"closest\",\"hoverlabel\":{\"align\":\"left\"},\"paper_bgcolor\":\"white\",\"plot_bgcolor\":\"#E5ECF6\",\"polar\":{\"bgcolor\":\"#E5ECF6\",\"angularaxis\":{\"gridcolor\":\"white\",\"linecolor\":\"white\",\"ticks\":\"\"},\"radialaxis\":{\"gridcolor\":\"white\",\"linecolor\":\"white\",\"ticks\":\"\"}},\"ternary\":{\"bgcolor\":\"#E5ECF6\",\"aaxis\":{\"gridcolor\":\"white\",\"linecolor\":\"white\",\"ticks\":\"\"},\"baxis\":{\"gridcolor\":\"white\",\"linecolor\":\"white\",\"ticks\":\"\"},\"caxis\":{\"gridcolor\":\"white\",\"linecolor\":\"white\",\"ticks\":\"\"}},\"coloraxis\":{\"colorbar\":{\"outlinewidth\":0,\"ticks\":\"\"}},\"colorscale\":{\"sequential\":[[0.0,\"#0d0887\"],[0.1111111111111111,\"#46039f\"],[0.2222222222222222,\"#7201a8\"],[0.3333333333333333,\"#9c179e\"],[0.4444444444444444,\"#bd3786\"],[0.5555555555555556,\"#d8576b\"],[0.6666666666666666,\"#ed7953\"],[0.7777777777777778,\"#fb9f3a\"],[0.8888888888888888,\"#fdca26\"],[1.0,\"#f0f921\"]],\"sequentialminus\":[[0.0,\"#0d0887\"],[0.1111111111111111,\"#46039f\"],[0.2222222222222222,\"#7201a8\"],[0.3333333333333333,\"#9c179e\"],[0.4444444444444444,\"#bd3786\"],[0.5555555555555556,\"#d8576b\"],[0.6666666666666666,\"#ed7953\"],[0.7777777777777778,\"#fb9f3a\"],[0.8888888888888888,\"#fdca26\"],[1.0,\"#f0f921\"]],\"diverging\":[[0,\"#8e0152\"],[0.1,\"#c51b7d\"],[0.2,\"#de77ae\"],[0.3,\"#f1b6da\"],[0.4,\"#fde0ef\"],[0.5,\"#f7f7f7\"],[0.6,\"#e6f5d0\"],[0.7,\"#b8e186\"],[0.8,\"#7fbc41\"],[0.9,\"#4d9221\"],[1,\"#276419\"]]},\"xaxis\":{\"gridcolor\":\"white\",\"linecolor\":\"white\",\"ticks\":\"\",\"title\":{\"standoff\":15},\"zerolinecolor\":\"white\",\"automargin\":true,\"zerolinewidth\":2},\"yaxis\":{\"gridcolor\":\"white\",\"linecolor\":\"white\",\"ticks\":\"\",\"title\":{\"standoff\":15},\"zerolinecolor\":\"white\",\"automargin\":true,\"zerolinewidth\":2},\"scene\":{\"xaxis\":{\"backgroundcolor\":\"#E5ECF6\",\"gridcolor\":\"white\",\"linecolor\":\"white\",\"showbackground\":true,\"ticks\":\"\",\"zerolinecolor\":\"white\",\"gridwidth\":2},\"yaxis\":{\"backgroundcolor\":\"#E5ECF6\",\"gridcolor\":\"white\",\"linecolor\":\"white\",\"showbackground\":true,\"ticks\":\"\",\"zerolinecolor\":\"white\",\"gridwidth\":2},\"zaxis\":{\"backgroundcolor\":\"#E5ECF6\",\"gridcolor\":\"white\",\"linecolor\":\"white\",\"showbackground\":true,\"ticks\":\"\",\"zerolinecolor\":\"white\",\"gridwidth\":2}},\"shapedefaults\":{\"line\":{\"color\":\"#2a3f5f\"}},\"annotationdefaults\":{\"arrowcolor\":\"#2a3f5f\",\"arrowhead\":0,\"arrowwidth\":1},\"geo\":{\"bgcolor\":\"white\",\"landcolor\":\"#E5ECF6\",\"subunitcolor\":\"white\",\"showland\":true,\"showlakes\":true,\"lakecolor\":\"white\"},\"title\":{\"x\":0.05},\"mapbox\":{\"style\":\"light\"}}},\"legend\":{\"tracegroupgap\":0},\"title\":{\"text\":\"Distribution of Categories\"}},                        {\"responsive\": true}                    ).then(function(){\n",
              "                            \n",
              "var gd = document.getElementById('b2c8a05e-7616-4aad-b8a7-ed2a7affc326');\n",
              "var x = new MutationObserver(function (mutations, observer) {{\n",
              "        var display = window.getComputedStyle(gd).display;\n",
              "        if (!display || display === 'none') {{\n",
              "            console.log([gd, 'removed!']);\n",
              "            Plotly.purge(gd);\n",
              "            observer.disconnect();\n",
              "        }}\n",
              "}});\n",
              "\n",
              "// Listen for the removal of the full notebook cells\n",
              "var notebookContainer = gd.closest('#notebook-container');\n",
              "if (notebookContainer) {{\n",
              "    x.observe(notebookContainer, {childList: true});\n",
              "}}\n",
              "\n",
              "// Listen for the clearing of the current output cell\n",
              "var outputEl = gd.closest('.output');\n",
              "if (outputEl) {{\n",
              "    x.observe(outputEl, {childList: true});\n",
              "}}\n",
              "\n",
              "                        })                };                            </script>        </div>\n",
              "</body>\n",
              "</html>"
            ]
          },
          "metadata": {}
        }
      ]
    },
    {
      "cell_type": "code",
      "source": [
        "# How many samples total?\n",
        "len(df), len(df) , f\"Total number of samples {len(df) + len(df)}\""
      ],
      "metadata": {
        "colab": {
          "base_uri": "https://localhost:8080/"
        },
        "id": "hZS5Iv71YYds",
        "outputId": "e76d66ff-f3e5-4152-f27f-c55b47a43e52"
      },
      "execution_count": 6,
      "outputs": [
        {
          "output_type": "execute_result",
          "data": {
            "text/plain": [
              "(962, 962, 'Total number of samples 1924')"
            ]
          },
          "metadata": {},
          "execution_count": 6
        }
      ]
    },
    {
      "cell_type": "code",
      "source": [
        "# Let's visualize some random resume examples\n",
        "for i in range(3):\n",
        "    random_sample = df_shuffled.sample(1)\n",
        "    resume_text = random_sample['Resume'].values[0]\n",
        "    category = random_sample['Category'].values[0]\n",
        "\n",
        "    print(f\"Category: '{category}'\")\n",
        "    print(f\"Resume:\\n'{resume_text}'\\n\")\n",
        "    print(\"--------------------------\")"
      ],
      "metadata": {
        "colab": {
          "base_uri": "https://localhost:8080/"
        },
        "id": "3iZYMwDhaHmA",
        "outputId": "e065cbdd-6b7a-456a-8d7c-1c6fd3d9982b"
      },
      "execution_count": 7,
      "outputs": [
        {
          "output_type": "stream",
          "name": "stdout",
          "text": [
            "Category: 'DevOps Engineer'\n",
            "Resume:\n",
            "'CORE COMPETENCIES ~ Ant ~ Maven ~ GIT ~ Bitbucket ~ Jenkins ~ Linux ~ Ansible ~ Shell Scripting ~Requirement Gathering ~Continuous Integration and Continuous Deployment ~ Software Development Life Cycle ~ Software Testing Life Cycle ~ Documentation & Reporting ~ Test Reports IT SKILLS â¢ Primary Skills: Dev-ops methodologies â¢ Programming Languages: C, Core Java â¢ Version Controls: GIT, Bitbucket â¢ Build Tools: ANT, Maven â¢ CI/CD Tools: Jenkins â¢ Configuration management: Ansible â¢ Scripting: Shell Script â¢ Application Servers: Apache Tomcat serverEducation Details \r\n",
            "June 2015 to June 2017 Masters of science information technology Hyderabad, Telangana JNTU\r\n",
            "Devops Engineer \r\n",
            "\r\n",
            "Devops Engineer - Nendrasys Technologies Pvt Ltd\r\n",
            "Skill Details \r\n",
            "DEPLOYMENT- Exprience - 27 months\r\n",
            "Git- Exprience - 27 months\r\n",
            "DOCUMENTATION- Exprience - 26 months\r\n",
            "CHANGE MANAGEMENT- Exprience - 10 months\r\n",
            "CONFIGURATION MANAGEMENT- Exprience - 10 monthsCompany Details \r\n",
            "company - Nendrasys Technologies Pvt Ltd\r\n",
            "description - Date\r\n",
            "\r\n",
            "Project Description:\r\n",
            "The Scope of the project is to design & develop e-commerce product features for sloan project. It's a basically B2B project where customer can buy all fixers, sinks related product. It focuses on the company, the stakeholders and applications, which allow for online sales, distribution and marketing of product.\r\n",
            "\r\n",
            "Responsibilities:\r\n",
            "o Detailed technical Knowledge and hands-on experience on DevOps, Automation, Build Engineering and Configura -\r\n",
            "tion Management.\r\n",
            "o Creating fully automated CI build and deployment infrastructure and processes for multiple projects.\r\n",
            "o Developing scripts for build, deployment, maintenance and related tasks using Jenkins.\r\n",
            "o Installing, configuring and maintaining Continuous Integration, Automation and Configuration Management tools.\r\n",
            "o Developing Ant, Maven and Shell scripts to automatically compile, package, deploy WAR, EAR and JAR files of mul- tiple applications to various platforms.\r\n",
            "o Creating Repositories, branches, managing the permissions of users and maintaining GIT, Bitbucket\r\n",
            "o Deploying and maintaining the code and application respectively and configuring the components which increase the re-usability.\r\n",
            "o Working closely with Architecture, Development, Test, Security and IT Services teams.\r\n",
            "o Supporting Business Analysts in getting used to the newly created jobs and Release activities.\r\n",
            "o Communicating daily with On-Site Team\r\n",
            "o Analyzing the requirements and identifying gaps & tracking logs, issues.\r\n",
            "\r\n",
            "PROJECT 2\r\n",
            "\r\n",
            "Nendrasys Technologies Pvt Ltd.,\r\n",
            "Project Name: Bangkok Bank Limited (BBL) Thaitrade (Commercial, E-commerce & Payment portal)\r\n",
            "company - Nendrasys Technologies Pvt Ltd\r\n",
            "description - Role: Devops Engineer\r\n",
            "â¢ Devops Engineer for a team that involved different development teams and multiple simultaneous software re- leases\r\n",
            "â¢ Participated in weekly release meetings with different teams to identify and mitigate potential risks associated with the releases.\r\n",
            "â¢ Responsible for Creating Repositories, branches, managing the permissions of users and maintaining GIT.\r\n",
            "â¢ Creating fully automated CI build and deployment infrastructure and processes for multiple projects.\r\n",
            "â¢ Analyze and resolve conflicts related to merging of source code for GIT\r\n",
            "â¢ Responsible for creating Ant and Maven scripts for build automation.\r\n",
            "â¢ Implemented the setup for Master slave architecture to improve the Performance of Jenkins.\r\n",
            "â¢ Handled end-to-end deployments and code propagation's across different environments, DEV to PROD.\r\n",
            "â¢ Handled the tasks of developing and maintaining the Change Tasks.\r\n",
            "â¢ Closely working with Developers, QA, Performance, UAT testers, IT Team.\r\n",
            "â¢ Created and maintained documentation of build and release processes and application configuration\r\n",
            "â¢ Coordinated with developers, Business Analyst and Mangers to make sure that code is deployed in the Production\r\n",
            "environment.\r\n",
            "\r\n",
            "PROJECT 1\r\n",
            "Nendrasys Technologies Pvt Ltd.,\r\n",
            "Project Name: Sloan Global Holdings (Sloan) (E-commerce)\r\n",
            "company - Nendrasys Technologies Pvt Ltd\r\n",
            "description - Project Description:\r\n",
            "BBL is development of an e-commerce payment portal System. As such BBL require a system which can support multiple\r\n",
            "merchants B2B/B2C e-commerce portal with various payment options via both online and offline. To achieve this BBL had\r\n",
            "made an agreement with Thai Trade, Thai Trade is one of the leading e-commerce website recognized by Thai\r\n",
            "government. In present Thai trade has a good base of users and sellers in several categories .The scope of the project is to design and develop e-commerce product features for BBLWTP project. It focuses on the company, the stakeholders and\r\n",
            "applications, which allow for online sales, distribution and marketing of electronics.\r\n",
            "\r\n",
            "Responsibilities:\r\n",
            "o Plan and track activities involved for build and deployment.\r\n",
            "o Resolving build issues\r\n",
            "o Developing scripts for build, deployment, maintenance and related tasks using Jenkins.\r\n",
            "o Collaboration with Development, QA, Product managements on build plans & schedules\r\n",
            "o Send daily and weekly reports to the team.\r\n",
            "o Involved in creating repositories, branches, merging activities, backup and restore activities in subversion\r\n",
            "servers.\r\n",
            "o Maintenance of Maven, shell scripts for safe builds and deploys.'\n",
            "\n",
            "--------------------------\n",
            "Category: 'Java Developer'\n",
            "Resume:\n",
            "'Operating Systems Windows XP, 7, 10. Tools/Packages Visual Basic 6.0, UML, Packet Tracer Web technologies Core java, Advance java, JSP, Hibernate, Spring Languages known C, C++ Databases SQL AREAS OF INTEREST â¢ Software Development â¢ Programming Academic Projects Details Diploma: Title: Banking Software Description: We used GSM technology for transaction of message for a security purpose. Environment/OS: Windows XP Technologies used frontend: visual basic 6.0 Backend: oracle 9i BE: Title: Single Sign On Description: We have created \"single sign on\" mechanism for network security. Environment/OS: Windows 7 Technologies Used Frontend: java Backend: Oracle 10g ME: Title: Text Based Graphical Password To Overcome Shoulder Surfing Attacks Description: I have created a most secure password system using Random Printing Algo. Environment/OS: Windows 10 Technologies used: Frontend: Java Backend: MySQL Company: Title: Agriculture Management System Description: Created Web application for Agriculture system and Farming. Environment/OS: Windows 10 Technologies used: Frontend: Hibernate Backend: MySQL Education Details \r\n",
            "June 2015 to February 2018 ME(computers) computer Pune, Maharashtra Savitribai Phule Pune University\r\n",
            "June 2007 S.S.C.  Solapur, Maharashtra Maharashtra Secondary Board\r\n",
            "Java Developer \r\n",
            "\r\n",
            "Java Developer\r\n",
            "Skill Details \r\n",
            "JAVA- Exprience - 6 months\r\n",
            "DATABASES- Exprience - 6 months\r\n",
            "Hibernate- Exprience - Less than 1 year months\r\n",
            "Jsp- Exprience - Less than 1 year months\r\n",
            "Servlet- Exprience - Less than 1 year monthsCompany Details \r\n",
            "company - Maxgen Technologies Pvt.Ltd.\r\n",
            "description - 1. Working as a java developer over Hibernate technology. Developing web application using JSP servlet and hibernate.\r\n",
            "company - Prakshal IT academy\r\n",
            "description - I was working as a trainer. I have taught A+, N+ CCNA(routing and switching).'\n",
            "\n",
            "--------------------------\n",
            "Category: 'Advocate'\n",
            "Resume:\n",
            "'SKILLS â¢ Knows English as native speaker (IELTS Overall 8; Listening 8, Reading 8, Writing 7 and Speaking 8.5); Hindi with bilingual proficiency and Punjabi as native speaker. â¢ Able to communicate clearly and concisely with people of diverse backgrounds and levels of authority. â¢ Exceptional knowledge of administrative procedures, evidence rules and trials. â¢ Can maintain a professional attitude with peers, co-workers and clients at all times. â¢ Focused and driven to always meet deadlines for pretrial procedures, trials and appellate briefings by effectively utilizing resources. â¢ A Microsoft Certified Systems Engineer (2008) and very much Competent in Windows and Word processing software Education Details \r\n",
            "July 2009 to May 2012 Bachelor's Laws Bikaner, Rajasthan Maharaja Ganga Singh University\r\n",
            "August 2008 to November 2008 Microsoft Certified Systems Engineer Networking Chandigarh \r\n",
            "July 2005 to April 2008 Bachelor's of Science Bio-Informatics Chandigarh, Chandigarh Panjab University\r\n",
            "Advocate \r\n",
            "\r\n",
            "Newcomer Indian Advocate\r\n",
            "Skill Details \r\n",
            "Administration- Exprience - 72 months\r\n",
            "Legal Research- Exprience - 72 months\r\n",
            "Microsoft Office- Exprience - 72 months\r\n",
            "Drafting- Exprience - 72 monthsCompany Details \r\n",
            "company - District Courts\r\n",
            "description - Key Features\r\n",
            "\r\n",
            "â¢ Licensed Advocate in practice from 16-Aug-2012 (Bar Council of Punjab & Haryana, Chandigarh).\r\n",
            "â¢ Admitted to practice at District Courts, Mansa since 18-Aug-2012.\r\n",
            "â¢ Successfully passed the All India Bar Examination (AIBE) conducted by Bar Council of India (BCI) in September, 2013.\r\n",
            "â¢ Lead/Sole Counsel for plaintiff and respondents in number of criminal/civil trials.\r\n",
            "â¢ Since 2012, have prepared and prosecuted to conclusion, either by trial or settlement, number of claim cases involving personal injury or death cases.\r\n",
            "â¢ Working on the Panel of District Legal Services Authority, Mansa run under the supervision of National Legal Services Authority, India.\r\n",
            "â¢ Former Co-Opted Member Administrative Committee, Punjab.\r\n",
            "â¢ Former Joint Secretary at District Bar Association, Mansa (2017-18).\r\n",
            "\r\n",
            "Job Duties\r\n",
            "\r\n",
            "â¢ Advice clients of their legal rights and all matters related to law.\r\n",
            "â¢ Plead clients' cases which include various International companies, before courts of law, forums, tribunals and boards.\r\n",
            "â¢ Researching legal precedents, gathering evidence and trials of criminal, Injury and death compensation claims and others.\r\n",
            "â¢ Draw up legal documents such as bail petitions, appeals, divorces and contracts etc.\r\n",
            "â¢ Negotiates settlements of civil disputes.\r\n",
            "â¢ Act as mediator, conciliator, local commissioner or arbitrator as per Court orders\r\n",
            "â¢ Managing a private practice for more than 6 years, including all aspects of administration and management functions, controlling costs and achieving objectives related to the practice of law.'\n",
            "\n",
            "--------------------------\n"
          ]
        }
      ]
    },
    {
      "cell_type": "markdown",
      "source": [
        "##Split data into training and validation sets"
      ],
      "metadata": {
        "id": "6oEId1gtfmGr"
      }
    },
    {
      "cell_type": "code",
      "source": [
        "df_shuffled.head(2)"
      ],
      "metadata": {
        "colab": {
          "base_uri": "https://localhost:8080/",
          "height": 112
        },
        "id": "n7OuqTKvf3Hb",
        "outputId": "ebd3695d-e336-4fea-de72-160aeb5d0115"
      },
      "execution_count": 8,
      "outputs": [
        {
          "output_type": "execute_result",
          "data": {
            "text/plain": [
              "           Category                                             Resume\n",
              "344  Java Developer  TECHNICAL SKILLS Programming Languages: Java (...\n",
              "381  Java Developer  TECHNICALSKILLS SpringMVC, Hibernate, JDBC, Ja..."
            ],
            "text/html": [
              "\n",
              "  <div id=\"df-578e31c4-312b-4433-82fd-1a3da335d32b\" class=\"colab-df-container\">\n",
              "    <div>\n",
              "<style scoped>\n",
              "    .dataframe tbody tr th:only-of-type {\n",
              "        vertical-align: middle;\n",
              "    }\n",
              "\n",
              "    .dataframe tbody tr th {\n",
              "        vertical-align: top;\n",
              "    }\n",
              "\n",
              "    .dataframe thead th {\n",
              "        text-align: right;\n",
              "    }\n",
              "</style>\n",
              "<table border=\"1\" class=\"dataframe\">\n",
              "  <thead>\n",
              "    <tr style=\"text-align: right;\">\n",
              "      <th></th>\n",
              "      <th>Category</th>\n",
              "      <th>Resume</th>\n",
              "    </tr>\n",
              "  </thead>\n",
              "  <tbody>\n",
              "    <tr>\n",
              "      <th>344</th>\n",
              "      <td>Java Developer</td>\n",
              "      <td>TECHNICAL SKILLS Programming Languages: Java (...</td>\n",
              "    </tr>\n",
              "    <tr>\n",
              "      <th>381</th>\n",
              "      <td>Java Developer</td>\n",
              "      <td>TECHNICALSKILLS SpringMVC, Hibernate, JDBC, Ja...</td>\n",
              "    </tr>\n",
              "  </tbody>\n",
              "</table>\n",
              "</div>\n",
              "    <div class=\"colab-df-buttons\">\n",
              "\n",
              "  <div class=\"colab-df-container\">\n",
              "    <button class=\"colab-df-convert\" onclick=\"convertToInteractive('df-578e31c4-312b-4433-82fd-1a3da335d32b')\"\n",
              "            title=\"Convert this dataframe to an interactive table.\"\n",
              "            style=\"display:none;\">\n",
              "\n",
              "  <svg xmlns=\"http://www.w3.org/2000/svg\" height=\"24px\" viewBox=\"0 -960 960 960\">\n",
              "    <path d=\"M120-120v-720h720v720H120Zm60-500h600v-160H180v160Zm220 220h160v-160H400v160Zm0 220h160v-160H400v160ZM180-400h160v-160H180v160Zm440 0h160v-160H620v160ZM180-180h160v-160H180v160Zm440 0h160v-160H620v160Z\"/>\n",
              "  </svg>\n",
              "    </button>\n",
              "\n",
              "  <style>\n",
              "    .colab-df-container {\n",
              "      display:flex;\n",
              "      gap: 12px;\n",
              "    }\n",
              "\n",
              "    .colab-df-convert {\n",
              "      background-color: #E8F0FE;\n",
              "      border: none;\n",
              "      border-radius: 50%;\n",
              "      cursor: pointer;\n",
              "      display: none;\n",
              "      fill: #1967D2;\n",
              "      height: 32px;\n",
              "      padding: 0 0 0 0;\n",
              "      width: 32px;\n",
              "    }\n",
              "\n",
              "    .colab-df-convert:hover {\n",
              "      background-color: #E2EBFA;\n",
              "      box-shadow: 0px 1px 2px rgba(60, 64, 67, 0.3), 0px 1px 3px 1px rgba(60, 64, 67, 0.15);\n",
              "      fill: #174EA6;\n",
              "    }\n",
              "\n",
              "    .colab-df-buttons div {\n",
              "      margin-bottom: 4px;\n",
              "    }\n",
              "\n",
              "    [theme=dark] .colab-df-convert {\n",
              "      background-color: #3B4455;\n",
              "      fill: #D2E3FC;\n",
              "    }\n",
              "\n",
              "    [theme=dark] .colab-df-convert:hover {\n",
              "      background-color: #434B5C;\n",
              "      box-shadow: 0px 1px 3px 1px rgba(0, 0, 0, 0.15);\n",
              "      filter: drop-shadow(0px 1px 2px rgba(0, 0, 0, 0.3));\n",
              "      fill: #FFFFFF;\n",
              "    }\n",
              "  </style>\n",
              "\n",
              "    <script>\n",
              "      const buttonEl =\n",
              "        document.querySelector('#df-578e31c4-312b-4433-82fd-1a3da335d32b button.colab-df-convert');\n",
              "      buttonEl.style.display =\n",
              "        google.colab.kernel.accessAllowed ? 'block' : 'none';\n",
              "\n",
              "      async function convertToInteractive(key) {\n",
              "        const element = document.querySelector('#df-578e31c4-312b-4433-82fd-1a3da335d32b');\n",
              "        const dataTable =\n",
              "          await google.colab.kernel.invokeFunction('convertToInteractive',\n",
              "                                                    [key], {});\n",
              "        if (!dataTable) return;\n",
              "\n",
              "        const docLinkHtml = 'Like what you see? Visit the ' +\n",
              "          '<a target=\"_blank\" href=https://colab.research.google.com/notebooks/data_table.ipynb>data table notebook</a>'\n",
              "          + ' to learn more about interactive tables.';\n",
              "        element.innerHTML = '';\n",
              "        dataTable['output_type'] = 'display_data';\n",
              "        await google.colab.output.renderOutput(dataTable, element);\n",
              "        const docLink = document.createElement('div');\n",
              "        docLink.innerHTML = docLinkHtml;\n",
              "        element.appendChild(docLink);\n",
              "      }\n",
              "    </script>\n",
              "  </div>\n",
              "\n",
              "\n",
              "<div id=\"df-79f8a2f7-3543-4fdc-a69f-324db92216ab\">\n",
              "  <button class=\"colab-df-quickchart\" onclick=\"quickchart('df-79f8a2f7-3543-4fdc-a69f-324db92216ab')\"\n",
              "            title=\"Suggest charts\"\n",
              "            style=\"display:none;\">\n",
              "\n",
              "<svg xmlns=\"http://www.w3.org/2000/svg\" height=\"24px\"viewBox=\"0 0 24 24\"\n",
              "     width=\"24px\">\n",
              "    <g>\n",
              "        <path d=\"M19 3H5c-1.1 0-2 .9-2 2v14c0 1.1.9 2 2 2h14c1.1 0 2-.9 2-2V5c0-1.1-.9-2-2-2zM9 17H7v-7h2v7zm4 0h-2V7h2v10zm4 0h-2v-4h2v4z\"/>\n",
              "    </g>\n",
              "</svg>\n",
              "  </button>\n",
              "\n",
              "<style>\n",
              "  .colab-df-quickchart {\n",
              "      --bg-color: #E8F0FE;\n",
              "      --fill-color: #1967D2;\n",
              "      --hover-bg-color: #E2EBFA;\n",
              "      --hover-fill-color: #174EA6;\n",
              "      --disabled-fill-color: #AAA;\n",
              "      --disabled-bg-color: #DDD;\n",
              "  }\n",
              "\n",
              "  [theme=dark] .colab-df-quickchart {\n",
              "      --bg-color: #3B4455;\n",
              "      --fill-color: #D2E3FC;\n",
              "      --hover-bg-color: #434B5C;\n",
              "      --hover-fill-color: #FFFFFF;\n",
              "      --disabled-bg-color: #3B4455;\n",
              "      --disabled-fill-color: #666;\n",
              "  }\n",
              "\n",
              "  .colab-df-quickchart {\n",
              "    background-color: var(--bg-color);\n",
              "    border: none;\n",
              "    border-radius: 50%;\n",
              "    cursor: pointer;\n",
              "    display: none;\n",
              "    fill: var(--fill-color);\n",
              "    height: 32px;\n",
              "    padding: 0;\n",
              "    width: 32px;\n",
              "  }\n",
              "\n",
              "  .colab-df-quickchart:hover {\n",
              "    background-color: var(--hover-bg-color);\n",
              "    box-shadow: 0 1px 2px rgba(60, 64, 67, 0.3), 0 1px 3px 1px rgba(60, 64, 67, 0.15);\n",
              "    fill: var(--button-hover-fill-color);\n",
              "  }\n",
              "\n",
              "  .colab-df-quickchart-complete:disabled,\n",
              "  .colab-df-quickchart-complete:disabled:hover {\n",
              "    background-color: var(--disabled-bg-color);\n",
              "    fill: var(--disabled-fill-color);\n",
              "    box-shadow: none;\n",
              "  }\n",
              "\n",
              "  .colab-df-spinner {\n",
              "    border: 2px solid var(--fill-color);\n",
              "    border-color: transparent;\n",
              "    border-bottom-color: var(--fill-color);\n",
              "    animation:\n",
              "      spin 1s steps(1) infinite;\n",
              "  }\n",
              "\n",
              "  @keyframes spin {\n",
              "    0% {\n",
              "      border-color: transparent;\n",
              "      border-bottom-color: var(--fill-color);\n",
              "      border-left-color: var(--fill-color);\n",
              "    }\n",
              "    20% {\n",
              "      border-color: transparent;\n",
              "      border-left-color: var(--fill-color);\n",
              "      border-top-color: var(--fill-color);\n",
              "    }\n",
              "    30% {\n",
              "      border-color: transparent;\n",
              "      border-left-color: var(--fill-color);\n",
              "      border-top-color: var(--fill-color);\n",
              "      border-right-color: var(--fill-color);\n",
              "    }\n",
              "    40% {\n",
              "      border-color: transparent;\n",
              "      border-right-color: var(--fill-color);\n",
              "      border-top-color: var(--fill-color);\n",
              "    }\n",
              "    60% {\n",
              "      border-color: transparent;\n",
              "      border-right-color: var(--fill-color);\n",
              "    }\n",
              "    80% {\n",
              "      border-color: transparent;\n",
              "      border-right-color: var(--fill-color);\n",
              "      border-bottom-color: var(--fill-color);\n",
              "    }\n",
              "    90% {\n",
              "      border-color: transparent;\n",
              "      border-bottom-color: var(--fill-color);\n",
              "    }\n",
              "  }\n",
              "</style>\n",
              "\n",
              "  <script>\n",
              "    async function quickchart(key) {\n",
              "      const quickchartButtonEl =\n",
              "        document.querySelector('#' + key + ' button');\n",
              "      quickchartButtonEl.disabled = true;  // To prevent multiple clicks.\n",
              "      quickchartButtonEl.classList.add('colab-df-spinner');\n",
              "      try {\n",
              "        const charts = await google.colab.kernel.invokeFunction(\n",
              "            'suggestCharts', [key], {});\n",
              "      } catch (error) {\n",
              "        console.error('Error during call to suggestCharts:', error);\n",
              "      }\n",
              "      quickchartButtonEl.classList.remove('colab-df-spinner');\n",
              "      quickchartButtonEl.classList.add('colab-df-quickchart-complete');\n",
              "    }\n",
              "    (() => {\n",
              "      let quickchartButtonEl =\n",
              "        document.querySelector('#df-79f8a2f7-3543-4fdc-a69f-324db92216ab button');\n",
              "      quickchartButtonEl.style.display =\n",
              "        google.colab.kernel.accessAllowed ? 'block' : 'none';\n",
              "    })();\n",
              "  </script>\n",
              "</div>\n",
              "\n",
              "    </div>\n",
              "  </div>\n"
            ],
            "application/vnd.google.colaboratory.intrinsic+json": {
              "type": "dataframe",
              "variable_name": "df_shuffled",
              "summary": "{\n  \"name\": \"df_shuffled\",\n  \"rows\": 962,\n  \"fields\": [\n    {\n      \"column\": \"Category\",\n      \"properties\": {\n        \"dtype\": \"category\",\n        \"num_unique_values\": 25,\n        \"samples\": [\n          \"Testing\",\n          \"Arts\",\n          \"Java Developer\"\n        ],\n        \"semantic_type\": \"\",\n        \"description\": \"\"\n      }\n    },\n    {\n      \"column\": \"Resume\",\n      \"properties\": {\n        \"dtype\": \"category\",\n        \"num_unique_values\": 166,\n        \"samples\": [\n          \"KEY SKILLS: \\u00e2\\u0080\\u00a2 Planning & Strategizing \\u00e2\\u0080\\u00a2 Presentation skill \\u00e2\\u0080\\u00a2 Client relationship \\u00e2\\u0080\\u00a2 Energy level \\u00e2\\u0080\\u00a2 Enquiry Generation \\u00e2\\u0080\\u00a2 Achieving Targets QUALIFICATIONS: A university in marketing or business studies is preferred or a minimum of three years of related experience in sales & marketing sector. Problem - solving and analytical skills to interpret sales performance and market trend information. Proven ability to motivate and lead the sales team. Experience in developing marketing and sales strategies. Excellent oral and written communication skills, plus a good working knowledge of Microsoft Office. Computer KNOWLEDGE \\u00e2\\u0080\\u00a2 Knowledge of MS Excel, MS Word, MS PowerPoint achievements and Interests \\u00e2\\u0080\\u00a2 I played Cricket for National Team (Maharashtra Cricket Association) \\u00e2\\u0080\\u00a2 Played Regional level Cricket Tournament Thee times for School team \\u00e2\\u0080\\u00a2 Worked as a Sports Secretary in college annual meet. \\u00e2\\u0080\\u00a2 Worked as a volunteer for road show in POONA College. \\u00e2\\u0080\\u00a2 Worked as a Group leader for college presentation. \\u00e2\\u0080\\u00a2 My Interest are Learning various computers languages & Tricks and Techniques of computer and Playing Cricket. personal Information . Education Details \\r\\n MBA Operations  Dr. D. Y. Patil College\\r\\n B.B.A. Marketing Pune, Maharashtra Poona College\\r\\n H. S. C.   Moledina high School & Jr. College\\r\\n S. S. C. Maharashtra Board  A.M.V.High School\\r\\nSales manager \\r\\n\\r\\nSales Manager\\r\\nSkill Details \\r\\nSALES- Exprience - 104 months\\r\\nMARKETING- Exprience - 97 months\\r\\nSALES TEAM- Exprience - 44 months\\r\\nAND SALES- Exprience - 6 months\\r\\nEXCEL- Exprience - 6 monthsCompany Details \\r\\ncompany - F2 Fun Fitness\\r\\ndescription - \\u00e2\\u0080\\u00a2\\tSet individual sales targets with sales team.\\r\\n\\r\\n\\u00e2\\u0080\\u00a2\\tHandling Enquiries.\\r\\n\\r\\n\\u00e2\\u0080\\u00a2\\tGenerating new enquiries\\r\\n\\r\\n\\u00e2\\u0080\\u00a2\\tSet individual sales targets with sales team.\\r\\n\\r\\n\\u00e2\\u0080\\u00a2\\tContinuously managing team performance.\\u00c2\\u00a0\\r\\n\\r\\n\\u00e2\\u0080\\u00a2\\tManaging staff training requirements.\\u00c2\\u00a0\\r\\n\\u00c2\\u00a0\\r\\n\\u00e2\\u0080\\u00a2\\tGenerate timely sales reports.\\r\\n\\u00e2\\u0080\\u00a2\\tOrganizing seasonal promotions and events.\\r\\n\\r\\n\\u00e2\\u0080\\u00a2\\tSupervise and motivate staff.\\r\\n\\r\\n\\u00e2\\u0080\\u00a2\\t\\u00c2\\u00a0\\u00c2\\u00a0Holds regular meeting with sales staff.\\r\\ncompany - Gold's Gym India Pvt Ltd\\r\\ndescription - JOB PROFILE:\\r\\n\\r\\n\\u00e2\\u0080\\u00a2 Set individual sales targets with sales team.\\r\\n\\r\\n\\u00e2\\u0080\\u00a2 Handling Enquiries.\\r\\n\\r\\n\\u00e2\\u0080\\u00a2 Generating new enquiries\\r\\n\\r\\n\\u00e2\\u0080\\u00a2 Set individual sales targets with sales team.\\r\\n\\r\\n\\u00e2\\u0080\\u00a2 Continuously managing team performance.\\r\\n\\r\\n\\u00e2\\u0080\\u00a2 Managing staff training requirements.\\r\\n\\r\\n\\u00e2\\u0080\\u00a2 Generate timely sales reports.\\r\\n\\u00e2\\u0080\\u00a2 Organizing seasonal promotions and events.\\r\\n\\r\\n\\u00e2\\u0080\\u00a2 Supervise and motivate staff.\\r\\n\\r\\n\\u00e2\\u0080\\u00a2 Holds regular meeting with sales staff.\\r\\ncompany - \\r\\ndescription - 10 to 24/2012\\r\\nAchievements: Joined as a sales associate in 2010. Promoted to Sales Manager 2012.\\r\\nExceeded sales targets with high level of contribution & dedication to the organization.\\r\\nApplauded for Best sales & marketing performance in Pune zone & Awarded the\\r\\n\\u00e2\\u0080\\u00a2    Certificate of Excellence & outstanding performance in the year 2014. Ranked as #1 sales manager (out of 6) in 2013 and 2014. Recognized for superior performance as a two-time district \\\"Employee of the Month\\\" honoree.\\r\\n\\r\\nJOB PROFILE:\\r\\n\\u00e2\\u0080\\u00a2 Build strategies and develop marketing initiative to create awareness of company services.\\r\\n\\u00e2\\u0080\\u00a2 Propose and execute the promotional programme to attract clients.\\r\\n\\u00e2\\u0080\\u00a2 Working with the team of four - six people thereby ensuring that targets defined are achieved.\\r\\n\\u00e2\\u0080\\u00a2 Arrange all the necessary & possible facilities for information desk.\\r\\n\\u00e2\\u0080\\u00a2 Manages personal and develops sales roles support staff.\\r\\n\\u00e2\\u0080\\u00a2 Reviews progress of sales roles throughout the company.\\r\\n\\u00e2\\u0080\\u00a2 Determine price schedules and discount rate.\\r\\n\\u00e2\\u0080\\u00a2 Generate timely sales reports.\\r\\n\\u00e2\\u0080\\u00a2 Control expenses and monitor budgets.\\r\\ncompany - Talwalkars Aspire Fitness Pvt Ltd\\r\\ndescription - \\r\\ncompany - Talwalkars Aspire Fitness Pvt Ltd\\r\\ndescription - \",\n          \"KEY SKILLS: \\u00e2\\u0080\\u00a2 Computerized accounting with tally \\u00e2\\u0080\\u00a2 Sincere & hard working \\u00e2\\u0080\\u00a2 Management accounting & income tax \\u00e2\\u0080\\u00a2 Good communication & leadership \\u00e2\\u0080\\u00a2 Two and four wheeler driving license \\u00e2\\u0080\\u00a2 Internet & Ecommerce management COMPUTER SKILLS: \\u00e2\\u0080\\u00a2 C Language \\u00e2\\u0080\\u00a2 Web programing \\u00e2\\u0080\\u00a2 Tally \\u00e2\\u0080\\u00a2 Dbms Education Details \\r\\nJune 2017 to June 2019 Mba Finance/hr India Mlrit\\r\\nJune 2014 to June 2017 Bcom Computer Hyderabad, Telangana Osmania university\\r\\nJune 2012 to April 2014 Inter MEC India Srimedhav\\r\\nHr \\r\\n\\r\\nNani\\r\\nSkill Details \\r\\naccounting- Exprience - 6 months\\r\\nDATABASE MANAGEMENT SYSTEM- Exprience - 6 months\\r\\nDbms- Exprience - 6 months\\r\\nManagement accounting- Exprience - 6 months\\r\\nEcommerce- Exprience - 6 monthsCompany Details \\r\\ncompany - Valuelabs\\r\\ndescription - They will give the RRF form the required DLT then the hand over to RLT then scrum master will take the form from the RLT then scrum master will give the forms to trainee which we can work on the requirement till the candidate receive the offer from the company\",\n          \"KEY COMPETENCIES \\u00e2\\u009c\\u00b6Multi - Operations Management\\u00e2\\u009c\\u00b6People Management \\u00e2\\u009c\\u00b6Customer Services - Emails \\u00e2\\u009c\\u00b6 MIS \\u00e2\\u009c\\u00b6Vendor & Client Services Management\\u00e2\\u009c\\u00b6Cross Functional Coordination\\u00e2\\u009c\\u00b6Banking & Financial Services\\u00e2\\u009c\\u00b6 Transaction Monitoring * ATM Operations \\u00e2\\u009c\\u00b6 & Prepaid Card Operations (Pre-Issuance & Post-Issuance) \\u00e2\\u009c\\u00b6 POS Operations * JOB PROFILE & SKILLS: \\u00e2\\u0080\\u00a2 An effective communicator with excellent relationship building & interpersonal skills. Strong analytical, problem solving & organizational abilities. \\u00e2\\u0080\\u00a2 Extensive experience in managing operations with demonstrated leadership qualities & organisational skills during the tenure. \\u00e2\\u0080\\u00a2 Managing customer centric operations & ensuring customer satisfaction by achieving service quality norms. \\u00e2\\u0080\\u00a2 Analyzing of all operational problems, customer complaints and take preventive and corrective actions to resolve the same. \\u00e2\\u0080\\u00a2 Receive and respond to Key customer inquiries in an effective manner and provide relevant and timely information. \\u00e2\\u0080\\u00a2 Deft in steering banking back-end operations, analyzing risks and managing delinquencies with dexterity across applying techniques for maximizing recoveries and minimizing credit losses. \\u00e2\\u0080\\u00a2 Analyzed & identified training needs of the team members and developing, organizing and conducting training programs and manage bottom quartile team to improve their performance. \\u00e2\\u0080\\u00a2 Preparing and maintaining daily MIS reports to evaluate the performance and efficiency of the process relate to various verticals. \\u00e2\\u0080\\u00a2 Measuring the performance of the processes in terms of efficiency and effectiveness matrix and ensuring adherence to SLA. \\u00e2\\u0080\\u00a2 Major Activities Define processes for Field Services were monitored and necessary checks were executed and controlled. Also measured Vendor SLA by analyzing the TAT of vendors & the Client SLA provided to us. \\u00e2\\u0080\\u00a2 As per company procedures, handling & ensuring vendor's payment issues to be sorted out &payments are processed on quarterly basis. \\u00e2\\u0080\\u00a2 Appropriately plan and execute each skill of operations in accordance with the department's policies and procedures. \\u00e2\\u0080\\u00a2 Manage relationships with business team, software development team and other services to achieve project objectives. Different software Worked till now: - a. CTL prime - Axis Bank Credit Cards b. Insight - For POS Machine technical operations for Amex (MID & TID Generation- ATOS (Venture Infotek) c. Ticket Management System - TATA Communications Private Services Ltd (ATM - NOC Operations) d. Branch Portal (Yalamanchili Software Exports Ltd) - Prepaid Cards (SBI Bank & Zaggle Prepaid Oceans Services Ltd) Zaggle Prepaid Ocean Services Pvt Ltd Oct, 2017 to Till Date Designation: Manager - Operations (Payment Industry - Prepaid Cards - INR) Education Details \\r\\n  Commerce Mumbai, Maharashtra Mumbai University\\r\\nOperations Manager \\r\\n\\r\\nService Manager - Operations (Payment Industry - Prepaid Cards - INR & FTC)\\r\\nSkill Details \\r\\nOPERATIONS- Exprience - 73 months\\r\\nSATISFACTION- Exprience - 48 months\\r\\nTRAINING- Exprience - 24 months\\r\\nNOC- Exprience - 23 months\\r\\nPOINT OF SALE- Exprience - 20 monthsCompany Details \\r\\ncompany - Zaggle Prepaid Ocean Services Pvt Ltd\\r\\ndescription - Card Operations\\r\\ncompany - Yalamanchili Software Exports Ltd\\r\\ndescription - 24*7 Operations Pvt Ltd) Dec 2015 to Feb 2017\\r\\n\\r\\nDesignation: Service Manager - Operations (Payment Industry - Prepaid Cards - INR & FTC)\\r\\n\\r\\nKey Contributions: \\u00e2\\u0080\\u00a2 A result-oriented business professional in planning, executing& managing processes, improving efficiency of operations, team building and detailing process information to determine effective result into operations.\\r\\n\\u00e2\\u0080\\u00a2 Ensuring PINs generation (SLA) is maintained and chargeback cases are raised in perfect timeframe.\\r\\n\\u00e2\\u0080\\u00a2 Managing email customer services properly and ensuring the emails are replied properly. Also, ensuring transaction monitoring is properly managed 24/7.\\r\\n\\u00e2\\u0080\\u00a2 Assisting Bankers (SBI & Associated Banks) for their BCP plans by getting executed in the system with the help of DR-PR plans & vice versa or any other business requirements.\\r\\n\\u00e2\\u0080\\u00a2 Expertise in maintaining highest level of quality in operations; ensuring adherence to all the quality parameters and procedures as per the stringent norms.\\r\\n\\u00e2\\u0080\\u00a2 Lead, manage and supervise the execution of external audit engagements and responsible for presenting the findings & developing a quality reports to the senior Management and Clients.\\r\\n\\u00e2\\u0080\\u00a2 Coach/mentor (20) team members to perform at a higher level by giving opportunities, providing timely continuous feedback and working with staff to improve their communication, time management, decision making, organization, and analytical skills.\\r\\n\\u00e2\\u0080\\u00a2 Providing the solutions and services to the client in their own premises with aforesaid count of team members.\\r\\n\\u00e2\\u0080\\u00a2 Also ensuring end to end process of PR & DR as per client requirements (PR- DR & DR -PR) by interacting with internal & external stakeholders.\\r\\n\\u00e2\\u0080\\u00a2 Determining process gaps and designing & conducting training programs to enhance operational efficiency and retain talent by providing optimum opportunities for personal and professional growth.\\r\\ncompany - Credit Cards\\r\\ndescription - Ensured highest standard of customer satisfaction and quality service; developing new policies and procedures to improve based on customer feedback and resolving customer queries via correspondence, inbound calls & email channels with the strength of (12-16) Team members.\\r\\ncompany - AGS Transact Technologies Limited\\r\\ndescription - Key Contributions: Lead - SPOC to Banks\\r\\ncompany - TATA Communications Payment Solutions Ltd\\r\\ndescription - To make ATMs operational within TAT by analyzing the issue is technical or non-technical and also by interacting with internal & external stakeholders.\\r\\ncompany - Vertex Customer Solutions India Private Ltd\\r\\ndescription - Key Contributions: \\u00e2\\u0080\\u00a2 Build positive working relationship with all team members and clients by keeping Management informed   of KYC document collection & con-current audit progress, responding timely to Management inquiries, understanding the business and conducting self professionally.\\r\\ncompany - Financial Inclusion Network & Operations Limited\\r\\ndescription - Key Contributions: POS-Operations \\u00e2\\u0080\\u00a2 Cascading the adherence of process is strictly followed by team members & training them to reduce the downtime.\\r\\n\\u00e2\\u0080\\u00a2 Managing Stock of EDC Terminals \\u00e2\\u0080\\u00a2 Managing Deployments of terminals through Multiple teams \\u00e2\\u0080\\u00a2 Would have worked with multiple terminal make & model \\u00e2\\u0080\\u00a2 Managing Inward, Outward & QC of applications installed in the POS machines.\\r\\ncompany - Venture Infotek Private Ltd\\r\\ndescription - Key Contributions: POS-Operations\\r\\ncompany - Axis Bank Ltd - Customer Services\\r\\ndescription - Aug 2006 to Oct 2009 (Ma-Foi&I- smart)\\r\\n\\r\\nDesignation: Team Leader/Executive - Emails, Phone Banking & Correspondence Unit (Snail Mails)\"\n        ],\n        \"semantic_type\": \"\",\n        \"description\": \"\"\n      }\n    }\n  ]\n}"
            }
          },
          "metadata": {},
          "execution_count": 8
        }
      ]
    },
    {
      "cell_type": "code",
      "source": [
        "from sklearn.preprocessing import LabelEncoder\n",
        "from sklearn.model_selection import train_test_split\n",
        "\n",
        "X = df_shuffled['Resume'].to_numpy()\n",
        "y = df_shuffled['Category'].to_numpy()\n",
        "\n",
        "# Encode labels\n",
        "label_encoder = LabelEncoder()\n",
        "y_encoded = label_encoder.fit_transform(y)\n",
        "\n",
        "# Split the dataset into training and testing sets (80% train, 20% test)\n",
        "train_sentences, val_sentences, train_labels, val_labels = train_test_split(X, y_encoded, test_size=0.1, random_state=42)"
      ],
      "metadata": {
        "id": "VGVhMh7PdESB"
      },
      "execution_count": 9,
      "outputs": []
    },
    {
      "cell_type": "code",
      "source": [
        "# Check the lengths\n",
        "len(train_sentences), len(train_labels), len(val_sentences), len(val_labels)"
      ],
      "metadata": {
        "colab": {
          "base_uri": "https://localhost:8080/"
        },
        "id": "2igYyr_zgJNG",
        "outputId": "765444a1-1a65-4765-c890-433f5c631b84"
      },
      "execution_count": 10,
      "outputs": [
        {
          "output_type": "execute_result",
          "data": {
            "text/plain": [
              "(865, 865, 97, 97)"
            ]
          },
          "metadata": {},
          "execution_count": 10
        }
      ]
    },
    {
      "cell_type": "code",
      "source": [
        "# Get the class names\n",
        "class_names = label_encoder.classes_\n",
        "\n",
        "# Print the class names\n",
        "print(\"Class names:\", class_names)"
      ],
      "metadata": {
        "colab": {
          "base_uri": "https://localhost:8080/"
        },
        "id": "2Yjwy2i9gzxX",
        "outputId": "534d8dbc-e93d-4578-ceeb-d582755677f3"
      },
      "execution_count": 11,
      "outputs": [
        {
          "output_type": "stream",
          "name": "stdout",
          "text": [
            "Class names: ['Advocate' 'Arts' 'Automation Testing' 'Blockchain' 'Business Analyst'\n",
            " 'Civil Engineer' 'Data Science' 'Database' 'DevOps Engineer'\n",
            " 'DotNet Developer' 'ETL Developer' 'Electrical Engineering' 'HR' 'Hadoop'\n",
            " 'Health and fitness' 'Java Developer' 'Mechanical Engineer'\n",
            " 'Network Security Engineer' 'Operations Manager' 'PMO' 'Python Developer'\n",
            " 'SAP Developer' 'Sales' 'Testing' 'Web Designing']\n"
          ]
        }
      ]
    },
    {
      "cell_type": "code",
      "source": [
        "# View the first 5 training sentences and their labels\n",
        "train_sentences[2], train_labels[2]"
      ],
      "metadata": {
        "colab": {
          "base_uri": "https://localhost:8080/"
        },
        "id": "tsfCStvugKqk",
        "outputId": "2c33019f-17e3-45b2-db72-e2a116c0476d"
      },
      "execution_count": 12,
      "outputs": [
        {
          "output_type": "execute_result",
          "data": {
            "text/plain": [
              "('Education Details \\r\\nJanuary 2016 B.Sc. Information Technology Mumbai, Maharashtra University of Mumbai\\r\\nJanuary 2012 HSC  Allahabad, Uttar Pradesh Allahabad university\\r\\nJanuary 2010 SSC dot Net Allahabad, Uttar Pradesh Allahabad university\\r\\nWeb designer and Developer Trainer \\r\\n\\r\\nWeb designer and Developer\\r\\nSkill Details \\r\\nWeb design- Exprience - 12 months\\r\\nPhp- Exprience - 12 monthsCompany Details \\r\\ncompany - NetTech India\\r\\ndescription - Working. ( salary - 12k)\\r\\nPERSONAL INTEREST\\r\\n\\r\\nListening to Music, Surfing net, Watching Movie, Playing Cricket.\\r\\ncompany - EPI Center Academy\\r\\ndescription - Working.  ( Salary Contract based)\\r\\ncompany - Aptech Charni Road\\r\\ndescription - Salary Contract based)',\n",
              " 24)"
            ]
          },
          "metadata": {},
          "execution_count": 12
        }
      ]
    },
    {
      "cell_type": "code",
      "source": [
        "print(class_names[train_labels[2]])"
      ],
      "metadata": {
        "colab": {
          "base_uri": "https://localhost:8080/"
        },
        "id": "qAN2LKG4hN_Y",
        "outputId": "170ab6f8-8509-4cc2-d192-23dd7572f434"
      },
      "execution_count": 13,
      "outputs": [
        {
          "output_type": "stream",
          "name": "stdout",
          "text": [
            "Web Designing\n"
          ]
        }
      ]
    },
    {
      "cell_type": "markdown",
      "source": [
        "##Converting text into numbers\n",
        "The dataset is slited into training and validation set containing Resume and Category\n",
        "\n",
        "###Text vectorization (tokenization)\n",
        "\n",
        "To tokenize our words, we'll use the helpful preprocessing layer [`tf.keras.layers.experimental.preprocessing.TextVectorization`](https://www.tensorflow.org/api_docs/python/tf/keras/layers/experimental/preprocessing/TextVectorization).\n",
        "\n",
        "The `TextVectorization` layer takes the following parameters:\n",
        "* `max_tokens` - The maximum number of words in your vocabulary (e.g. 20000 or the number of unique words in your text), includes a value for OOV (out of vocabulary) tokens.\n",
        "* `standardize` - Method for standardizing text. Default is `\"lower_and_strip_punctuation\"` which lowers text and removes all punctuation marks.\n",
        "* `split` - How to split text, default is `\"whitespace\"` which splits on spaces.\n",
        "* `ngrams` - How many words to contain per token split, for example, `ngrams=2` splits tokens into continuous sequences of 2.\n",
        "* `output_mode` -  How to output tokens, can be `\"int\"` (integer mapping), `\"binary\"` (one-hot encoding), `\"count\"` or `\"tf-idf\"`. See documentation for more.\n",
        "* `output_sequence_length` - Length of tokenized sequence to output. For example, if `output_sequence_length=150`, all tokenized sequences will be 150 tokens long.\n",
        "* `pad_to_max_tokens` - Defaults to `False`, if `True`, the output feature axis will be padded to `max_tokens` even if the number of unique tokens in the vocabulary is less than `max_tokens`. Only valid in certain modes, see docs for more.\n",
        "\n",
        "Let's see it in action."
      ],
      "metadata": {
        "id": "01uN_o-Li1Z_"
      }
    },
    {
      "cell_type": "code",
      "source": [
        "import numpy as np"
      ],
      "metadata": {
        "id": "gJG9zONdjiTZ"
      },
      "execution_count": 14,
      "outputs": []
    },
    {
      "cell_type": "code",
      "source": [
        "# How long is each sentence on average?\n",
        "sentence_len = [len(sentence.split()) for sentence in train_sentences]\n",
        "avg_sentence_lenght = np.mean(sentence_len)\n",
        "avg_sentence_lenght # return average sentence length (in tokens)"
      ],
      "metadata": {
        "colab": {
          "base_uri": "https://localhost:8080/"
        },
        "id": "OD93hLiAgMwn",
        "outputId": "a04eed58-24e5-40af-f03a-2715ae62348d"
      },
      "execution_count": 15,
      "outputs": [
        {
          "output_type": "execute_result",
          "data": {
            "text/plain": [
              "447.4150289017341"
            ]
          },
          "metadata": {},
          "execution_count": 15
        }
      ]
    },
    {
      "cell_type": "code",
      "source": [
        "# What's the distribution look like?\n",
        "import matplotlib.pyplot as plt\n",
        "plt.hist(sentence_len, bins=7)"
      ],
      "metadata": {
        "colab": {
          "base_uri": "https://localhost:8080/",
          "height": 503
        },
        "id": "9HVscBhbjLzh",
        "outputId": "607994a5-1672-4475-c063-b8ddbe4cb438"
      },
      "execution_count": 16,
      "outputs": [
        {
          "output_type": "execute_result",
          "data": {
            "text/plain": [
              "(array([447., 229., 102.,  42.,  12.,  14.,  19.]),\n",
              " array([  19.        ,  331.85714286,  644.71428571,  957.57142857,\n",
              "        1270.42857143, 1583.28571429, 1896.14285714, 2209.        ]),\n",
              " <BarContainer object of 7 artists>)"
            ]
          },
          "metadata": {},
          "execution_count": 16
        },
        {
          "output_type": "display_data",
          "data": {
            "text/plain": [
              "<Figure size 640x480 with 1 Axes>"
            ],
            "image/png": "[encoded data removed]"
          },
          "metadata": {}
        }
      ]
    },
    {
      "cell_type": "code",
      "source": [
        "# How long of a sentence covers 95% of the lengths?\n",
        "output_seq_len = int(np.percentile(sentence_len, 95))\n",
        "output_seq_len"
      ],
      "metadata": {
        "colab": {
          "base_uri": "https://localhost:8080/"
        },
        "id": "6i6GGqZ6hj93",
        "outputId": "e98fb16a-51b3-4c08-8170-a04aee51b1f9"
      },
      "execution_count": 17,
      "outputs": [
        {
          "output_type": "execute_result",
          "data": {
            "text/plain": [
              "1322"
            ]
          },
          "metadata": {},
          "execution_count": 17
        }
      ]
    },
    {
      "cell_type": "markdown",
      "source": [
        "Wonderful! It looks like 95% of the sentences in our training set have a length of 1322 tokens or less."
      ],
      "metadata": {
        "id": "ukM2WrS2iqQ9"
      }
    },
    {
      "cell_type": "code",
      "source": [
        "max(sentence_len)"
      ],
      "metadata": {
        "colab": {
          "base_uri": "https://localhost:8080/"
        },
        "id": "zSVmgVH0jxNH",
        "outputId": "41e9c4b3-788a-4e18-e86c-9a7dd7aab4ad"
      },
      "execution_count": 18,
      "outputs": [
        {
          "output_type": "execute_result",
          "data": {
            "text/plain": [
              "2209"
            ]
          },
          "metadata": {},
          "execution_count": 18
        }
      ]
    },
    {
      "cell_type": "code",
      "source": [
        "import tensorflow as tf\n",
        "from tensorflow.keras.layers import TextVectorization\n",
        "\n",
        "# Setup text vectorization with custom variables\n",
        "max_vocab_length = 10000 # max number of unique words to have in our vocabulary\n",
        "max_length = 1322 # how many words from an email does our model see?\n",
        "\n",
        "text_vectorizer = TextVectorization(max_tokens=max_vocab_length,\n",
        "                                    output_sequence_length=max_length)"
      ],
      "metadata": {
        "id": "98rC0nyJiqVQ"
      },
      "execution_count": 19,
      "outputs": []
    },
    {
      "cell_type": "code",
      "source": [
        "# Fit the text vectorizer to the training text\n",
        "text_vectorizer.adapt(train_sentences)"
      ],
      "metadata": {
        "id": "WvoeGvSpiqZl"
      },
      "execution_count": 20,
      "outputs": []
    },
    {
      "cell_type": "code",
      "source": [
        "# Create sample sentence and tokenize it\n",
        "text_vectorizer(['I am learnig the deep learnign.'])"
      ],
      "metadata": {
        "colab": {
          "base_uri": "https://localhost:8080/"
        },
        "id": "ATlvttgfiqdB",
        "outputId": "50c1cbe8-83d8-4f2b-e485-d0a28d59e26c"
      },
      "execution_count": 21,
      "outputs": [
        {
          "output_type": "execute_result",
          "data": {
            "text/plain": [
              "<tf.Tensor: shape=(1, 1322), dtype=int64, numpy=array([[109, 794,   1, ...,   0,   0,   0]])>"
            ]
          },
          "metadata": {},
          "execution_count": 21
        }
      ]
    },
    {
      "cell_type": "code",
      "source": [
        "import random\n",
        "random_sentence = random.choice(train_sentences)\n",
        "\n",
        "print(f\"Original Sentence:\\n{random_sentence}\\n\\nVertorized Version:\")\n",
        "text_vectorizer([random_sentence])"
      ],
      "metadata": {
        "colab": {
          "base_uri": "https://localhost:8080/"
        },
        "id": "sMLes0r9kDf-",
        "outputId": "c9e2196d-f6af-46ab-947f-b07fde0f6ec5"
      },
      "execution_count": 22,
      "outputs": [
        {
          "output_type": "stream",
          "name": "stdout",
          "text": [
            "Original Sentence:\n",
            "Education Details \r\n",
            "June 2014 to June 2018 BE Mechanical Engineering Pune, Maharashtra Savitribai Phule Pune University\r\n",
            "Mechanical Design Engineer \r\n",
            "\r\n",
            "Mechanical design engineer\r\n",
            "Skill Details \r\n",
            "Microsoft office, Autocad, Catia, Solidworks- Exprience - 6 monthsCompany Details \r\n",
            "company - Push Engineering Pvt ltd\r\n",
            "description - Currently I am working as mechanical design engineer in Push engineering Pvt ltd. All types of ice making plant are designed and manufactured in our company. Design includes design of pressure vessel ,condenser, conveyor with the help of 3d modelling software. Also BOM Preparation of material.ERP System.\r\n",
            "company - Central Water and Power Research Station\r\n",
            "description - Pune)\r\n",
            "(Govt. of India)\r\n",
            "\r\n",
            "1 year experience as a Research assistant of R&D Department of mechanical workshop at\r\n",
            "Central Water and Power Research Station, Khadakwasla, Pune (Govt. of india)\r\n",
            "â¢ Experiences different project of generation of sea waves in laboratory useful for design of port and harbor structures of Mumbai, Chennai, Goa and foreign countries like Japan, Bangladesh etc.\r\n",
            "â¢ Wave generated by wave maker comes under mechanical workshop. Wave generated with the help of hydraulic as well as pneumatic system and also by regular wave generator.\r\n",
            "â¢ I experiences sea wave generation by hydraulic system. Experiences design of hydraulic system\r\n",
            "includes design of servo actuator, axial piston pump and electric motor under supervision and guidance by 'Scientist 'B' at CWPRS.\r\n",
            "\r\n",
            "â¢ SOFTWARES SKILLS\r\n",
            "â¢ Autocad\r\n",
            "â¢ Catia V5\r\n",
            "â¢ MS office\r\n",
            "â¢ ProE\r\n",
            "â¢ EXTRA CURRICULAR ACTIVITY\r\n",
            "â¢ Organize a National level Technical event in Mechanical Student Association (MESA)\r\n",
            "â¢ Coordinator of MESA as a treasurer.\r\n",
            "â¢ Attending 3d printing workshop in college.\r\n",
            "â¢ Work readiness training conducted by NASSCOM foundation and Global Talent Track in college.\r\n",
            "â¢ Life Skills training conducted by NASSCOM foundation and Global Talent Track in college.\r\n",
            "\r\n",
            "â¢ PERSONAL ATRIBUTES\r\n",
            "â¢ Positive Attitude\r\n",
            "â¢ Quick Learner\r\n",
            "â¢ Team Leader\n",
            "\n",
            "Vertorized Version:\n"
          ]
        },
        {
          "output_type": "execute_result",
          "data": {
            "text/plain": [
              "<tf.Tensor: shape=(1, 1322), dtype=int64, numpy=array([[ 79,  15, 216, ...,   0,   0,   0]])>"
            ]
          },
          "metadata": {},
          "execution_count": 22
        }
      ]
    },
    {
      "cell_type": "code",
      "source": [
        "# Get the unique words in the vocabulary\n",
        "words_in_vocab = text_vectorizer.get_vocabulary()\n",
        "top_5_words = words_in_vocab[:5] # most common tokens (notice the [UNK] token for \"unknown\" words)\n",
        "bottom_5_words = words_in_vocab[-5:] # least common tokens\n",
        "print(f\"Number of words in vocab: {len(words_in_vocab)}\")\n",
        "print(f\"Top 5 most common words: {top_5_words}\")\n",
        "print(f\"Bottom 5 least common words: {bottom_5_words}\")"
      ],
      "metadata": {
        "colab": {
          "base_uri": "https://localhost:8080/"
        },
        "id": "866oD9aGkErX",
        "outputId": "bcdac4fd-1b1f-41d0-c6cd-8eefa74e7fee"
      },
      "execution_count": 23,
      "outputs": [
        {
          "output_type": "stream",
          "name": "stdout",
          "text": [
            "Number of words in vocab: 8206\n",
            "Top 5 most common words: ['', '[UNK]', 'and', 'â\\x80¢', 'the']\n",
            "Bottom 5 least common words: ['20062007', '18aug2012', '16aug2012', '130', '07112016']\n"
          ]
        }
      ]
    },
    {
      "cell_type": "markdown",
      "source": [
        "### Creating an Embedding using an Embedding Layer\n",
        "\n",
        "We've got a way to map our text to numbers. How about we go a step further and turn those numbers into an embedding?\n",
        "\n",
        "The powerful thing about an embedding is it can be learned during training. This means rather than just being static (e.g. `1` = I, `2` = love, `3` = TensorFlow), a word's numeric representation can be improved as a model goes through data samples.\n",
        "\n",
        "We can see what an embedding of a word looks like by using the [`tf.keras.layers.Embedding`](https://www.tensorflow.org/api_docs/python/tf/keras/layers/Embedding) layer.\n",
        "\n",
        "The main parameters we're concerned about here are:\n",
        "* `input_dim` - The size of the vocabulary (e.g. `len(text_vectorizer.get_vocabulary()`).\n",
        "* `output_dim` - The size of the output embedding vector, for example, a value of `100` outputs a  feature vector of size 100 for each word.\n",
        "* `embeddings_initializer` - How to initialize the embeddings matrix, default is `\"uniform\"` which randomly initalizes embedding matrix with uniform distribution. This can be changed for using pre-learned embeddings.\n",
        "* `input_length` - Length of sequences being passed to embedding layer.\n",
        "\n",
        "Knowing these, let's make an embedding layer."
      ],
      "metadata": {
        "id": "wBK5qHmIkKWM"
      }
    },
    {
      "cell_type": "code",
      "source": [
        "tf.random.set_seed(42)\n",
        "from tensorflow.keras import layers\n",
        "\n",
        "embedding = layers.Embedding(input_dim=len(words_in_vocab), # set input shape\n",
        "                             output_dim=128,  # Greater the embedding size more the model learns. Note: different embedding sizes result in drastically different numbers of parameters to train\n",
        "                             embeddings_initializer=\"uniform\", # Allowing the model to learn and adjust them during training to better represent the relationships between words in the input data.\n",
        "                             mask_zero=True, # it will ignore the zero values in the input sequence\n",
        "                             input_length=max_length, # how long is each input\n",
        "                             name=\"embedding_1\")\n",
        "\n",
        "embedding"
      ],
      "metadata": {
        "colab": {
          "base_uri": "https://localhost:8080/"
        },
        "id": "zv8o0PtMkPwL",
        "outputId": "00bf96f9-7f71-4681-d1d3-664249a08816"
      },
      "execution_count": 24,
      "outputs": [
        {
          "output_type": "execute_result",
          "data": {
            "text/plain": [
              "<keras.src.layers.core.embedding.Embedding at 0x7f6263f988e0>"
            ]
          },
          "metadata": {},
          "execution_count": 24
        }
      ]
    },
    {
      "cell_type": "code",
      "source": [
        "# Get a random sentence from training set\n",
        "random_sentence = random.choice(train_sentences)\n",
        "print(f\"Original Sentence:\\n{random_sentence}\\n\\nEmbedded Version:\")\n",
        "sample_embed = embedding(text_vectorizer([random_sentence]))\n",
        "sample_embed"
      ],
      "metadata": {
        "colab": {
          "base_uri": "https://localhost:8080/"
        },
        "id": "Ut6nTXIHkUTG",
        "outputId": "d139fec4-e7fd-4b33-986e-3ad588afede1"
      },
      "execution_count": 25,
      "outputs": [
        {
          "output_type": "stream",
          "name": "stdout",
          "text": [
            "Original Sentence:\n",
            "Additional qualifications April 2000, Web Designing Course with above average computer skillsEducation Details \r\n",
            "January 2000 to January 2001 Bachelor of Arts Sociology Mumbai, Maharashtra The Mumbai University\r\n",
            "January 1998 to January 2000 Bachelor of Arts Sociology  Sophia College\r\n",
            "January 1997 to January 1998 H.S.C.   Sophia College\r\n",
            "January 1995 to January 1996 S.S.C.   St. Teresa's Convent High School\r\n",
            "Head business development, arts \r\n",
            "\r\n",
            "Head business development, arts\r\n",
            "Skill Details \r\n",
            "Company Details \r\n",
            "company - British Council\r\n",
            "description - Responsibilities\r\n",
            "Ã± Strategic oversight responsibility for programmes in the performing arts (music, theatre and dance) and other cultural sectors.\r\n",
            "Ã± lead on the conception and oversight of specific large-scale programmes within the overall Arts\r\n",
            "programme,\r\n",
            "Ã± Represent the British Council at external events in India and act as deputy to the Director, Arts when required.\r\n",
            "Ã± Oversee and manage resources to deliver compelling communications for applicants that convey\r\n",
            "British Council's grants like Charles Wallace India trust, Young Creative Entrepreneurs and\r\n",
            "Chevening Clore scholarship programs on time and with excellence\r\n",
            "Ã± Shortlisting and Interviewing potential applicants for existing relevant grants or fellowships.\r\n",
            "Ã± Oversee a diverse range of proposals, progress reports and related projects\r\n",
            "Ã± Ensuring effective and timely identification and communication of program progress\r\n",
            "Ã± Lead a team of six project managers across the country and manage the performance of the team\r\n",
            "responsible for executing arts projects with partnerships built into their work, expertise within their\r\n",
            "geographic region to ensure arts insight and knowledge is available as and when required.\r\n",
            "Ã± Managing relations with existing partners, and developing relationships with targeted new partners and key government officials and ensuring that market insight into business development\r\n",
            "opportunities is built into the planning of new programmes\r\n",
            "Ã± Primary strategic responsibility for the marketing of the Arts program in India, to ensure that the program builds a reputation that will be attractive to potential partners, in partnership with the\r\n",
            "Marketing and Communications team.\r\n",
            "company - British Council\r\n",
            "description - is a cultural relations organization creating international opportunities for the people of the UK and other countries by building trust between them worldwide. They have offices in six continents and over 100 countries bringing international opportunity to life, every day. Each year they work with millions of people, connecting them with the United Kingdom, sharing their cultures and the UK's most attractive\r\n",
            "assets: English, the Arts, and Education. They have 80 years' experience of doing this\r\n",
            "company - British Council\r\n",
            "description - Responsibilities\r\n",
            "Ã± Leading the strategic development of British Council's work in the music sector in India/ Sri Lanka\r\n",
            "region and building and maintaining strong international partnerships across sectors in India/ Sri\r\n",
            "Lanka and the UK\r\n",
            "Ã± Developing strong external partnerships that lead to significant external investment in BC activities and enabling the delivery of an ambitious programme of music sector activities and events thus\r\n",
            "strengthening cultural relationships between India/ Sri Lanka and the UK\r\n",
            "Ã±    Leading the implementation of the music programme within India and Sri Lanka along with detailed\r\n",
            "project plans in liaison with colleagues from India/ Sri Lanka and the UK\r\n",
            "Ã±    Proactive management of budgets and timelines for all projects\r\n",
            "Ã±    Ensuring systematic evaluation of projects, including developing effective systems and processes for capturing both quantitative and qualitative information about effectiveness of projects and longer\r\n",
            "term impact\r\n",
            "Ã±    Management of a team across India and Sri Lanka, contributing to recruitment and development/\r\n",
            "mentoring of staff\r\n",
            "company - British Council\r\n",
            "description - Responsibilities\r\n",
            "Ã± Planning and organizing logistics related to events, buildings, performers/artists and other\r\n",
            "personnel\r\n",
            "Ã± Marketing a performance or event through social media, direct mail, advertising, use of a website,\r\n",
            "producing posters or publicity leaflets and attracting media coverage\r\n",
            "Ã± Planning and managing budgets\r\n",
            "Ã± Programming and booking performances and events, including arrangements for tours in India\r\n",
            "Ã± Development of new projects and initiatives in consultation with arts professionals and key\r\n",
            "stakeholders (e.g. local authorities, local government and communities, venue directors and regional partners)\r\n",
            "Ã± Taking responsibility for operational and office management issues such as venue accessibility,\r\n",
            "health and safety issues\r\n",
            "Ã± Implementing and maintaining office and information systems\r\n",
            "Ã± Providing administration support to managers and the director\r\n",
            "Ã± Ensuring corporate and legal requirements are complied with, and reporting to the head of the unit\r\n",
            "company - British Council\r\n",
            "description - Responsibilities\r\n",
            "Ã± Developing of new specific new projects and initiatives in the music, film and visual art sector in consultation with the Council and key stakeholders\r\n",
            "Ã± Planning and managing budgets\r\n",
            "Ã± Supporting the marketing a performance or event through social media, direct mail, advertising, use of a website, producing posters or publicity leaflets and attracting media coverage\r\n",
            "Ã± Programming the outreach and workshops for the respective programmes.\r\n",
            "company - AirCheck India\r\n",
            "description - The company intended to launch stations in both these metros on August 29, 2001.\r\n",
            "For its Mumbai FM station, WIN had the basic infrastructure that includes a studio and production facilities.\r\n",
            "The transmission tower for the station is located in central Mumbai.\r\n",
            "\r\n",
            "Responsibilities\r\n",
            "Ã± Generating and researching ideas for programmes and pitching for commissions\r\n",
            "Ã± Sourcing potential contributors and interviewees\r\n",
            "Ã± Selecting music appropriate to the programme, the audience and the station\r\n",
            "Ã± Producing pre-production briefings for presenters, reporters, technical staff and other contributors\r\n",
            "Ã± Managing the logistics of getting people, resources and equipment together to the right place at the right time\r\n",
            "Ã± undertaking editing, interviewing and reporting duties as necessary\r\n",
            "Ã± Presenting programmes or managing presenters for both pre-recorded and recorded output\r\n",
            "Ã± Checking that copyrights are cleared and understanding media law\r\n",
            "Ã± Using editing and mixing software's like 'Sonic Foundry Vegas', 'Sonic Foundry Sound Forge',\r\n",
            "'Acid', and 'Midi'.\r\n",
            "company - Rave Magazine\r\n",
            "description - Rave Magazine was the definitive voice of music emerging from the Indian sub-continent and the lifestyle\r\n",
            "that surrounds it. Through exclusive reporting, a unique sensibility, and with an editorial team with over 20\r\n",
            "years of experience in publishing, RAVE Magazine covers every genre of music emerging from the region and provides new perspectives on International music.\r\n",
            "\r\n",
            "Responsibilities\r\n",
            "Ã± Maintain production schedules and report on the progress\r\n",
            "Ã± Overview the staff, manage and supervise photographers and freelance writers and generally\r\n",
            "provide administrative support for the editor\r\n",
            "Ã± Participated in production meetings and brain storming sessions to decide on the direction, future\r\n",
            "trends and contents of the publication\r\n",
            "company - Xs Events\r\n",
            "description - Xs Events is an event management company primarily dealing with corporate clients who used different\r\n",
            "events to increase an audience's exposure with a brand.\r\n",
            "\r\n",
            "Responsibilities\r\n",
            "Ã± Development, production and delivery of projects from proposal right up to delivery.\r\n",
            "Ã± Delivering events on time, within budget\r\n",
            "Ã± Maintaining timelines and priorities on every project\r\n",
            "Ã± Managing supplier relationships\r\n",
            "Ã±    Managing operational and administrative         functions to ensure specific projects are delivered\r\n",
            "efficiently\r\n",
            "company - Banyan Tree Communications\r\n",
            "description - Responsibilities\r\n",
            "Ã± Sourcing potential contributors and interviewees\r\n",
            "Ã± Selecting music appropriate to the programme, the audience and the station\r\n",
            "Ã± undertaking editing, interviewing and reporting duties as necessary\r\n",
            "Ã± Checking that copyrights are cleared and understanding media law\r\n",
            "company - French Embassy\r\n",
            "description - on a part time basis.\r\n",
            "company - British Council\r\n",
            "description - Mumbai\r\n",
            "Advice students on various academic opportunities in the United Kingdom and assisted with various\r\n",
            "exhibitions by the British Council.\n",
            "\n",
            "Embedded Version:\n"
          ]
        },
        {
          "output_type": "execute_result",
          "data": {
            "text/plain": [
              "<tf.Tensor: shape=(1, 1322, 128), dtype=float32, numpy=\n",
              "array([[[ 0.02118384,  0.04181837,  0.03726484, ...,  0.01482091,\n",
              "         -0.01484926,  0.0342477 ],\n",
              "        [-0.01651285, -0.01501303, -0.02887338, ..., -0.00998875,\n",
              "          0.0481855 ,  0.01326798],\n",
              "        [-0.02619445, -0.03025997,  0.0270449 , ..., -0.03507854,\n",
              "          0.0121728 ,  0.03762909],\n",
              "        ...,\n",
              "        [-0.01088107, -0.03300707, -0.02358483, ...,  0.01666269,\n",
              "         -0.01413558, -0.0463827 ],\n",
              "        [-0.01088107, -0.03300707, -0.02358483, ...,  0.01666269,\n",
              "         -0.01413558, -0.0463827 ],\n",
              "        [-0.01088107, -0.03300707, -0.02358483, ...,  0.01666269,\n",
              "         -0.01413558, -0.0463827 ]]], dtype=float32)>"
            ]
          },
          "metadata": {},
          "execution_count": 25
        }
      ]
    },
    {
      "cell_type": "markdown",
      "source": [
        "Each token in the sentence gets turned into a length 128 feature vector."
      ],
      "metadata": {
        "id": "sjpIxLHPkV4-"
      }
    },
    {
      "cell_type": "code",
      "source": [
        "# Check out a single token's embedding\n",
        "sample_embed[0][0]"
      ],
      "metadata": {
        "colab": {
          "base_uri": "https://localhost:8080/"
        },
        "id": "4BNXtC2pkbNW",
        "outputId": "34deb553-7089-40a0-979d-8133c8e6cab6"
      },
      "execution_count": 26,
      "outputs": [
        {
          "output_type": "execute_result",
          "data": {
            "text/plain": [
              "<tf.Tensor: shape=(128,), dtype=float32, numpy=\n",
              "array([ 0.02118384,  0.04181837,  0.03726484,  0.00600111, -0.03329053,\n",
              "       -0.02423852, -0.01448916,  0.03990811, -0.00574349,  0.04694149,\n",
              "        0.01932127,  0.02194866,  0.0334741 , -0.0391453 ,  0.00789462,\n",
              "       -0.02127427, -0.02821556,  0.0340266 ,  0.0237368 , -0.01551427,\n",
              "        0.0358159 ,  0.00941728,  0.01827835,  0.0025233 , -0.04514127,\n",
              "       -0.02407726, -0.04653548, -0.03966203,  0.01126079, -0.02880392,\n",
              "        0.00298677, -0.02729853, -0.04475031, -0.04043861,  0.02891273,\n",
              "        0.03694626, -0.0419804 , -0.02563883, -0.03251145, -0.0251148 ,\n",
              "       -0.02593621,  0.00419396, -0.03338652, -0.00300116, -0.0218281 ,\n",
              "        0.01119854,  0.00809609, -0.01074069, -0.00216098,  0.03200854,\n",
              "       -0.03381853,  0.04066062,  0.03389413, -0.00821741,  0.04053596,\n",
              "       -0.01154597, -0.04883052,  0.03045378,  0.02158329,  0.03054592,\n",
              "       -0.02119744, -0.0184186 , -0.02936207, -0.0388904 , -0.03147566,\n",
              "        0.0408304 ,  0.00018687,  0.00646535, -0.0412359 ,  0.03321487,\n",
              "       -0.02310025,  0.04773635,  0.00371884,  0.04363251,  0.03924673,\n",
              "        0.04640073, -0.01191605,  0.03019928, -0.02095245, -0.00670035,\n",
              "       -0.00504955, -0.04371868,  0.01447299, -0.00592067,  0.02818043,\n",
              "        0.00409721,  0.02690685,  0.0184643 ,  0.04370194,  0.01512447,\n",
              "        0.02068951,  0.04108337,  0.04405575, -0.01300872,  0.00753947,\n",
              "        0.00017487,  0.03987731,  0.0001286 , -0.01453956,  0.001377  ,\n",
              "       -0.04526813,  0.00771625, -0.03647801,  0.01675722, -0.01636577,\n",
              "        0.02697453, -0.00792401, -0.01281334, -0.04134072,  0.02276028,\n",
              "       -0.03933494, -0.04769221, -0.00778067,  0.02065643,  0.00779071,\n",
              "        0.01929095,  0.00339673, -0.023822  ,  0.02619468, -0.04873287,\n",
              "       -0.02093101, -0.03813218, -0.03865632, -0.03427273,  0.02798687,\n",
              "        0.01482091, -0.01484926,  0.0342477 ], dtype=float32)>"
            ]
          },
          "metadata": {},
          "execution_count": 26
        }
      ]
    },
    {
      "cell_type": "markdown",
      "source": [
        "##Model 0: Getting a baseline"
      ],
      "metadata": {
        "id": "CkNj-gdOkcL0"
      }
    },
    {
      "cell_type": "code",
      "source": [
        "from sklearn.feature_extraction.text import TfidfVectorizer\n",
        "from sklearn.naive_bayes import MultinomialNB\n",
        "from sklearn.pipeline import Pipeline\n",
        "\n",
        "# Create tokenization and modelling pipeline\n",
        "model_0 = Pipeline([\n",
        "                    (\"tfidf\", TfidfVectorizer()), # convert words to numbers using tfidf\n",
        "                    (\"clf\", MultinomialNB()) # model the text\n",
        "])\n",
        "\n",
        "# Fit the pipeline to the training data\n",
        "model_0.fit(train_sentences, train_labels)"
      ],
      "metadata": {
        "colab": {
          "base_uri": "https://localhost:8080/",
          "height": 126
        },
        "id": "K1JZiyuUkefn",
        "outputId": "087807dc-0ea6-4e28-925d-698cabf60743"
      },
      "execution_count": 27,
      "outputs": [
        {
          "output_type": "execute_result",
          "data": {
            "text/plain": [
              "Pipeline(steps=[('tfidf', TfidfVectorizer()), ('clf', MultinomialNB())])"
            ],
            "text/html": [
              "<style>#sk-container-id-1 {color: black;background-color: white;}#sk-container-id-1 pre{padding: 0;}#sk-container-id-1 div.sk-toggleable {background-color: white;}#sk-container-id-1 label.sk-toggleable__label {cursor: pointer;display: block;width: 100%;margin-bottom: 0;padding: 0.3em;box-sizing: border-box;text-align: center;}#sk-container-id-1 label.sk-toggleable__label-arrow:before {content: \"▸\";float: left;margin-right: 0.25em;color: #696969;}#sk-container-id-1 label.sk-toggleable__label-arrow:hover:before {color: black;}#sk-container-id-1 div.sk-estimator:hover label.sk-toggleable__label-arrow:before {color: black;}#sk-container-id-1 div.sk-toggleable__content {max-height: 0;max-width: 0;overflow: hidden;text-align: left;background-color: #f0f8ff;}#sk-container-id-1 div.sk-toggleable__content pre {margin: 0.2em;color: black;border-radius: 0.25em;background-color: #f0f8ff;}#sk-container-id-1 input.sk-toggleable__control:checked~div.sk-toggleable__content {max-height: 200px;max-width: 100%;overflow: auto;}#sk-container-id-1 input.sk-toggleable__control:checked~label.sk-toggleable__label-arrow:before {content: \"▾\";}#sk-container-id-1 div.sk-estimator input.sk-toggleable__control:checked~label.sk-toggleable__label {background-color: #d4ebff;}#sk-container-id-1 div.sk-label input.sk-toggleable__control:checked~label.sk-toggleable__label {background-color: #d4ebff;}#sk-container-id-1 input.sk-hidden--visually {border: 0;clip: rect(1px 1px 1px 1px);clip: rect(1px, 1px, 1px, 1px);height: 1px;margin: -1px;overflow: hidden;padding: 0;position: absolute;width: 1px;}#sk-container-id-1 div.sk-estimator {font-family: monospace;background-color: #f0f8ff;border: 1px dotted black;border-radius: 0.25em;box-sizing: border-box;margin-bottom: 0.5em;}#sk-container-id-1 div.sk-estimator:hover {background-color: #d4ebff;}#sk-container-id-1 div.sk-parallel-item::after {content: \"\";width: 100%;border-bottom: 1px solid gray;flex-grow: 1;}#sk-container-id-1 div.sk-label:hover label.sk-toggleable__label {background-color: #d4ebff;}#sk-container-id-1 div.sk-serial::before {content: \"\";position: absolute;border-left: 1px solid gray;box-sizing: border-box;top: 0;bottom: 0;left: 50%;z-index: 0;}#sk-container-id-1 div.sk-serial {display: flex;flex-direction: column;align-items: center;background-color: white;padding-right: 0.2em;padding-left: 0.2em;position: relative;}#sk-container-id-1 div.sk-item {position: relative;z-index: 1;}#sk-container-id-1 div.sk-parallel {display: flex;align-items: stretch;justify-content: center;background-color: white;position: relative;}#sk-container-id-1 div.sk-item::before, #sk-container-id-1 div.sk-parallel-item::before {content: \"\";position: absolute;border-left: 1px solid gray;box-sizing: border-box;top: 0;bottom: 0;left: 50%;z-index: -1;}#sk-container-id-1 div.sk-parallel-item {display: flex;flex-direction: column;z-index: 1;position: relative;background-color: white;}#sk-container-id-1 div.sk-parallel-item:first-child::after {align-self: flex-end;width: 50%;}#sk-container-id-1 div.sk-parallel-item:last-child::after {align-self: flex-start;width: 50%;}#sk-container-id-1 div.sk-parallel-item:only-child::after {width: 0;}#sk-container-id-1 div.sk-dashed-wrapped {border: 1px dashed gray;margin: 0 0.4em 0.5em 0.4em;box-sizing: border-box;padding-bottom: 0.4em;background-color: white;}#sk-container-id-1 div.sk-label label {font-family: monospace;font-weight: bold;display: inline-block;line-height: 1.2em;}#sk-container-id-1 div.sk-label-container {text-align: center;}#sk-container-id-1 div.sk-container {/* jupyter's `normalize.less` sets `[hidden] { display: none; }` but bootstrap.min.css set `[hidden] { display: none !important; }` so we also need the `!important` here to be able to override the default hidden behavior on the sphinx rendered scikit-learn.org. See: https://github.com/scikit-learn/scikit-learn/issues/21755 */display: inline-block !important;position: relative;}#sk-container-id-1 div.sk-text-repr-fallback {display: none;}</style><div id=\"sk-container-id-1\" class=\"sk-top-container\"><div class=\"sk-text-repr-fallback\"><pre>Pipeline(steps=[(&#x27;tfidf&#x27;, TfidfVectorizer()), (&#x27;clf&#x27;, MultinomialNB())])</pre><b>In a Jupyter environment, please rerun this cell to show the HTML representation or trust the notebook. <br />On GitHub, the HTML representation is unable to render, please try loading this page with nbviewer.org.</b></div><div class=\"sk-container\" hidden><div class=\"sk-item sk-dashed-wrapped\"><div class=\"sk-label-container\"><div class=\"sk-label sk-toggleable\"><input class=\"sk-toggleable__control sk-hidden--visually\" id=\"sk-estimator-id-1\" type=\"checkbox\" ><label for=\"sk-estimator-id-1\" class=\"sk-toggleable__label sk-toggleable__label-arrow\">Pipeline</label><div class=\"sk-toggleable__content\"><pre>Pipeline(steps=[(&#x27;tfidf&#x27;, TfidfVectorizer()), (&#x27;clf&#x27;, MultinomialNB())])</pre></div></div></div><div class=\"sk-serial\"><div class=\"sk-item\"><div class=\"sk-estimator sk-toggleable\"><input class=\"sk-toggleable__control sk-hidden--visually\" id=\"sk-estimator-id-2\" type=\"checkbox\" ><label for=\"sk-estimator-id-2\" class=\"sk-toggleable__label sk-toggleable__label-arrow\">TfidfVectorizer</label><div class=\"sk-toggleable__content\"><pre>TfidfVectorizer()</pre></div></div></div><div class=\"sk-item\"><div class=\"sk-estimator sk-toggleable\"><input class=\"sk-toggleable__control sk-hidden--visually\" id=\"sk-estimator-id-3\" type=\"checkbox\" ><label for=\"sk-estimator-id-3\" class=\"sk-toggleable__label sk-toggleable__label-arrow\">MultinomialNB</label><div class=\"sk-toggleable__content\"><pre>MultinomialNB()</pre></div></div></div></div></div></div></div>"
            ]
          },
          "metadata": {},
          "execution_count": 27
        }
      ]
    },
    {
      "cell_type": "code",
      "source": [
        "baseline_score = model_0.score(val_sentences, val_labels)\n",
        "print(f\"Our baseline model achieves an accuracy of: {baseline_score*100:.2f}%\")"
      ],
      "metadata": {
        "colab": {
          "base_uri": "https://localhost:8080/"
        },
        "id": "1qOt5NZ-kf80",
        "outputId": "0049ef34-671e-46dc-8d2f-8fba97de5492"
      },
      "execution_count": 28,
      "outputs": [
        {
          "output_type": "stream",
          "name": "stdout",
          "text": [
            "Our baseline model achieves an accuracy of: 84.54%\n"
          ]
        }
      ]
    },
    {
      "cell_type": "code",
      "source": [
        "# Make predictions\n",
        "baseline_preds = model_0.predict(val_sentences)\n",
        "baseline_preds[:20]"
      ],
      "metadata": {
        "colab": {
          "base_uri": "https://localhost:8080/"
        },
        "id": "RfOP6XVfkhJU",
        "outputId": "5abe08e6-7b3f-4bc4-9467-930afdd1bc4b"
      },
      "execution_count": 29,
      "outputs": [
        {
          "output_type": "execute_result",
          "data": {
            "text/plain": [
              "array([19, 18, 23, 24, 15, 22, 12, 15, 19, 11, 20, 10, 15, 18,  1, 17, 18,\n",
              "       15, 22,  1])"
            ]
          },
          "metadata": {},
          "execution_count": 29
        }
      ]
    },
    {
      "cell_type": "markdown",
      "source": [
        "##Make a modelling checkpoint"
      ],
      "metadata": {
        "id": "aM_z7xNUnB-1"
      }
    },
    {
      "cell_type": "code",
      "source": [
        "import os\n",
        "\n",
        "# Create a function to implement a ModelCheckpoint callback with a specific filename\n",
        "def create_model_checkpoint(model_name, save_path=\"model_experiments\"):\n",
        "  return tf.keras.callbacks.ModelCheckpoint(filepath=os.path.join(save_path, model_name), # create filepath to save model\n",
        "                                            verbose=0, # only output a limited amount of text\n",
        "                                            save_best_only=True) # save only the best model to file"
      ],
      "metadata": {
        "id": "YI0oVaqhm--C"
      },
      "execution_count": 30,
      "outputs": []
    },
    {
      "cell_type": "markdown",
      "source": [
        "### Creating an evaluation function for our model experiments\n",
        "\n",
        "* Accuracy\n",
        "* Precision\n",
        "* Recall\n",
        "* F1-score\n",
        "\n",
        "> 🔑 **Note:** Since we're dealing with a classification problem, the above metrics are the most appropriate. If we were working with a regression problem, other metrics such as MAE (mean absolute error) would be a better choice."
      ],
      "metadata": {
        "id": "Dd6As0u6kkZd"
      }
    },
    {
      "cell_type": "code",
      "source": [
        "from sklearn.metrics import accuracy_score, precision_score, recall_score, f1_score\n",
        "\n",
        "def calculate_results(true_labels, predictions):\n",
        "    \"\"\"\n",
        "    Evaluate a classification model using common metrics.\n",
        "\n",
        "    Parameters:\n",
        "    - predictions: Predicted labels from the model\n",
        "    - true_labels: True labels from the dataset\n",
        "\n",
        "    Returns:\n",
        "    - accuracy: Accuracy of the model\n",
        "    - precision: Precision of the model\n",
        "    - recall: Recall of the model\n",
        "    - f1_score: F1 score of the model\n",
        "    \"\"\"\n",
        "    accuracy = accuracy_score(true_labels, predictions)\n",
        "    precision = precision_score(true_labels, predictions, average='weighted')  # Specify the averaging strategy\n",
        "    recall = recall_score(true_labels, predictions, average='weighted')  # Specify the averaging strategy\n",
        "    f1 = f1_score(true_labels, predictions, average='weighted')  # Specify the averaging strategy\n",
        "\n",
        "    model_results = {\n",
        "        'accuracy': accuracy,\n",
        "        'precision': precision,\n",
        "        'recall': recall,\n",
        "        'f1_score': f1\n",
        "    }\n",
        "\n",
        "    return model_results"
      ],
      "metadata": {
        "id": "Znbvtds0kmgy"
      },
      "execution_count": 31,
      "outputs": []
    },
    {
      "cell_type": "code",
      "source": [
        "# Get baseline results\n",
        "baseline_results = calculate_results(true_labels=val_labels,\n",
        "                                     predictions=baseline_preds)\n",
        "baseline_results"
      ],
      "metadata": {
        "colab": {
          "base_uri": "https://localhost:8080/"
        },
        "id": "oK0hpd_Lkn-O",
        "outputId": "5401a862-48f4-4155-9b93-8c917519cabd"
      },
      "execution_count": 32,
      "outputs": [
        {
          "output_type": "stream",
          "name": "stderr",
          "text": [
            "/usr/local/lib/python3.10/dist-packages/sklearn/metrics/_classification.py:1344: UndefinedMetricWarning:\n",
            "\n",
            "Precision is ill-defined and being set to 0.0 in labels with no predicted samples. Use `zero_division` parameter to control this behavior.\n",
            "\n"
          ]
        },
        {
          "output_type": "execute_result",
          "data": {
            "text/plain": [
              "{'accuracy': 0.845360824742268,\n",
              " 'precision': 0.8735886107020128,\n",
              " 'recall': 0.845360824742268,\n",
              " 'f1_score': 0.833906071019473}"
            ]
          },
          "metadata": {},
          "execution_count": 32
        }
      ]
    },
    {
      "cell_type": "markdown",
      "source": [
        "### Model 1: LSTM"
      ],
      "metadata": {
        "id": "YTLdNdItkpIX"
      }
    },
    {
      "cell_type": "code",
      "source": [
        "import datetime\n",
        "\n",
        "# Create tensorboard callback (need to create a new one for each model)\n",
        "def create_tensorboard_callback(dir_name, experiment_name):\n",
        "  \"\"\"\n",
        "  Creates a TensorBoard callback instand to store log files.\n",
        "\n",
        "  Stores log files with the filepath:\n",
        "    \"dir_name/experiment_name/current_datetime/\"\n",
        "\n",
        "  Args:\n",
        "    dir_name: target directory to store TensorBoard log files\n",
        "    experiment_name: name of experiment directory (e.g. efficientnet_model_1)\n",
        "  \"\"\"\n",
        "  log_dir = dir_name + \"/\" + experiment_name + \"/\" + datetime.datetime.now().strftime(\"%Y%m%d-%H%M%S\")\n",
        "  tensorboard_callback = tf.keras.callbacks.TensorBoard(\n",
        "      log_dir=log_dir\n",
        "  )\n",
        "  print(f\"Saving TensorBoard log files to: {log_dir}\")\n",
        "  return tensorboard_callback"
      ],
      "metadata": {
        "id": "CDYi55hxlgMR"
      },
      "execution_count": 33,
      "outputs": []
    },
    {
      "cell_type": "code",
      "source": [
        "# Create directory to save TensorBoard logs\n",
        "SAVE_DIR = 'model_logs'"
      ],
      "metadata": {
        "id": "3KK_K_Kdlhr2"
      },
      "execution_count": 34,
      "outputs": []
    },
    {
      "cell_type": "code",
      "source": [
        "# Set random seed and create embedding layer (new embedding layer for each model)\n",
        "tf.random.set_seed(42)\n",
        "from tensorflow.keras import layers\n",
        "model_1_embedding = layers.Embedding(input_dim=max_vocab_length,\n",
        "                                     output_dim=128,\n",
        "                                     embeddings_initializer=\"uniform\",\n",
        "                                     input_length=max_length,\n",
        "                                     name=\"embedding_1\")"
      ],
      "metadata": {
        "id": "pGfAUdgJli3K"
      },
      "execution_count": 35,
      "outputs": []
    },
    {
      "cell_type": "code",
      "source": [
        "num_classes = len(class_names)\n",
        "num_classes"
      ],
      "metadata": {
        "colab": {
          "base_uri": "https://localhost:8080/"
        },
        "id": "rqHvhoy3loij",
        "outputId": "459fb635-1f1c-468e-be8a-99ab2aeb0f1b"
      },
      "execution_count": 36,
      "outputs": [
        {
          "output_type": "execute_result",
          "data": {
            "text/plain": [
              "25"
            ]
          },
          "metadata": {},
          "execution_count": 36
        }
      ]
    },
    {
      "cell_type": "code",
      "source": [
        "import matplotlib.pyplot as plt\n",
        "\n",
        "def plot_loss_curves(history):\n",
        "  \"\"\"\n",
        "  Returns separate loss curves for training and validation metrics.\n",
        "  \"\"\"\n",
        "  loss = history.history['loss']\n",
        "  val_loss = history.history['val_loss']\n",
        "\n",
        "  accuracy = history.history['accuracy']\n",
        "  val_accuracy = history.history['val_accuracy']\n",
        "\n",
        "  # Plot loss\n",
        "  plt.figure(figsize=(12, 4))\n",
        "  plt.subplot(1,2,1)\n",
        "  plt.plot(loss, label='training_loss')\n",
        "  plt.plot(val_loss, label='val_loss')\n",
        "  plt.title('Loss')\n",
        "  plt.xlabel('epochs')\n",
        "  plt.legend()\n",
        "\n",
        "  # Plot accuracy\n",
        "  plt.subplot(1,2,2)\n",
        "  plt.plot(accuracy, label='training_accuracy')\n",
        "  plt.plot(val_accuracy, label='val_accuracy')\n",
        "  plt.title('Accracy')\n",
        "  plt.xlabel('epochs')\n",
        "  plt.legend()"
      ],
      "metadata": {
        "id": "i5BwAlcsoclp"
      },
      "execution_count": 37,
      "outputs": []
    },
    {
      "cell_type": "code",
      "source": [
        "# Create LSTM model\n",
        "inputs = layers.Input(shape=(1,), dtype=\"string\")\n",
        "x = text_vectorizer(inputs)\n",
        "x = embedding(x)  # assuming 'embedding' is your embedding layer\n",
        "x = layers.LSTM(64)(x)  # return vector for the whole sequence\n",
        "outputs = layers.Dense(num_classes, activation=\"softmax\")(x)  # using 'num_classes' for the output layer\n",
        "model_1 = tf.keras.Model(inputs, outputs, name=\"model_1_LSTM\")"
      ],
      "metadata": {
        "id": "RA10T-A1lk5K"
      },
      "execution_count": 38,
      "outputs": []
    },
    {
      "cell_type": "code",
      "source": [
        "# Compile model\n",
        "model_1.compile(loss=tf.keras.losses.SparseCategoricalCrossentropy(),\n",
        "                optimizer=tf.keras.optimizers.Adam(),\n",
        "                metrics=[\"accuracy\"])"
      ],
      "metadata": {
        "id": "klU3Q4k7mGiE"
      },
      "execution_count": 39,
      "outputs": []
    },
    {
      "cell_type": "code",
      "source": [
        "# Fit model\n",
        "model_1_history = model_1.fit(train_sentences,\n",
        "                              train_labels,\n",
        "                              epochs=5,\n",
        "                              validation_data=(val_sentences, val_labels),\n",
        "                              callbacks=[create_tensorboard_callback(SAVE_DIR,\n",
        "                                                                     \"LSTM\"),\n",
        "                                                                     create_model_checkpoint(model_name='model_1')])"
      ],
      "metadata": {
        "colab": {
          "base_uri": "https://localhost:8080/"
        },
        "id": "8s5rTVM7mVGo",
        "outputId": "b6c3af41-38d4-429c-b978-700e5a59a7fa"
      },
      "execution_count": 40,
      "outputs": [
        {
          "output_type": "stream",
          "name": "stdout",
          "text": [
            "Saving TensorBoard log files to: model_logs/LSTM/20240415-135257\n",
            "Epoch 1/5\n",
            "28/28 [==============================] - 18s 457ms/step - loss: 3.1346 - accuracy: 0.2069 - val_loss: 3.0268 - val_accuracy: 0.2887\n",
            "Epoch 2/5\n",
            "28/28 [==============================] - 11s 407ms/step - loss: 2.6434 - accuracy: 0.4197 - val_loss: 2.5861 - val_accuracy: 0.4124\n",
            "Epoch 3/5\n",
            "28/28 [==============================] - 12s 456ms/step - loss: 1.9978 - accuracy: 0.5827 - val_loss: 2.1389 - val_accuracy: 0.5876\n",
            "Epoch 4/5\n",
            "28/28 [==============================] - 11s 400ms/step - loss: 1.4074 - accuracy: 0.8162 - val_loss: 1.5631 - val_accuracy: 0.7216\n",
            "Epoch 5/5\n",
            "28/28 [==============================] - 11s 394ms/step - loss: 0.9829 - accuracy: 0.8798 - val_loss: 1.2214 - val_accuracy: 0.8041\n"
          ]
        }
      ]
    },
    {
      "cell_type": "code",
      "source": [
        "plot_loss_curves(model_1_history)"
      ],
      "metadata": {
        "colab": {
          "base_uri": "https://localhost:8080/",
          "height": 410
        },
        "id": "nC2MKjQToVyA",
        "outputId": "9faae9cc-5609-437f-aa99-1031a3257d0e"
      },
      "execution_count": 41,
      "outputs": [
        {
          "output_type": "display_data",
          "data": {
            "text/plain": [
              "<Figure size 1200x400 with 2 Axes>"
            ],
            "image/png": "[encoded data removed]"
          },
          "metadata": {}
        }
      ]
    },
    {
      "cell_type": "code",
      "source": [
        "# Load in saved best performing model_1 and evaluate on test data\n",
        "model_1 = tf.keras.models.load_model(\"model_experiments/model_1\")\n",
        "model_1.evaluate(val_sentences, val_labels)"
      ],
      "metadata": {
        "colab": {
          "base_uri": "https://localhost:8080/"
        },
        "id": "zyrjgt_RoC1k",
        "outputId": "027f67ae-3b71-4f7f-d036-74d3b180a963"
      },
      "execution_count": 42,
      "outputs": [
        {
          "output_type": "stream",
          "name": "stdout",
          "text": [
            "4/4 [==============================] - 1s 26ms/step - loss: 1.2214 - accuracy: 0.8041\n"
          ]
        },
        {
          "output_type": "execute_result",
          "data": {
            "text/plain": [
              "[1.2213573455810547, 0.8041236996650696]"
            ]
          },
          "metadata": {},
          "execution_count": 42
        }
      ]
    },
    {
      "cell_type": "code",
      "source": [
        "# Make predictions\n",
        "model_1_pred_probs = model_1.predict(val_sentences)\n",
        "model_1_pred_probs[:10]"
      ],
      "metadata": {
        "colab": {
          "base_uri": "https://localhost:8080/"
        },
        "id": "7LaeQD9bnP1h",
        "outputId": "232737cf-4e5e-406e-ebd8-5f13eabdf896"
      },
      "execution_count": 43,
      "outputs": [
        {
          "output_type": "stream",
          "name": "stdout",
          "text": [
            "4/4 [==============================] - 1s 27ms/step\n"
          ]
        },
        {
          "output_type": "execute_result",
          "data": {
            "text/plain": [
              "array([[3.70534211e-02, 4.57956307e-02, 9.95526090e-03, 1.99846234e-02,\n",
              "        2.89130099e-02, 4.00750451e-02, 9.70638264e-03, 3.43116112e-02,\n",
              "        1.43569084e-02, 3.59531417e-02, 1.65048409e-02, 1.27908504e-02,\n",
              "        1.03785032e-02, 1.02901841e-02, 4.86747585e-02, 1.14295296e-02,\n",
              "        6.28626645e-02, 1.41206667e-01, 8.44350364e-03, 2.79951364e-01,\n",
              "        2.15544663e-02, 3.31366137e-02, 2.24201754e-02, 6.03169762e-03,\n",
              "        3.82191949e-02],\n",
              "       [9.17100057e-04, 1.69664752e-04, 2.41148677e-02, 6.99724304e-03,\n",
              "        1.09298620e-03, 3.83804523e-04, 7.42429728e-03, 5.08684432e-04,\n",
              "        2.31835134e-02, 4.80038958e-04, 4.47070779e-04, 1.96800921e-02,\n",
              "        1.97730958e-03, 8.50278977e-03, 7.82748757e-05, 4.43938933e-03,\n",
              "        3.60597391e-04, 1.56118040e-04, 8.75733018e-01, 7.89420010e-05,\n",
              "        2.56004790e-03, 2.44445866e-04, 7.79822143e-03, 1.13641368e-02,\n",
              "        1.30719913e-03],\n",
              "       [1.24244229e-03, 5.48618205e-04, 2.70851821e-01, 7.24089611e-03,\n",
              "        8.84903653e-04, 8.51268123e-04, 3.08067091e-02, 1.09236431e-03,\n",
              "        3.13567258e-02, 2.63001700e-03, 4.90298448e-03, 9.94864255e-02,\n",
              "        3.44022810e-02, 1.94197632e-02, 1.32732574e-04, 3.68017778e-02,\n",
              "        1.86590850e-03, 1.57496572e-04, 1.73256442e-01, 1.55428177e-04,\n",
              "        1.22470595e-02, 7.53538392e-04, 7.19324406e-03, 2.60266900e-01,\n",
              "        1.45229336e-03],\n",
              "       [1.43404165e-02, 1.28130680e-02, 6.46799430e-03, 1.04620392e-02,\n",
              "        6.27515884e-03, 1.77145582e-02, 1.50124533e-02, 6.35790825e-03,\n",
              "        3.73278335e-02, 2.39261147e-03, 6.05427586e-02, 3.36488783e-02,\n",
              "        3.07429908e-03, 3.77766415e-02, 8.68894253e-03, 5.79738058e-03,\n",
              "        1.12123294e-02, 1.23776561e-02, 1.71133559e-02, 1.28263999e-02,\n",
              "        4.29823389e-03, 5.47989737e-03, 3.38107906e-02, 8.79004784e-03,\n",
              "        6.15398347e-01],\n",
              "       [3.90620029e-04, 5.65033173e-04, 1.02340691e-02, 1.57673797e-03,\n",
              "        8.45062779e-04, 3.06592410e-04, 9.36513115e-03, 2.21618000e-04,\n",
              "        8.84628389e-04, 1.47372542e-04, 4.31845139e-04, 5.47946198e-03,\n",
              "        1.37471966e-02, 1.11129461e-02, 1.44401012e-04, 9.25572515e-01,\n",
              "        4.19479766e-05, 5.44777395e-05, 3.48900212e-03, 3.38927457e-05,\n",
              "        1.02191232e-02, 6.55067211e-04, 1.25936785e-04, 4.13000770e-03,\n",
              "        2.25342737e-04],\n",
              "       [8.94544553e-03, 1.39247933e-02, 1.47791570e-02, 3.21379467e-03,\n",
              "        9.85335372e-03, 2.59883166e-03, 1.91340093e-02, 2.24792841e-03,\n",
              "        3.25200744e-02, 6.98729325e-03, 8.65288675e-02, 2.13722065e-02,\n",
              "        4.64470796e-02, 3.49315186e-03, 1.78497320e-03, 5.38314786e-03,\n",
              "        2.89010871e-02, 3.85956326e-03, 2.46918853e-02, 2.85408786e-03,\n",
              "        1.68454973e-03, 1.49341645e-02, 5.47675908e-01, 7.10786134e-02,\n",
              "        2.51061041e-02],\n",
              "       [3.57826706e-04, 3.05264047e-03, 2.48727109e-02, 7.60726980e-04,\n",
              "        1.12956495e-03, 4.09174652e-04, 1.45057738e-02, 7.41417171e-04,\n",
              "        1.04272983e-03, 4.94917762e-03, 2.09973156e-02, 3.11108842e-03,\n",
              "        8.20489764e-01, 1.01422973e-03, 1.90640800e-04, 2.55852900e-02,\n",
              "        5.11143589e-04, 6.98540171e-05, 1.00782153e-03, 1.45328435e-04,\n",
              "        4.87439241e-03, 2.09023850e-03, 3.60442558e-03, 6.41479045e-02,\n",
              "        3.38745682e-04],\n",
              "       [3.78844998e-04, 5.59604843e-04, 8.44444800e-03, 1.67263870e-03,\n",
              "        7.85123615e-04, 2.70963472e-04, 1.01276962e-02, 2.29220808e-04,\n",
              "        7.76436995e-04, 1.40614211e-04, 3.73574032e-04, 5.51148877e-03,\n",
              "        1.10932924e-02, 1.16347279e-02, 1.40764096e-04, 9.30419683e-01,\n",
              "        3.81525315e-05, 5.40051551e-05, 3.49277561e-03, 3.66471431e-05,\n",
              "        9.46751330e-03, 5.36031555e-04, 1.02272585e-04, 3.49644665e-03,\n",
              "        2.17204317e-04],\n",
              "       [3.89513820e-02, 5.42292185e-02, 1.15924394e-02, 1.73035525e-02,\n",
              "        2.98657976e-02, 4.06390950e-02, 1.28922518e-02, 3.78728062e-02,\n",
              "        2.15886869e-02, 3.91666181e-02, 2.71991640e-02, 1.44679043e-02,\n",
              "        1.32373748e-02, 1.17002297e-02, 5.24152480e-02, 1.14287743e-02,\n",
              "        8.40203837e-02, 1.21796124e-01, 1.06561808e-02, 2.00495183e-01,\n",
              "        1.98975466e-02, 3.84143777e-02, 3.28572653e-02, 9.45246778e-03,\n",
              "        4.78599779e-02],\n",
              "       [3.42567358e-03, 5.90837095e-04, 9.46191698e-03, 2.05537071e-03,\n",
              "        6.63037761e-04, 3.29818833e-03, 5.29222284e-03, 1.41554046e-03,\n",
              "        1.09839588e-01, 3.54842516e-04, 2.60598585e-03, 7.23352253e-01,\n",
              "        1.48625276e-03, 3.70116904e-02, 1.36587187e-03, 1.11968694e-02,\n",
              "        2.00337125e-03, 1.43757625e-03, 3.27327400e-02, 7.01702666e-04,\n",
              "        1.09180380e-02, 7.21180753e-04, 2.62802560e-03, 2.10217852e-02,\n",
              "        1.44194905e-02]], dtype=float32)"
            ]
          },
          "metadata": {},
          "execution_count": 43
        }
      ]
    },
    {
      "cell_type": "code",
      "source": [
        "# Round out predictions and reduce to 1-dimensional array\n",
        "model_1_preds = tf.squeeze(tf.round(model_1_pred_probs))\n",
        "model_1_preds[:10]"
      ],
      "metadata": {
        "colab": {
          "base_uri": "https://localhost:8080/"
        },
        "id": "TdTNotqVnTLW",
        "outputId": "eea8f3e5-45ee-43d1-edbc-68e6df014d33"
      },
      "execution_count": 44,
      "outputs": [
        {
          "output_type": "execute_result",
          "data": {
            "text/plain": [
              "<tf.Tensor: shape=(10, 25), dtype=float32, numpy=\n",
              "array([[0., 0., 0., 0., 0., 0., 0., 0., 0., 0., 0., 0., 0., 0., 0., 0.,\n",
              "        0., 0., 0., 0., 0., 0., 0., 0., 0.],\n",
              "       [0., 0., 0., 0., 0., 0., 0., 0., 0., 0., 0., 0., 0., 0., 0., 0.,\n",
              "        0., 0., 1., 0., 0., 0., 0., 0., 0.],\n",
              "       [0., 0., 0., 0., 0., 0., 0., 0., 0., 0., 0., 0., 0., 0., 0., 0.,\n",
              "        0., 0., 0., 0., 0., 0., 0., 0., 0.],\n",
              "       [0., 0., 0., 0., 0., 0., 0., 0., 0., 0., 0., 0., 0., 0., 0., 0.,\n",
              "        0., 0., 0., 0., 0., 0., 0., 0., 1.],\n",
              "       [0., 0., 0., 0., 0., 0., 0., 0., 0., 0., 0., 0., 0., 0., 0., 1.,\n",
              "        0., 0., 0., 0., 0., 0., 0., 0., 0.],\n",
              "       [0., 0., 0., 0., 0., 0., 0., 0., 0., 0., 0., 0., 0., 0., 0., 0.,\n",
              "        0., 0., 0., 0., 0., 0., 1., 0., 0.],\n",
              "       [0., 0., 0., 0., 0., 0., 0., 0., 0., 0., 0., 0., 1., 0., 0., 0.,\n",
              "        0., 0., 0., 0., 0., 0., 0., 0., 0.],\n",
              "       [0., 0., 0., 0., 0., 0., 0., 0., 0., 0., 0., 0., 0., 0., 0., 1.,\n",
              "        0., 0., 0., 0., 0., 0., 0., 0., 0.],\n",
              "       [0., 0., 0., 0., 0., 0., 0., 0., 0., 0., 0., 0., 0., 0., 0., 0.,\n",
              "        0., 0., 0., 0., 0., 0., 0., 0., 0.],\n",
              "       [0., 0., 0., 0., 0., 0., 0., 0., 0., 0., 0., 1., 0., 0., 0., 0.,\n",
              "        0., 0., 0., 0., 0., 0., 0., 0., 0.]], dtype=float32)>"
            ]
          },
          "metadata": {},
          "execution_count": 44
        }
      ]
    },
    {
      "cell_type": "code",
      "source": [
        "import numpy as np\n",
        "\n",
        "# Convert predicted probabilities to integer-encoded labels\n",
        "model_1_preds = np.argmax(model_1_pred_probs, axis=1)\n",
        "model_1_preds"
      ],
      "metadata": {
        "colab": {
          "base_uri": "https://localhost:8080/"
        },
        "id": "8-9Mri7ponUK",
        "outputId": "d0ddd79f-536d-4b22-dd85-72eead421106"
      },
      "execution_count": 45,
      "outputs": [
        {
          "output_type": "execute_result",
          "data": {
            "text/plain": [
              "array([19, 18,  2, 24, 15, 22, 12, 15, 19, 11, 20, 10, 15,  1,  1, 17, 18,\n",
              "       15, 22,  1,  1, 11, 20, 16, 14, 23,  6, 17, 23, 10,  1, 19,  3, 23,\n",
              "       22, 21,  5, 12, 24, 10, 12,  8, 10,  7, 17, 19, 11,  1,  2, 13, 19,\n",
              "       11, 23, 17, 14,  4, 16,  1,  8, 19,  4, 18, 19,  3, 15, 14, 24, 12,\n",
              "        8,  6, 10, 16, 10, 10,  8, 19, 16,  7, 17, 13,  7, 16, 10, 20, 24,\n",
              "       23, 16, 19, 23, 18, 19, 12, 14, 22, 14, 24, 11])"
            ]
          },
          "metadata": {},
          "execution_count": 45
        }
      ]
    },
    {
      "cell_type": "markdown",
      "source": [
        "##Model 3: GRU"
      ],
      "metadata": {
        "id": "z3SaKKYVoup_"
      }
    },
    {
      "cell_type": "code",
      "source": [
        "# Set random seed and create embedding layer (new embedding layer for each model)\n",
        "tf.random.set_seed(42)\n",
        "from tensorflow.keras import layers\n",
        "model_2_embedding = layers.Embedding(input_dim=max_vocab_length,\n",
        "                                     output_dim=128,\n",
        "                                     embeddings_initializer=\"uniform\",\n",
        "                                     input_length=max_length,\n",
        "                                     name=\"embedding_2\")"
      ],
      "metadata": {
        "id": "7IA02W_NpcTb"
      },
      "execution_count": 46,
      "outputs": []
    },
    {
      "cell_type": "code",
      "source": [
        "# Build an RNN using the GRU cell\n",
        "inputs = layers.Input(shape=(1,), dtype=\"string\")\n",
        "x = text_vectorizer(inputs)\n",
        "x = model_2_embedding(x)\n",
        "x = layers.GRU(64)(x)\n",
        "# x = layers.Dense(64, activation=\"relu\")(x) # optional dense layer after GRU cell\n",
        "outputs = layers.Dense(num_classes, activation=\"softmax\")(x)\n",
        "model_2 = tf.keras.Model(inputs, outputs, name=\"model_2_GRU\")"
      ],
      "metadata": {
        "id": "yPIseJPBpTfk"
      },
      "execution_count": 47,
      "outputs": []
    },
    {
      "cell_type": "code",
      "source": [
        "# Compile model\n",
        "model_2.compile(loss=tf.keras.losses.SparseCategoricalCrossentropy(),\n",
        "                optimizer=tf.keras.optimizers.Adam(),\n",
        "                metrics=[\"accuracy\"])"
      ],
      "metadata": {
        "id": "sBygHuUCpiGo"
      },
      "execution_count": 48,
      "outputs": []
    },
    {
      "cell_type": "code",
      "source": [
        "# Fit model\n",
        "model_2_history = model_2.fit(train_sentences,\n",
        "                              train_labels,\n",
        "                              epochs=5,\n",
        "                              validation_data=(val_sentences, val_labels),\n",
        "                              callbacks=[create_tensorboard_callback(SAVE_DIR,\n",
        "                                                                     \"GRU\"),\n",
        "                                                                     create_model_checkpoint(model_name='model_2')])"
      ],
      "metadata": {
        "colab": {
          "base_uri": "https://localhost:8080/"
        },
        "id": "2j-yJ75pprIf",
        "outputId": "aedef0a4-a0f5-4fca-dd05-bdce73a21772"
      },
      "execution_count": 49,
      "outputs": [
        {
          "output_type": "stream",
          "name": "stdout",
          "text": [
            "Saving TensorBoard log files to: model_logs/GRU/20240415-135430\n",
            "Epoch 1/5\n",
            "28/28 [==============================] - 10s 277ms/step - loss: 3.1942 - accuracy: 0.0832 - val_loss: 3.2153 - val_accuracy: 0.0722\n",
            "Epoch 2/5\n",
            "28/28 [==============================] - 5s 164ms/step - loss: 3.1314 - accuracy: 0.0971 - val_loss: 3.2348 - val_accuracy: 0.0722\n",
            "Epoch 3/5\n",
            "28/28 [==============================] - 6s 231ms/step - loss: 3.0690 - accuracy: 0.1237 - val_loss: 3.1791 - val_accuracy: 0.0722\n",
            "Epoch 4/5\n",
            "28/28 [==============================] - 4s 145ms/step - loss: 3.0312 - accuracy: 0.1237 - val_loss: 3.1895 - val_accuracy: 0.0722\n",
            "Epoch 5/5\n",
            "28/28 [==============================] - 4s 126ms/step - loss: 3.0254 - accuracy: 0.1249 - val_loss: 3.1807 - val_accuracy: 0.0825\n"
          ]
        }
      ]
    },
    {
      "cell_type": "code",
      "source": [
        "plot_loss_curves(model_2_history)"
      ],
      "metadata": {
        "colab": {
          "base_uri": "https://localhost:8080/",
          "height": 410
        },
        "id": "btbPDritpwci",
        "outputId": "e94a5558-2416-4830-dce6-a00bf97a3919"
      },
      "execution_count": 50,
      "outputs": [
        {
          "output_type": "display_data",
          "data": {
            "text/plain": [
              "<Figure size 1200x400 with 2 Axes>"
            ],
            "image/png": "[encoded data removed]"
          },
          "metadata": {}
        }
      ]
    },
    {
      "cell_type": "code",
      "source": [
        "# Load in saved best performing model_1 and evaluate on test data\n",
        "model_2 = tf.keras.models.load_model(\"model_experiments/model_2\")\n",
        "model_2.evaluate(val_sentences, val_labels)"
      ],
      "metadata": {
        "colab": {
          "base_uri": "https://localhost:8080/"
        },
        "id": "4pEwEDmwqRLT",
        "outputId": "517a59c0-8a93-4256-f233-f7750bd433e2"
      },
      "execution_count": 51,
      "outputs": [
        {
          "output_type": "stream",
          "name": "stdout",
          "text": [
            "4/4 [==============================] - 1s 32ms/step - loss: 3.1791 - accuracy: 0.0722\n"
          ]
        },
        {
          "output_type": "execute_result",
          "data": {
            "text/plain": [
              "[3.179098129272461, 0.07216494530439377]"
            ]
          },
          "metadata": {},
          "execution_count": 51
        }
      ]
    },
    {
      "cell_type": "code",
      "source": [
        "# Make predictions\n",
        "model_2_pred_probs = model_2.predict(val_sentences)\n",
        "model_2_pred_probs[:10]"
      ],
      "metadata": {
        "colab": {
          "base_uri": "https://localhost:8080/"
        },
        "id": "GKaTYvxEqa50",
        "outputId": "407376aa-6cee-4fb9-92f5-4f2998be0ff7"
      },
      "execution_count": 52,
      "outputs": [
        {
          "output_type": "stream",
          "name": "stdout",
          "text": [
            "4/4 [==============================] - 0s 28ms/step\n"
          ]
        },
        {
          "output_type": "execute_result",
          "data": {
            "text/plain": [
              "array([[0.02229128, 0.04531756, 0.02686385, 0.04495148, 0.02308025,\n",
              "        0.02242705, 0.04199897, 0.03633437, 0.05648297, 0.03167919,\n",
              "        0.03965938, 0.03721853, 0.0473213 , 0.04895432, 0.03270365,\n",
              "        0.08257076, 0.0448079 , 0.02998848, 0.01038862, 0.02894912,\n",
              "        0.06207145, 0.02833167, 0.037686  , 0.07058005, 0.04734179],\n",
              "       [0.02229128, 0.04531756, 0.02686385, 0.04495149, 0.02308025,\n",
              "        0.02242705, 0.04199897, 0.03633437, 0.05648297, 0.03167919,\n",
              "        0.03965938, 0.03721853, 0.0473213 , 0.04895432, 0.03270366,\n",
              "        0.08257076, 0.04480791, 0.02998849, 0.01038862, 0.02894912,\n",
              "        0.06207145, 0.02833167, 0.03768601, 0.07058006, 0.04734179],\n",
              "       [0.02229128, 0.04531755, 0.02686385, 0.04495148, 0.02308025,\n",
              "        0.02242705, 0.04199897, 0.03633437, 0.05648297, 0.03167919,\n",
              "        0.03965938, 0.03721853, 0.0473213 , 0.04895432, 0.03270365,\n",
              "        0.08257076, 0.04480791, 0.02998849, 0.01038862, 0.02894912,\n",
              "        0.06207145, 0.02833167, 0.037686  , 0.07058005, 0.04734179],\n",
              "       [0.02229128, 0.04531756, 0.02686385, 0.04495148, 0.02308025,\n",
              "        0.02242705, 0.04199897, 0.03633437, 0.05648297, 0.03167919,\n",
              "        0.03965938, 0.03721853, 0.0473213 , 0.04895432, 0.03270365,\n",
              "        0.08257076, 0.0448079 , 0.02998848, 0.01038862, 0.02894912,\n",
              "        0.06207145, 0.02833167, 0.037686  , 0.07058005, 0.04734179],\n",
              "       [0.02229128, 0.04531755, 0.02686385, 0.04495148, 0.02308025,\n",
              "        0.02242705, 0.04199897, 0.03633437, 0.05648297, 0.03167919,\n",
              "        0.03965938, 0.03721853, 0.0473213 , 0.04895432, 0.03270365,\n",
              "        0.08257076, 0.04480791, 0.02998849, 0.01038862, 0.02894912,\n",
              "        0.06207145, 0.02833167, 0.037686  , 0.07058005, 0.04734179],\n",
              "       [0.02229128, 0.04531756, 0.02686385, 0.04495148, 0.02308025,\n",
              "        0.02242705, 0.04199897, 0.03633437, 0.05648297, 0.03167919,\n",
              "        0.03965938, 0.03721853, 0.0473213 , 0.04895432, 0.03270365,\n",
              "        0.08257076, 0.0448079 , 0.02998848, 0.01038862, 0.02894912,\n",
              "        0.06207145, 0.02833167, 0.037686  , 0.07058005, 0.04734179],\n",
              "       [0.02229128, 0.04531756, 0.02686385, 0.04495148, 0.02308025,\n",
              "        0.02242705, 0.04199897, 0.03633437, 0.05648296, 0.03167919,\n",
              "        0.03965938, 0.03721853, 0.0473213 , 0.04895432, 0.03270365,\n",
              "        0.08257076, 0.0448079 , 0.02998849, 0.01038862, 0.02894912,\n",
              "        0.06207145, 0.02833167, 0.037686  , 0.07058005, 0.04734179],\n",
              "       [0.02229128, 0.04531756, 0.02686385, 0.04495148, 0.02308025,\n",
              "        0.02242705, 0.04199897, 0.03633437, 0.05648297, 0.03167919,\n",
              "        0.03965938, 0.03721853, 0.0473213 , 0.04895432, 0.03270365,\n",
              "        0.08257076, 0.0448079 , 0.02998849, 0.01038862, 0.02894912,\n",
              "        0.06207145, 0.02833167, 0.037686  , 0.07058005, 0.04734179],\n",
              "       [0.02229128, 0.04531756, 0.02686385, 0.04495148, 0.02308025,\n",
              "        0.02242705, 0.04199897, 0.03633437, 0.05648297, 0.03167919,\n",
              "        0.03965938, 0.03721853, 0.0473213 , 0.04895432, 0.03270365,\n",
              "        0.08257076, 0.0448079 , 0.02998849, 0.01038862, 0.02894912,\n",
              "        0.06207145, 0.02833167, 0.037686  , 0.07058005, 0.04734178],\n",
              "       [0.02229128, 0.04531756, 0.02686385, 0.04495148, 0.02308025,\n",
              "        0.02242705, 0.04199897, 0.03633437, 0.05648297, 0.03167919,\n",
              "        0.03965938, 0.03721853, 0.0473213 , 0.04895432, 0.03270365,\n",
              "        0.08257076, 0.0448079 , 0.02998848, 0.01038862, 0.02894912,\n",
              "        0.06207145, 0.02833167, 0.037686  , 0.07058005, 0.04734179]],\n",
              "      dtype=float32)"
            ]
          },
          "metadata": {},
          "execution_count": 52
        }
      ]
    },
    {
      "cell_type": "code",
      "source": [
        "# Round out predictions and reduce to 1-dimensional array\n",
        "model_2_preds = tf.squeeze(tf.round(model_2_pred_probs))\n",
        "model_2_preds[:10]"
      ],
      "metadata": {
        "colab": {
          "base_uri": "https://localhost:8080/"
        },
        "id": "Y3pjW1w7qcks",
        "outputId": "20d9a026-5e62-4ccd-e348-67aed9d8ede4"
      },
      "execution_count": 53,
      "outputs": [
        {
          "output_type": "execute_result",
          "data": {
            "text/plain": [
              "<tf.Tensor: shape=(10, 25), dtype=float32, numpy=\n",
              "array([[0., 0., 0., 0., 0., 0., 0., 0., 0., 0., 0., 0., 0., 0., 0., 0.,\n",
              "        0., 0., 0., 0., 0., 0., 0., 0., 0.],\n",
              "       [0., 0., 0., 0., 0., 0., 0., 0., 0., 0., 0., 0., 0., 0., 0., 0.,\n",
              "        0., 0., 0., 0., 0., 0., 0., 0., 0.],\n",
              "       [0., 0., 0., 0., 0., 0., 0., 0., 0., 0., 0., 0., 0., 0., 0., 0.,\n",
              "        0., 0., 0., 0., 0., 0., 0., 0., 0.],\n",
              "       [0., 0., 0., 0., 0., 0., 0., 0., 0., 0., 0., 0., 0., 0., 0., 0.,\n",
              "        0., 0., 0., 0., 0., 0., 0., 0., 0.],\n",
              "       [0., 0., 0., 0., 0., 0., 0., 0., 0., 0., 0., 0., 0., 0., 0., 0.,\n",
              "        0., 0., 0., 0., 0., 0., 0., 0., 0.],\n",
              "       [0., 0., 0., 0., 0., 0., 0., 0., 0., 0., 0., 0., 0., 0., 0., 0.,\n",
              "        0., 0., 0., 0., 0., 0., 0., 0., 0.],\n",
              "       [0., 0., 0., 0., 0., 0., 0., 0., 0., 0., 0., 0., 0., 0., 0., 0.,\n",
              "        0., 0., 0., 0., 0., 0., 0., 0., 0.],\n",
              "       [0., 0., 0., 0., 0., 0., 0., 0., 0., 0., 0., 0., 0., 0., 0., 0.,\n",
              "        0., 0., 0., 0., 0., 0., 0., 0., 0.],\n",
              "       [0., 0., 0., 0., 0., 0., 0., 0., 0., 0., 0., 0., 0., 0., 0., 0.,\n",
              "        0., 0., 0., 0., 0., 0., 0., 0., 0.],\n",
              "       [0., 0., 0., 0., 0., 0., 0., 0., 0., 0., 0., 0., 0., 0., 0., 0.,\n",
              "        0., 0., 0., 0., 0., 0., 0., 0., 0.]], dtype=float32)>"
            ]
          },
          "metadata": {},
          "execution_count": 53
        }
      ]
    },
    {
      "cell_type": "code",
      "source": [
        "# Convert predicted probabilities to integer-encoded labels\n",
        "model_2_preds = np.argmax(model_2_pred_probs, axis=1)\n",
        "model_2_preds"
      ],
      "metadata": {
        "colab": {
          "base_uri": "https://localhost:8080/"
        },
        "id": "9gfI1TM7qfOY",
        "outputId": "5b2b3555-0231-4b21-9846-d79064974323"
      },
      "execution_count": 54,
      "outputs": [
        {
          "output_type": "execute_result",
          "data": {
            "text/plain": [
              "array([15, 15, 15, 15, 15, 15, 15, 15, 15, 15, 15, 15, 15, 15, 15, 15, 18,\n",
              "       15, 15, 15, 15, 15, 15, 15, 15, 15, 15, 15, 15, 15, 15, 15, 15, 15,\n",
              "       15, 15, 15, 15, 15, 15, 15, 15, 15, 15, 15, 15, 15, 15, 15, 15, 15,\n",
              "       15, 15, 15, 15, 18, 15, 15, 15, 15, 15, 15, 15, 15, 15, 15, 15, 15,\n",
              "       15, 15, 15, 15, 15, 15, 15, 15, 15, 15, 15, 15, 15, 15, 15, 15, 15,\n",
              "       15, 15, 15, 15, 18, 15, 15, 15, 15, 15, 15, 15])"
            ]
          },
          "metadata": {},
          "execution_count": 54
        }
      ]
    },
    {
      "cell_type": "markdown",
      "source": [
        "##Model 3: Bidirectional-LSTM model"
      ],
      "metadata": {
        "id": "Y-dpyHJ3qhO2"
      }
    },
    {
      "cell_type": "code",
      "source": [
        "# Set random seed and create embedding layer (new embedding layer for each model)\n",
        "tf.random.set_seed(42)\n",
        "from tensorflow.keras import layers\n",
        "model_3_embedding = layers.Embedding(input_dim=max_vocab_length,\n",
        "                                     output_dim=128,\n",
        "                                     embeddings_initializer=\"uniform\",\n",
        "                                     input_length=max_length,\n",
        "                                     name=\"embedding_3\")"
      ],
      "metadata": {
        "id": "cOUw0Q7arv3p"
      },
      "execution_count": 55,
      "outputs": []
    },
    {
      "cell_type": "code",
      "source": [
        "# Build a Bidirectional RNN in TensorFlow\n",
        "inputs = layers.Input(shape=(1,), dtype=\"string\")\n",
        "x = text_vectorizer(inputs)\n",
        "x = model_3_embedding(x)\n",
        "x = layers.Bidirectional(layers.LSTM(64))(x) # bidirectional goes both ways so has double the parameters of a regular LSTM layer\n",
        "outputs = layers.Dense(num_classes, activation=\"softmax\")(x)\n",
        "model_3 = tf.keras.Model(inputs, outputs, name=\"model_3_Bidirectional\")"
      ],
      "metadata": {
        "id": "cmLPcY8grw2a"
      },
      "execution_count": 56,
      "outputs": []
    },
    {
      "cell_type": "code",
      "source": [
        "# Compile model\n",
        "model_3.compile(loss=tf.keras.losses.SparseCategoricalCrossentropy(),\n",
        "                optimizer=tf.keras.optimizers.Adam(),\n",
        "                metrics=[\"accuracy\"])"
      ],
      "metadata": {
        "id": "p_zK5p_HsDVf"
      },
      "execution_count": 57,
      "outputs": []
    },
    {
      "cell_type": "code",
      "source": [
        "# Fit model\n",
        "model_3_history = model_3.fit(train_sentences,\n",
        "                              train_labels,\n",
        "                              epochs=5,\n",
        "                              validation_data=(val_sentences, val_labels),\n",
        "                              callbacks=[create_tensorboard_callback(SAVE_DIR,\n",
        "                                                                     \"GRU\"),\n",
        "                                                                     create_model_checkpoint(model_name='model_3')])"
      ],
      "metadata": {
        "colab": {
          "base_uri": "https://localhost:8080/"
        },
        "id": "mxTQ03QMr1il",
        "outputId": "7ad6b903-48b5-4192-e4b0-b5a794467764"
      },
      "execution_count": 58,
      "outputs": [
        {
          "output_type": "stream",
          "name": "stdout",
          "text": [
            "Saving TensorBoard log files to: model_logs/GRU/20240415-135502\n",
            "Epoch 1/5\n",
            "28/28 [==============================] - 19s 545ms/step - loss: 3.1580 - accuracy: 0.1225 - val_loss: 3.1070 - val_accuracy: 0.1237\n",
            "Epoch 2/5\n",
            "28/28 [==============================] - 14s 523ms/step - loss: 2.7892 - accuracy: 0.2208 - val_loss: 2.6860 - val_accuracy: 0.1443\n",
            "Epoch 3/5\n",
            "28/28 [==============================] - 15s 531ms/step - loss: 2.0694 - accuracy: 0.4046 - val_loss: 1.9990 - val_accuracy: 0.5464\n",
            "Epoch 4/5\n",
            "28/28 [==============================] - 14s 502ms/step - loss: 1.4648 - accuracy: 0.7121 - val_loss: 1.4750 - val_accuracy: 0.6907\n",
            "Epoch 5/5\n",
            "28/28 [==============================] - 15s 544ms/step - loss: 0.9622 - accuracy: 0.8486 - val_loss: 1.0468 - val_accuracy: 0.7938\n"
          ]
        }
      ]
    },
    {
      "cell_type": "code",
      "source": [
        "plot_loss_curves(model_3_history)"
      ],
      "metadata": {
        "colab": {
          "base_uri": "https://localhost:8080/",
          "height": 410
        },
        "id": "i5vKS-8zsDtp",
        "outputId": "e4535cae-d5e3-4bc4-d288-0fe0106e5f70"
      },
      "execution_count": 59,
      "outputs": [
        {
          "output_type": "display_data",
          "data": {
            "text/plain": [
              "<Figure size 1200x400 with 2 Axes>"
            ],
            "image/png": "[encoded data removed]"
          },
          "metadata": {}
        }
      ]
    },
    {
      "cell_type": "code",
      "source": [
        "# Load in saved best performing model_3 and evaluate on test data\n",
        "model_3 = tf.keras.models.load_model(\"model_experiments/model_3\")\n",
        "model_3.evaluate(val_sentences, val_labels)"
      ],
      "metadata": {
        "colab": {
          "base_uri": "https://localhost:8080/"
        },
        "id": "ILhtlVmCsXkK",
        "outputId": "c1ba259a-bbc6-417d-d46a-bfa017899fe6"
      },
      "execution_count": 60,
      "outputs": [
        {
          "output_type": "stream",
          "name": "stdout",
          "text": [
            "4/4 [==============================] - 1s 56ms/step - loss: 1.0468 - accuracy: 0.7938\n"
          ]
        },
        {
          "output_type": "execute_result",
          "data": {
            "text/plain": [
              "[1.046822428703308, 0.7938144207000732]"
            ]
          },
          "metadata": {},
          "execution_count": 60
        }
      ]
    },
    {
      "cell_type": "code",
      "source": [
        "# Make predictions\n",
        "model_3_pred_probs = model_3.predict(val_sentences)\n",
        "model_3_pred_probs[:10]"
      ],
      "metadata": {
        "colab": {
          "base_uri": "https://localhost:8080/"
        },
        "id": "DbuVZrBJsZI-",
        "outputId": "ed45dad7-5bc6-43a7-f169-c326e0bdda3f"
      },
      "execution_count": 61,
      "outputs": [
        {
          "output_type": "stream",
          "name": "stdout",
          "text": [
            "4/4 [==============================] - 1s 36ms/step\n"
          ]
        },
        {
          "output_type": "execute_result",
          "data": {
            "text/plain": [
              "array([[3.23029384e-02, 3.57358083e-02, 6.55404702e-02, 6.01021666e-03,\n",
              "        7.42320418e-02, 3.07815764e-02, 1.84491053e-02, 1.43183637e-02,\n",
              "        4.84630279e-02, 2.86525898e-02, 1.79474447e-02, 4.99669947e-02,\n",
              "        8.69358797e-03, 1.62109081e-02, 4.42825481e-02, 5.31951385e-03,\n",
              "        6.33088266e-03, 1.74734965e-01, 1.54697383e-03, 2.12272227e-01,\n",
              "        8.01058114e-03, 2.36648060e-02, 2.79948320e-02, 1.88348873e-03,\n",
              "        4.66540195e-02],\n",
              "       [3.33693181e-03, 2.44515073e-02, 5.11921523e-03, 3.88362474e-04,\n",
              "        1.83356670e-03, 5.02914947e-04, 2.18653485e-01, 1.15992723e-03,\n",
              "        7.91057944e-02, 6.72885356e-03, 3.82416546e-02, 1.20930718e-02,\n",
              "        1.36874259e-01, 1.01075560e-01, 1.73168839e-03, 1.34468302e-01,\n",
              "        1.42705878e-02, 9.42644605e-04, 8.73547196e-02, 7.18809199e-03,\n",
              "        3.76951694e-02, 4.05280804e-03, 4.04804479e-03, 2.36293282e-02,\n",
              "        5.50535023e-02],\n",
              "       [3.46942320e-02, 6.60252199e-02, 7.93129578e-02, 1.16104977e-02,\n",
              "        6.12156130e-02, 3.73710655e-02, 1.92886889e-02, 2.37188693e-02,\n",
              "        2.35703010e-02, 3.82953621e-02, 3.71977352e-02, 6.71764836e-02,\n",
              "        1.45409005e-02, 1.64926015e-02, 6.58613667e-02, 5.95424790e-03,\n",
              "        1.02112284e-02, 1.54739782e-01, 2.37282133e-03, 8.52577165e-02,\n",
              "        1.69170350e-02, 1.81910861e-02, 5.32899238e-02, 5.99940773e-03,\n",
              "        5.06948829e-02],\n",
              "       [4.45103832e-03, 9.22157988e-03, 1.13736680e-02, 4.89398837e-04,\n",
              "        1.61713846e-02, 6.63807441e-04, 5.73199727e-02, 4.71406500e-04,\n",
              "        7.41788140e-03, 1.86762903e-02, 1.39755551e-02, 4.55026329e-02,\n",
              "        7.22665805e-03, 3.77717130e-02, 4.82699275e-03, 2.62477025e-02,\n",
              "        1.06156175e-03, 6.93293475e-03, 1.21470354e-03, 1.77453756e-02,\n",
              "        1.97224901e-03, 3.03564016e-02, 3.68300569e-03, 9.82217724e-04,\n",
              "        6.74243867e-01],\n",
              "       [8.93939054e-04, 1.67129771e-03, 6.38232741e-05, 5.48653211e-03,\n",
              "        7.95954838e-04, 1.26741698e-03, 7.49890730e-02, 3.49503272e-04,\n",
              "        7.13520311e-03, 1.81649830e-02, 1.48445996e-03, 3.17260958e-02,\n",
              "        3.83031508e-03, 1.64347272e-02, 4.02727444e-03, 7.57312536e-01,\n",
              "        1.05938688e-02, 2.13601539e-04, 1.01389678e-03, 8.32027465e-04,\n",
              "        5.57578984e-04, 2.86319628e-02, 4.93114167e-05, 1.35000853e-03,\n",
              "        3.11246086e-02],\n",
              "       [1.24947531e-02, 2.10039224e-02, 7.96691775e-02, 3.85522214e-03,\n",
              "        8.46927706e-03, 1.61902793e-02, 3.44647467e-03, 5.21510467e-02,\n",
              "        1.21554332e-02, 1.45798619e-03, 1.06018782e-02, 1.34417927e-03,\n",
              "        3.06974333e-02, 1.28976849e-03, 3.92917963e-03, 2.29782061e-04,\n",
              "        1.10400154e-03, 2.71705799e-02, 1.07480295e-03, 1.03401151e-02,\n",
              "        4.37452570e-02, 3.75536649e-04, 6.49706662e-01, 4.60684439e-03,\n",
              "        2.89040664e-03],\n",
              "       [2.62897066e-03, 3.44635062e-02, 4.78549348e-03, 1.97580620e-03,\n",
              "        3.24709807e-04, 2.71895644e-03, 9.18572489e-03, 4.82770875e-02,\n",
              "        7.90289417e-03, 1.46136142e-03, 3.48726427e-03, 6.26252440e-04,\n",
              "        5.46361864e-01, 7.67275691e-04, 8.49305652e-04, 1.98455644e-03,\n",
              "        2.43832096e-02, 5.11031016e-04, 3.54954926e-03, 9.55920084e-04,\n",
              "        2.82832593e-01, 2.80970969e-04, 1.17673287e-02, 6.30179374e-03,\n",
              "        1.61663501e-03],\n",
              "       [7.55698362e-04, 8.73635116e-04, 8.33989834e-05, 2.12703226e-03,\n",
              "        4.02055157e-04, 6.65046915e-04, 4.76096384e-02, 1.85381796e-04,\n",
              "        1.04016056e-02, 1.21491868e-02, 2.01294525e-03, 2.27321666e-02,\n",
              "        2.42890255e-03, 3.21233384e-02, 1.72248844e-03, 8.08862805e-01,\n",
              "        4.70980071e-03, 1.74608576e-04, 1.53835246e-03, 6.62572624e-04,\n",
              "        3.74435826e-04, 1.49810035e-02, 6.42407904e-05, 8.74097517e-04,\n",
              "        3.14855352e-02],\n",
              "       [3.07985749e-02, 3.35804522e-02, 7.06834048e-02, 6.50248583e-03,\n",
              "        8.81367326e-02, 3.02041061e-02, 1.61854308e-02, 1.27426870e-02,\n",
              "        2.32007261e-02, 3.03071123e-02, 1.87319443e-02, 6.19891472e-02,\n",
              "        6.30668411e-03, 1.41952578e-02, 5.50968498e-02, 4.37892321e-03,\n",
              "        5.11716818e-03, 1.97120607e-01, 1.05976255e-03, 1.71855107e-01,\n",
              "        6.86314283e-03, 2.29484979e-02, 3.37577835e-02, 2.31660251e-03,\n",
              "        5.59208170e-02],\n",
              "       [1.20799104e-02, 1.69610847e-02, 5.97991096e-03, 1.42615736e-02,\n",
              "        1.62814241e-02, 1.23185189e-02, 7.94160590e-02, 3.68829467e-03,\n",
              "        1.26637649e-02, 5.32377698e-02, 1.20452959e-02, 2.67484218e-01,\n",
              "        6.76576188e-03, 4.49752547e-02, 4.34191078e-02, 1.39816359e-01,\n",
              "        1.27279330e-02, 1.58706736e-02, 1.55417586e-03, 1.87084861e-02,\n",
              "        2.72807176e-03, 7.93497935e-02, 2.78747664e-03, 7.83459190e-03,\n",
              "        1.17044449e-01]], dtype=float32)"
            ]
          },
          "metadata": {},
          "execution_count": 61
        }
      ]
    },
    {
      "cell_type": "code",
      "source": [
        "# Round out predictions and reduce to 1-dimensional array\n",
        "model_3_preds = tf.squeeze(tf.round(model_3_pred_probs))\n",
        "model_3_preds[:10]"
      ],
      "metadata": {
        "colab": {
          "base_uri": "https://localhost:8080/"
        },
        "id": "BTN8d5-osa58",
        "outputId": "dce71a45-f25c-41c1-eff2-1aa3827f30d4"
      },
      "execution_count": 62,
      "outputs": [
        {
          "output_type": "execute_result",
          "data": {
            "text/plain": [
              "<tf.Tensor: shape=(10, 25), dtype=float32, numpy=\n",
              "array([[0., 0., 0., 0., 0., 0., 0., 0., 0., 0., 0., 0., 0., 0., 0., 0.,\n",
              "        0., 0., 0., 0., 0., 0., 0., 0., 0.],\n",
              "       [0., 0., 0., 0., 0., 0., 0., 0., 0., 0., 0., 0., 0., 0., 0., 0.,\n",
              "        0., 0., 0., 0., 0., 0., 0., 0., 0.],\n",
              "       [0., 0., 0., 0., 0., 0., 0., 0., 0., 0., 0., 0., 0., 0., 0., 0.,\n",
              "        0., 0., 0., 0., 0., 0., 0., 0., 0.],\n",
              "       [0., 0., 0., 0., 0., 0., 0., 0., 0., 0., 0., 0., 0., 0., 0., 0.,\n",
              "        0., 0., 0., 0., 0., 0., 0., 0., 1.],\n",
              "       [0., 0., 0., 0., 0., 0., 0., 0., 0., 0., 0., 0., 0., 0., 0., 1.,\n",
              "        0., 0., 0., 0., 0., 0., 0., 0., 0.],\n",
              "       [0., 0., 0., 0., 0., 0., 0., 0., 0., 0., 0., 0., 0., 0., 0., 0.,\n",
              "        0., 0., 0., 0., 0., 0., 1., 0., 0.],\n",
              "       [0., 0., 0., 0., 0., 0., 0., 0., 0., 0., 0., 0., 1., 0., 0., 0.,\n",
              "        0., 0., 0., 0., 0., 0., 0., 0., 0.],\n",
              "       [0., 0., 0., 0., 0., 0., 0., 0., 0., 0., 0., 0., 0., 0., 0., 1.,\n",
              "        0., 0., 0., 0., 0., 0., 0., 0., 0.],\n",
              "       [0., 0., 0., 0., 0., 0., 0., 0., 0., 0., 0., 0., 0., 0., 0., 0.,\n",
              "        0., 0., 0., 0., 0., 0., 0., 0., 0.],\n",
              "       [0., 0., 0., 0., 0., 0., 0., 0., 0., 0., 0., 0., 0., 0., 0., 0.,\n",
              "        0., 0., 0., 0., 0., 0., 0., 0., 0.]], dtype=float32)>"
            ]
          },
          "metadata": {},
          "execution_count": 62
        }
      ]
    },
    {
      "cell_type": "code",
      "source": [
        "# Convert predicted probabilities to integer-encoded labels\n",
        "model_3_preds = np.argmax(model_3_pred_probs, axis=1)\n",
        "model_3_preds"
      ],
      "metadata": {
        "colab": {
          "base_uri": "https://localhost:8080/"
        },
        "id": "fD_QjR1Esdkh",
        "outputId": "7ff2b704-13ce-4856-c073-4abc391d033a"
      },
      "execution_count": 63,
      "outputs": [
        {
          "output_type": "execute_result",
          "data": {
            "text/plain": [
              "array([19,  6, 17, 24, 15, 22, 12, 15, 17, 11, 12, 10, 15,  1,  1, 17, 18,\n",
              "       15, 22,  1,  1, 11,  7,  9, 14, 23,  6,  3,  6, 10,  1, 19,  3, 23,\n",
              "       22, 24,  5, 12, 24, 10,  9,  8, 10,  7,  3, 17, 13,  1,  2, 13, 17,\n",
              "       11, 23,  3, 14,  4,  5,  1,  8, 17,  4, 24, 17,  3, 15, 14, 24,  9,\n",
              "        8,  6, 10, 16, 10, 10,  8, 17, 22,  7, 17, 13,  7, 17, 10, 20, 24,\n",
              "       23, 16, 11, 23, 18, 17,  8, 14, 22, 14, 24, 11])"
            ]
          },
          "metadata": {},
          "execution_count": 63
        }
      ]
    },
    {
      "cell_type": "markdown",
      "source": [
        "##Model 4: TensorFlow Hub Pretrained Feature Extractor"
      ],
      "metadata": {
        "id": "T3YafvLVsd-y"
      }
    },
    {
      "cell_type": "code",
      "source": [
        "# Example of pretrained embedding with universal sentence encoder - https://tfhub.dev/google/universal-sentence-encoder/4\n",
        "import tensorflow_hub as hub\n",
        "embed = hub.load(\"https://tfhub.dev/google/universal-sentence-encoder/4\") # load Universal Sentence Encoder"
      ],
      "metadata": {
        "id": "Xjisua97snwY"
      },
      "execution_count": 64,
      "outputs": []
    },
    {
      "cell_type": "code",
      "source": [
        "# We can use this encoding layer in place of our text_vectorizer and embedding layer\n",
        "sentence_encoder_layer = hub.KerasLayer(\"https://tfhub.dev/google/universal-sentence-encoder/4\",\n",
        "                                        input_shape=[], # shape of inputs coming to our model\n",
        "                                        dtype=tf.string, # data type of inputs coming to the USE layer\n",
        "                                        trainable=False, # keep the pretrained weights (we'll create a feature extractor)\n",
        "                                        name=\"USE\")"
      ],
      "metadata": {
        "id": "SnEaRg3Yso2r"
      },
      "execution_count": 65,
      "outputs": []
    },
    {
      "cell_type": "code",
      "source": [
        "# Create model using the Sequential API\n",
        "model_4 = tf.keras.Sequential([\n",
        "  sentence_encoder_layer, # take in sentences and then encode them into an embedding\n",
        "  layers.Dense(64, activation=\"relu\"),\n",
        "  layers.Dense(num_classes, activation=\"softmax\")\n",
        "], name=\"model_4_USE\")\n",
        "\n",
        "# Compile model\n",
        "model_4.compile(loss=tf.keras.losses.SparseCategoricalCrossentropy(),\n",
        "                optimizer=tf.keras.optimizers.Adam(),\n",
        "                metrics=[\"accuracy\"])\n",
        "\n",
        "model_4.summary()"
      ],
      "metadata": {
        "colab": {
          "base_uri": "https://localhost:8080/"
        },
        "id": "OpbADoN-srAn",
        "outputId": "f25b9630-1549-47fb-dc6f-681f5195c244"
      },
      "execution_count": 66,
      "outputs": [
        {
          "output_type": "stream",
          "name": "stdout",
          "text": [
            "Model: \"model_4_USE\"\n",
            "_________________________________________________________________\n",
            " Layer (type)                Output Shape              Param #   \n",
            "=================================================================\n",
            " USE (KerasLayer)            (None, 512)               256797824 \n",
            "                                                                 \n",
            " dense_3 (Dense)             (None, 64)                32832     \n",
            "                                                                 \n",
            " dense_4 (Dense)             (None, 25)                1625      \n",
            "                                                                 \n",
            "=================================================================\n",
            "Total params: 256832281 (979.74 MB)\n",
            "Trainable params: 34457 (134.60 KB)\n",
            "Non-trainable params: 256797824 (979.61 MB)\n",
            "_________________________________________________________________\n"
          ]
        }
      ]
    },
    {
      "cell_type": "code",
      "source": [
        "# Train a classifier on top of pretrained embeddings\n",
        "model_4_history = model_4.fit(train_sentences,\n",
        "                              train_labels,\n",
        "                              epochs=5,\n",
        "                              validation_data=(val_sentences, val_labels),\n",
        "                              callbacks=[create_tensorboard_callback(SAVE_DIR,\n",
        "                                                                     \"tf_hub_sentence_encoder\"),\n",
        "                                                                     create_model_checkpoint(model_name='model_4')])"
      ],
      "metadata": {
        "colab": {
          "base_uri": "https://localhost:8080/"
        },
        "id": "3m5TMVAHtEGq",
        "outputId": "564ec41f-7c42-4186-f0ff-58a0542316fc"
      },
      "execution_count": 67,
      "outputs": [
        {
          "output_type": "stream",
          "name": "stdout",
          "text": [
            "Saving TensorBoard log files to: model_logs/tf_hub_sentence_encoder/20240415-135659\n",
            "Epoch 1/5\n",
            "28/28 [==============================] - 17s 432ms/step - loss: 3.1292 - accuracy: 0.1919 - val_loss: 3.0592 - val_accuracy: 0.1856\n",
            "Epoch 2/5\n",
            "28/28 [==============================] - 11s 409ms/step - loss: 2.8684 - accuracy: 0.3283 - val_loss: 2.8621 - val_accuracy: 0.1959\n",
            "Epoch 3/5\n",
            "28/28 [==============================] - 14s 510ms/step - loss: 2.5810 - accuracy: 0.3584 - val_loss: 2.6129 - val_accuracy: 0.3093\n",
            "Epoch 4/5\n",
            "28/28 [==============================] - 11s 422ms/step - loss: 2.2840 - accuracy: 0.5179 - val_loss: 2.3567 - val_accuracy: 0.4227\n",
            "Epoch 5/5\n",
            "28/28 [==============================] - 19s 695ms/step - loss: 1.9939 - accuracy: 0.6069 - val_loss: 2.0993 - val_accuracy: 0.5258\n"
          ]
        }
      ]
    },
    {
      "cell_type": "markdown",
      "source": [
        "##Predicting on resume from the wild"
      ],
      "metadata": {
        "id": "ofXKvvo1tIH5"
      }
    },
    {
      "cell_type": "code",
      "source": [
        "# Turn resume into string\n",
        "resume = '''I am an experienced software developer with expertise in Java, Python, and web development.\n",
        "I have worked on various projects ranging from backend systems to front-end interfaces. My previous experience includes working as a Java\n",
        "developer at XYZ Tech and as a web developer at ABC Inc. I am highly motivated, quick learner,\n",
        "and passionate about writing clean and efficient code.\n",
        "In my free time, I enjoy contributing to open-source projects and exploring new technologies.'''"
      ],
      "metadata": {
        "id": "KBPdLNcRtyZO"
      },
      "execution_count": 68,
      "outputs": []
    },
    {
      "cell_type": "code",
      "source": [
        "def predict_on_sentence(model, sentence, class_names):\n",
        "    \"\"\"\n",
        "    Uses model to make a prediction on sentence for multiclass classification.\n",
        "\n",
        "    Returns the sentence, the predicted label, the predicted class name, and the prediction probability.\n",
        "    \"\"\"\n",
        "    pred_prob = model.predict([sentence])\n",
        "    pred_label = pred_prob.argmax(axis=1)[0]\n",
        "    pred_class_name = class_names[pred_label]\n",
        "    pred_prob = pred_prob[0][pred_label]\n",
        "    print(f\"Predicted Label: {pred_label}, Class: {pred_class_name}, Probability: {pred_prob}\")\n",
        "    print(f\"Sentence:\\n{sentence}\")"
      ],
      "metadata": {
        "id": "nrBU9C4RtICW"
      },
      "execution_count": 69,
      "outputs": []
    },
    {
      "cell_type": "code",
      "source": [
        "# Make a prediction on resume from the wild\n",
        "predict_on_sentence(model=model_1,\n",
        "                    sentence=resume,\n",
        "                    class_names=class_names)"
      ],
      "metadata": {
        "colab": {
          "base_uri": "https://localhost:8080/"
        },
        "id": "FjvkwYHCtH_M",
        "outputId": "c5d3188e-7042-4d4b-c2aa-af75bc902856"
      },
      "execution_count": 70,
      "outputs": [
        {
          "output_type": "stream",
          "name": "stdout",
          "text": [
            "1/1 [==============================] - 0s 357ms/step\n",
            "Predicted Label: 20, Class: Python Developer, Probability: 0.19830872118473053\n",
            "Sentence:\n",
            "I am an experienced software developer with expertise in Java, Python, and web development.\n",
            "I have worked on various projects ranging from backend systems to front-end interfaces. My previous experience includes working as a Java\n",
            "developer at XYZ Tech and as a web developer at ABC Inc. I am highly motivated, quick learner,\n",
            "and passionate about writing clean and efficient code.\n",
            "In my free time, I enjoy contributing to open-source projects and exploring new technologies.\n"
          ]
        }
      ]
    },
    {
      "cell_type": "code",
      "source": [
        "resume_2 = \"\"\"I am a skilled web designer with expertise in HTML, CSS, JavaScript, and various front-end frameworks such as React and Vue.js. Over the past five years, I have worked on a wide range of projects, including designing responsive and user-friendly websites for clients across different industries. My portfolio includes e-commerce platforms, corporate websites, and personal blogs.\n",
        "\n",
        "In my previous role at XYZ Web Solutions, I led a team of designers and developers to create visually appealing and functional websites that meet the client's requirements. I am proficient in using design tools like Adobe Photoshop and Illustrator to create mockups and prototypes. I also have experience in optimizing website performance and ensuring cross-browser compatibility.\n",
        "\n",
        "I am passionate about staying updated with the latest trends and technologies in web design and constantly strive to improve my skills. I have excellent communication and teamwork skills, allowing me to collaborate effectively with clients and stakeholders to deliver high-quality projects on time.\n",
        "\n",
        "Outside of work, I enjoy attending design conferences and participating in online communities to share knowledge and learn from others in the industry.\n",
        "\"\"\""
      ],
      "metadata": {
        "id": "y4TNTsfrvnEr"
      },
      "execution_count": 71,
      "outputs": []
    },
    {
      "cell_type": "code",
      "source": [
        "resume_3 = \"\"\"I am a skilled web designer.\"\"\""
      ],
      "metadata": {
        "id": "sLmKuk2bw7Ug"
      },
      "execution_count": 72,
      "outputs": []
    },
    {
      "cell_type": "code",
      "source": [
        "# Make a prediction on resume from the wild\n",
        "predict_on_sentence(model=model_1,\n",
        "                    sentence=resume_3,\n",
        "                    class_names=class_names)"
      ],
      "metadata": {
        "colab": {
          "base_uri": "https://localhost:8080/"
        },
        "id": "vD9poyVOwmxG",
        "outputId": "b0d7fcf2-4d75-4b2f-d4ad-0d72803076dc"
      },
      "execution_count": 73,
      "outputs": [
        {
          "output_type": "stream",
          "name": "stdout",
          "text": [
            "1/1 [==============================] - 0s 44ms/step\n",
            "Predicted Label: 15, Class: Java Developer, Probability: 0.0809616819024086\n",
            "Sentence:\n",
            "I am a skilled web designer.\n"
          ]
        }
      ]
    },
    {
      "cell_type": "markdown",
      "source": [
        "##Model 5"
      ],
      "metadata": {
        "id": "CUU0IfCsxycV"
      }
    },
    {
      "cell_type": "code",
      "source": [
        "from tensorflow.keras.layers import Dropout\n",
        "\n",
        "# Create LSTM model\n",
        "inputs = layers.Input(shape=(1,), dtype=\"string\")\n",
        "x = text_vectorizer(inputs)\n",
        "x = embedding(x)\n",
        "x = layers.LSTM(128, return_sequences=True)(x)  # Increased LSTM units\n",
        "x = Dropout(0.5)(x)  # Added dropout layer\n",
        "x = layers.LSTM(64)(x)\n",
        "x = Dropout(0.5)(x)  # Added dropout layer\n",
        "outputs = layers.Dense(num_classes, activation=\"softmax\")(x)\n",
        "model_5 = tf.keras.Model(inputs, outputs, name=\"model_5_LSTM\")"
      ],
      "metadata": {
        "id": "_dEjzMyAwqG6"
      },
      "execution_count": 74,
      "outputs": []
    },
    {
      "cell_type": "code",
      "source": [
        "# Compile model\n",
        "model_5.compile(loss=tf.keras.losses.SparseCategoricalCrossentropy(),\n",
        "                optimizer=tf.keras.optimizers.Adam(learning_rate=0.001),  # Adjusted learning rate\n",
        "                metrics=[\"accuracy\"])"
      ],
      "metadata": {
        "id": "za-CMkNCx5KN"
      },
      "execution_count": 75,
      "outputs": []
    },
    {
      "cell_type": "code",
      "source": [
        "# Fit model\n",
        "model_5_history = model_5.fit(train_sentences,\n",
        "                              train_labels,\n",
        "                              epochs=10,  # Increased number of epochs\n",
        "                              validation_data=(val_sentences, val_labels),\n",
        "                              callbacks=[create_tensorboard_callback(SAVE_DIR, \"LSTM\"),\n",
        "                                         create_model_checkpoint(model_name='model_5')])"
      ],
      "metadata": {
        "id": "66XaX9bJx7FT",
        "colab": {
          "base_uri": "https://localhost:8080/"
        },
        "outputId": "ccb8103c-b199-43b0-bed5-3659578866f3"
      },
      "execution_count": 76,
      "outputs": [
        {
          "output_type": "stream",
          "name": "stdout",
          "text": [
            "Saving TensorBoard log files to: model_logs/LSTM/20240415-135825\n",
            "Epoch 1/10\n",
            "28/28 [==============================] - 34s 890ms/step - loss: 2.9014 - accuracy: 0.2347 - val_loss: 2.6095 - val_accuracy: 0.2784\n",
            "Epoch 2/10\n",
            "28/28 [==============================] - 20s 738ms/step - loss: 1.9908 - accuracy: 0.4775 - val_loss: 1.8371 - val_accuracy: 0.5052\n",
            "Epoch 3/10\n",
            "28/28 [==============================] - 19s 679ms/step - loss: 1.3228 - accuracy: 0.6948 - val_loss: 1.2806 - val_accuracy: 0.7216\n",
            "Epoch 4/10\n",
            "28/28 [==============================] - 19s 701ms/step - loss: 0.9342 - accuracy: 0.8335 - val_loss: 0.9432 - val_accuracy: 0.8454\n",
            "Epoch 5/10\n",
            "28/28 [==============================] - 27s 974ms/step - loss: 0.6322 - accuracy: 0.9179 - val_loss: 0.6350 - val_accuracy: 0.8660\n",
            "Epoch 6/10\n",
            "28/28 [==============================] - 19s 688ms/step - loss: 0.4157 - accuracy: 0.9526 - val_loss: 0.4493 - val_accuracy: 0.9278\n",
            "Epoch 7/10\n",
            "28/28 [==============================] - 17s 630ms/step - loss: 0.2830 - accuracy: 0.9723 - val_loss: 0.3257 - val_accuracy: 0.9072\n",
            "Epoch 8/10\n",
            "28/28 [==============================] - 18s 666ms/step - loss: 0.2253 - accuracy: 0.9769 - val_loss: 0.2481 - val_accuracy: 0.9381\n",
            "Epoch 9/10\n",
            "28/28 [==============================] - 18s 675ms/step - loss: 0.1585 - accuracy: 0.9838 - val_loss: 0.1559 - val_accuracy: 0.9794\n",
            "Epoch 10/10\n",
            "28/28 [==============================] - 5s 160ms/step - loss: 0.1037 - accuracy: 0.9931 - val_loss: 0.2191 - val_accuracy: 0.9485\n"
          ]
        }
      ]
    },
    {
      "cell_type": "code",
      "source": [
        "# Load in saved best performing model_1 and evaluate on test data\n",
        "model_5 = tf.keras.models.load_model(\"model_experiments/model_5\")\n",
        "model_5.evaluate(val_sentences, val_labels)"
      ],
      "metadata": {
        "id": "ngNoeDIax7cx",
        "colab": {
          "base_uri": "https://localhost:8080/"
        },
        "outputId": "12daf604-4f5a-44a5-c4d3-bc9db296239e"
      },
      "execution_count": 77,
      "outputs": [
        {
          "output_type": "stream",
          "name": "stdout",
          "text": [
            "4/4 [==============================] - 5s 112ms/step - loss: 0.1559 - accuracy: 0.9794\n"
          ]
        },
        {
          "output_type": "execute_result",
          "data": {
            "text/plain": [
              "[0.15589410066604614, 0.9793814420700073]"
            ]
          },
          "metadata": {},
          "execution_count": 77
        }
      ]
    },
    {
      "cell_type": "code",
      "source": [
        "plot_loss_curves(model_5_history)"
      ],
      "metadata": {
        "id": "wFSgQJNuyLDh",
        "colab": {
          "base_uri": "https://localhost:8080/",
          "height": 410
        },
        "outputId": "6a358556-9e93-4801-9672-c3e56660e652"
      },
      "execution_count": 78,
      "outputs": [
        {
          "output_type": "display_data",
          "data": {
            "text/plain": [
              "<Figure size 1200x400 with 2 Axes>"
            ],
            "image/png": "[encoded data removed]"
          },
          "metadata": {}
        }
      ]
    },
    {
      "cell_type": "code",
      "source": [
        "# Make a prediction on resume from the wild\n",
        "predict_on_sentence(model=model_5,\n",
        "                    sentence=resume_3,\n",
        "                    class_names=class_names)"
      ],
      "metadata": {
        "id": "FWve_tZIyUEJ",
        "colab": {
          "base_uri": "https://localhost:8080/"
        },
        "outputId": "0ca72741-2a87-4bdb-bf41-f57e12e46b09"
      },
      "execution_count": 79,
      "outputs": [
        {
          "output_type": "stream",
          "name": "stdout",
          "text": [
            "1/1 [==============================] - 2s 2s/step\n",
            "Predicted Label: 15, Class: Java Developer, Probability: 0.28906136751174927\n",
            "Sentence:\n",
            "I am a skilled web designer.\n"
          ]
        }
      ]
    },
    {
      "cell_type": "code",
      "source": [
        "resume_4 = '''PROFILE\n",
        "\n",
        "Passionate and dedicated health and fitness professional with over 5 years of experience in personal training, group fitness instruction, and wellness coaching. Certified by the National Academy of Sports Medicine (NASM) as a Certified Personal Trainer (CPT) and Fitness Nutrition Specialist (FNS). Proven track record of helping clients achieve their fitness goals through customized workout plans, nutritional guidance, and motivational support.\n",
        "\n",
        "EXPERIENCE\n",
        "\n",
        "Fitness Trainer\n",
        "FitZone Gym, Anytown, USA\n",
        "September 2019 - Present\n",
        "\n",
        "- Conduct one-on-one personal training sessions with clients to assess fitness levels, set goals, and develop personalized workout plans tailored to their needs and preferences.\n",
        "- Lead group fitness classes including HIIT, strength training, and yoga, providing dynamic and engaging workouts for participants of all fitness levels.\n",
        "- Educate clients on proper exercise techniques, injury prevention, and the importance of nutrition for overall health and fitness.\n",
        "- Track client progress, adjust workout plans as needed, and provide ongoing support and motivation to help clients stay committed to their fitness journey.\n",
        "\n",
        "Wellness Coach\n",
        "HealthyLiving Wellness Center, Anytown, USA\n",
        "January 2017 - August 2019\n",
        "\n",
        "- Provided individualized wellness coaching sessions to clients, focusing on goal setting, stress management, sleep optimization, and healthy lifestyle habits.\n",
        "- Conducted fitness assessments and developed comprehensive wellness plans addressing clients' physical, emotional, and mental well-being.\n",
        "- Collaborated with other healthcare professionals, including nutritionists, physical therapists, and mental health counselors, to provide holistic care for clients.\n",
        "- Organized wellness workshops and seminars on topics such as nutrition, mindfulness, and stress reduction to educate and empower clients to take control of their health.\n",
        "\n",
        "EDUCATION\n",
        "\n",
        "Bachelor of Science in Exercise Science\n",
        "Anytown University, Anytown, USA\n",
        "Graduated: May 2016\n",
        "\n",
        "CERTIFICATIONS\n",
        "\n",
        "- Certified Personal Trainer (CPT), National Academy of Sports Medicine (NASM)\n",
        "- Fitness Nutrition Specialist (FNS), National Academy of Sports Medicine (NASM)\n",
        "- CPR and First Aid Certified\n",
        "\n",
        "SKILLS\n",
        "\n",
        "- Personalized fitness program design\n",
        "- Group fitness instruction\n",
        "- Nutrition coaching and meal planning\n",
        "- Wellness coaching and goal setting\n",
        "- Client assessment and progress tracking\n",
        "- Motivational support and encouragement\n",
        "- Strong communication and interpersonal skills\n",
        "'''"
      ],
      "metadata": {
        "id": "qxcdn8gJEFdk"
      },
      "execution_count": 83,
      "outputs": []
    },
    {
      "cell_type": "code",
      "source": [
        "# Make a prediction on resume from the wild\n",
        "predict_on_sentence(model=model_5,\n",
        "                    sentence=resume_4,\n",
        "                    class_names=class_names)"
      ],
      "metadata": {
        "colab": {
          "base_uri": "https://localhost:8080/"
        },
        "id": "w7h2Gv2dEPiQ",
        "outputId": "e2fd7a6b-262d-4512-bd5a-dc140d502c7d"
      },
      "execution_count": 84,
      "outputs": [
        {
          "output_type": "stream",
          "name": "stdout",
          "text": [
            "1/1 [==============================] - 0s 60ms/step\n",
            "Predicted Label: 14, Class: Health and fitness, Probability: 0.90383380651474\n",
            "Sentence:\n",
            "PROFILE\n",
            "\n",
            "Passionate and dedicated health and fitness professional with over 5 years of experience in personal training, group fitness instruction, and wellness coaching. Certified by the National Academy of Sports Medicine (NASM) as a Certified Personal Trainer (CPT) and Fitness Nutrition Specialist (FNS). Proven track record of helping clients achieve their fitness goals through customized workout plans, nutritional guidance, and motivational support.\n",
            "\n",
            "EXPERIENCE\n",
            "\n",
            "Fitness Trainer\n",
            "FitZone Gym, Anytown, USA\n",
            "September 2019 - Present\n",
            "\n",
            "- Conduct one-on-one personal training sessions with clients to assess fitness levels, set goals, and develop personalized workout plans tailored to their needs and preferences.\n",
            "- Lead group fitness classes including HIIT, strength training, and yoga, providing dynamic and engaging workouts for participants of all fitness levels.\n",
            "- Educate clients on proper exercise techniques, injury prevention, and the importance of nutrition for overall health and fitness.\n",
            "- Track client progress, adjust workout plans as needed, and provide ongoing support and motivation to help clients stay committed to their fitness journey.\n",
            "\n",
            "Wellness Coach\n",
            "HealthyLiving Wellness Center, Anytown, USA\n",
            "January 2017 - August 2019\n",
            "\n",
            "- Provided individualized wellness coaching sessions to clients, focusing on goal setting, stress management, sleep optimization, and healthy lifestyle habits.\n",
            "- Conducted fitness assessments and developed comprehensive wellness plans addressing clients' physical, emotional, and mental well-being.\n",
            "- Collaborated with other healthcare professionals, including nutritionists, physical therapists, and mental health counselors, to provide holistic care for clients.\n",
            "- Organized wellness workshops and seminars on topics such as nutrition, mindfulness, and stress reduction to educate and empower clients to take control of their health.\n",
            "\n",
            "EDUCATION\n",
            "\n",
            "Bachelor of Science in Exercise Science\n",
            "Anytown University, Anytown, USA\n",
            "Graduated: May 2016\n",
            "\n",
            "CERTIFICATIONS\n",
            "\n",
            "- Certified Personal Trainer (CPT), National Academy of Sports Medicine (NASM)\n",
            "- Fitness Nutrition Specialist (FNS), National Academy of Sports Medicine (NASM)\n",
            "- CPR and First Aid Certified\n",
            "\n",
            "SKILLS\n",
            "\n",
            "- Personalized fitness program design\n",
            "- Group fitness instruction\n",
            "- Nutrition coaching and meal planning\n",
            "- Wellness coaching and goal setting\n",
            "- Client assessment and progress tracking\n",
            "- Motivational support and encouragement\n",
            "- Strong communication and interpersonal skills\n",
            "\n"
          ]
        }
      ]
    },
    {
      "cell_type": "code",
      "source": [
        "resume_5 = \"\"\"[Your Name]\n",
        "[Your Address]\n",
        "[City, State, Zip Code]\n",
        "[Your Email Address]\n",
        "[Your Phone Number]\n",
        "\n",
        "Objective:\n",
        "Highly skilled DevOps Engineer with over 5 years of experience in designing, implementing, and maintaining CI/CD pipelines, infrastructure automation, and cloud solutions. Proven track record of optimizing development workflows, increasing deployment efficiency, and reducing time to market. Seeking to leverage my expertise to contribute to the success of a forward-thinking tech company.\n",
        "\n",
        "Education:\n",
        "Bachelor of Science in Computer Science\n",
        "[University Name], [City, State]\n",
        "Graduated: [Month, Year]\n",
        "\n",
        "Professional Experience:\n",
        "\n",
        "DevOps Engineer\n",
        "[Company Name], [City, State]\n",
        "[Month, Year] - Present\n",
        "\n",
        "- Design and implement CI/CD pipelines using Jenkins, GitLab CI, or CircleCI to automate the build, test, and deployment processes.\n",
        "- Manage infrastructure as code using tools such as Terraform, AWS CloudFormation, or Azure Resource Manager to provision and configure cloud resources.\n",
        "- Implement containerization using Docker and container orchestration using Kubernetes to enable scalable and resilient deployments.\n",
        "- Monitor and maintain production systems using tools like Prometheus, Grafana, and ELK stack to ensure high availability and performance.\n",
        "- Collaborate with development and operations teams to troubleshoot issues, optimize performance, and improve reliability.\n",
        "- Implement security best practices, including role-based access control, encryption, and vulnerability scanning, to protect sensitive data and applications.\n",
        "- Participate in on-call rotations and incident response activities to ensure timely resolution of production issues.\n",
        "\n",
        "DevOps Specialist\n",
        "[Company Name], [City, State]\n",
        "[Month, Year] - [Month, Year]\n",
        "\n",
        "- Implemented automated deployment processes for web applications using Ansible, Puppet, or Chef to streamline deployment workflows and reduce manual errors.\n",
        "- Designed and implemented monitoring solutions using Nagios, Zabbix, or Datadog to proactively identify and address performance bottlenecks and system failures.\n",
        "- Provided technical guidance and support to development teams on best practices for continuous integration, delivery, and deployment.\n",
        "- Worked closely with infrastructure teams to design and implement scalable and reliable cloud architectures using AWS, Azure, or Google Cloud Platform.\n",
        "- Conducted regular code reviews, performance evaluations, and knowledge-sharing sessions to foster a culture of collaboration and continuous improvement.\n",
        "\n",
        "Skills:\n",
        "- Proficient in CI/CD tools such as Jenkins, GitLab CI, CircleCI\n",
        "- Experience with infrastructure as code tools such as Terraform, AWS CloudFormation, Azure Resource Manager\n",
        "- Knowledge of containerization and orchestration tools such as Docker, Kubernetes\n",
        "- Familiarity with monitoring and logging tools such as Prometheus, Grafana, ELK stack\n",
        "- Strong scripting skills in languages like Bash, Python, or Ruby\n",
        "- Excellent problem-solving and troubleshooting skills\n",
        "- Strong communication and collaboration skills\n",
        "- Ability to work effectively in a fast-paced, agile environment\n",
        "\n",
        "Certifications:\n",
        "- AWS Certified DevOps Engineer (optional)\n",
        "- Certified Kubernetes Administrator (CKA) (optional)\n",
        "\n",
        "References:\n",
        "Available upon request\n",
        "\"\"\""
      ],
      "metadata": {
        "id": "1jDLZT3tEpaj"
      },
      "execution_count": 95,
      "outputs": []
    },
    {
      "cell_type": "code",
      "source": [
        "# Make a prediction on resume from the wild\n",
        "predict_on_sentence(model=model_5,\n",
        "                    sentence=resume_5,\n",
        "                    class_names=class_names)"
      ],
      "metadata": {
        "colab": {
          "base_uri": "https://localhost:8080/"
        },
        "id": "5raZcWS5FfKr",
        "outputId": "8079486e-242f-4323-e859-d529f939b740"
      },
      "execution_count": 96,
      "outputs": [
        {
          "output_type": "stream",
          "name": "stdout",
          "text": [
            "1/1 [==============================] - 0s 94ms/step\n",
            "Predicted Label: 8, Class: DevOps Engineer, Probability: 0.45391061902046204\n",
            "Sentence:\n",
            "[Your Name]\n",
            "[Your Address]\n",
            "[City, State, Zip Code]\n",
            "[Your Email Address]\n",
            "[Your Phone Number]\n",
            "\n",
            "Objective:\n",
            "Highly skilled DevOps Engineer with over 5 years of experience in designing, implementing, and maintaining CI/CD pipelines, infrastructure automation, and cloud solutions. Proven track record of optimizing development workflows, increasing deployment efficiency, and reducing time to market. Seeking to leverage my expertise to contribute to the success of a forward-thinking tech company.\n",
            "\n",
            "Education:\n",
            "Bachelor of Science in Computer Science\n",
            "[University Name], [City, State]\n",
            "Graduated: [Month, Year]\n",
            "\n",
            "Professional Experience:\n",
            "\n",
            "DevOps Engineer\n",
            "[Company Name], [City, State]\n",
            "[Month, Year] - Present\n",
            "\n",
            "- Design and implement CI/CD pipelines using Jenkins, GitLab CI, or CircleCI to automate the build, test, and deployment processes.\n",
            "- Manage infrastructure as code using tools such as Terraform, AWS CloudFormation, or Azure Resource Manager to provision and configure cloud resources.\n",
            "- Implement containerization using Docker and container orchestration using Kubernetes to enable scalable and resilient deployments.\n",
            "- Monitor and maintain production systems using tools like Prometheus, Grafana, and ELK stack to ensure high availability and performance.\n",
            "- Collaborate with development and operations teams to troubleshoot issues, optimize performance, and improve reliability.\n",
            "- Implement security best practices, including role-based access control, encryption, and vulnerability scanning, to protect sensitive data and applications.\n",
            "- Participate in on-call rotations and incident response activities to ensure timely resolution of production issues.\n",
            "\n",
            "DevOps Specialist\n",
            "[Company Name], [City, State]\n",
            "[Month, Year] - [Month, Year]\n",
            "\n",
            "- Implemented automated deployment processes for web applications using Ansible, Puppet, or Chef to streamline deployment workflows and reduce manual errors.\n",
            "- Designed and implemented monitoring solutions using Nagios, Zabbix, or Datadog to proactively identify and address performance bottlenecks and system failures.\n",
            "- Provided technical guidance and support to development teams on best practices for continuous integration, delivery, and deployment.\n",
            "- Worked closely with infrastructure teams to design and implement scalable and reliable cloud architectures using AWS, Azure, or Google Cloud Platform.\n",
            "- Conducted regular code reviews, performance evaluations, and knowledge-sharing sessions to foster a culture of collaboration and continuous improvement.\n",
            "\n",
            "Skills:\n",
            "- Proficient in CI/CD tools such as Jenkins, GitLab CI, CircleCI\n",
            "- Experience with infrastructure as code tools such as Terraform, AWS CloudFormation, Azure Resource Manager\n",
            "- Knowledge of containerization and orchestration tools such as Docker, Kubernetes\n",
            "- Familiarity with monitoring and logging tools such as Prometheus, Grafana, ELK stack\n",
            "- Strong scripting skills in languages like Bash, Python, or Ruby\n",
            "- Excellent problem-solving and troubleshooting skills\n",
            "- Strong communication and collaboration skills\n",
            "- Ability to work effectively in a fast-paced, agile environment\n",
            "\n",
            "Certifications:\n",
            "- AWS Certified DevOps Engineer (optional)\n",
            "- Certified Kubernetes Administrator (CKA) (optional)\n",
            "\n",
            "References:\n",
            "Available upon request\n",
            "\n"
          ]
        }
      ]
    },
    {
      "cell_type": "code",
      "source": [
        "model_5.save(\"resume_screening_model\", save_format='tf')"
      ],
      "metadata": {
        "id": "7H8E4M_uFvde"
      },
      "execution_count": 98,
      "outputs": []
    },
    {
      "cell_type": "code",
      "source": [
        "import tensorflow as tf\n",
        "\n",
        "# Load the model\n",
        "loaded_model = tf.keras.models.load_model(\"resume_screening_model\")"
      ],
      "metadata": {
        "colab": {
          "base_uri": "https://localhost:8080/"
        },
        "id": "4lS3DgNDGcdZ",
        "outputId": "6c2ebb6b-3ea9-4c01-bdf5-1211dfe6cbe9"
      },
      "execution_count": 99,
      "outputs": [
        {
          "output_type": "stream",
          "name": "stdout",
          "text": [
            "4/4 [==============================] - 3s 51ms/step - loss: 0.1559 - accuracy: 0.9794\n"
          ]
        },
        {
          "output_type": "execute_result",
          "data": {
            "text/plain": [
              "[0.15589410066604614, 0.9793814420700073]"
            ]
          },
          "metadata": {},
          "execution_count": 99
        }
      ]
    },
    {
      "cell_type": "code",
      "source": [
        "loaded_model_results = loaded_model.evaluate(val_sentences, val_labels)"
      ],
      "metadata": {
        "colab": {
          "base_uri": "https://localhost:8080/"
        },
        "id": "7mW_z852HlzN",
        "outputId": "efb4fd8e-4080-44ab-899a-335ac7f0b8e3"
      },
      "execution_count": 101,
      "outputs": [
        {
          "output_type": "stream",
          "name": "stdout",
          "text": [
            "4/4 [==============================] - 0s 55ms/step - loss: 0.1559 - accuracy: 0.9794\n"
          ]
        }
      ]
    },
    {
      "cell_type": "code",
      "source": [
        "# Assuming model_5 is already defined and trained\n",
        "model_5_results = model_5.evaluate(val_sentences, val_labels)"
      ],
      "metadata": {
        "colab": {
          "base_uri": "https://localhost:8080/"
        },
        "id": "13Ym0b29G9bI",
        "outputId": "5df7a51f-2567-4d44-ba64-8f8562a8c736"
      },
      "execution_count": 102,
      "outputs": [
        {
          "output_type": "stream",
          "name": "stdout",
          "text": [
            "4/4 [==============================] - 0s 55ms/step - loss: 0.1559 - accuracy: 0.9794\n"
          ]
        }
      ]
    },
    {
      "cell_type": "code",
      "source": [
        "# Compare the results using np.isclose()\n",
        "are_results_close = np.isclose(loaded_model_results, model_5_results).all()\n",
        "are_results_close"
      ],
      "metadata": {
        "colab": {
          "base_uri": "https://localhost:8080/"
        },
        "id": "jwHexzyZHGQA",
        "outputId": "8ca83380-d479-4f20-b34c-f4861282d833"
      },
      "execution_count": 104,
      "outputs": [
        {
          "output_type": "execute_result",
          "data": {
            "text/plain": [
              "True"
            ]
          },
          "metadata": {},
          "execution_count": 104
        }
      ]
    },
    {
      "cell_type": "code",
      "source": [
        "resume_6 = '''Jane Smith\n",
        "\n",
        "456 Elm Street, Cityville, USA | (555) 123-4567 | jane.smith@email.com\n",
        "\n",
        "Objective:\n",
        "Experienced and detail-oriented Database Administrator with a proven track record of managing large-scale database environments. Skilled in database design, implementation, optimization, and troubleshooting. Seeking a challenging role where I can leverage my expertise to contribute to the success of the organization.\n",
        "\n",
        "Education:\n",
        "\n",
        "    Bachelor of Science in Computer Engineering\n",
        "    City University, Cityville, USA\n",
        "    Graduated: May 20XX\n",
        "\n",
        "Professional Experience:\n",
        "\n",
        "Senior Database Administrator\n",
        "Tech Innovations Inc., Cityville, USA\n",
        "June 20XX - Present\n",
        "\n",
        "    Manage and administer Microsoft SQL Server and MongoDB database systems, including installation, configuration, and maintenance.\n",
        "    Design and implement database schemas, tables, indexes, and stored procedures to meet application requirements.\n",
        "    Optimize database performance through query optimization, indexing strategies, and database tuning techniques.\n",
        "    Implement database security measures, including access controls, encryption, and auditing, to ensure data protection and compliance.\n",
        "    Develop and maintain database backup and recovery procedures to ensure data integrity and availability.\n",
        "    Monitor database performance and resource utilization using performance monitoring tools and implement proactive measures to prevent performance bottlenecks.\n",
        "    Provide technical support and troubleshooting for database-related issues and collaborate with development and infrastructure teams to resolve them.\n",
        "    Document database configurations, procedures, and best practices.\n",
        "\n",
        "Database Administrator\n",
        "Data Solutions Ltd., Cityville, USA\n",
        "January 20XX - May 20XX\n",
        "\n",
        "    Assisted in the installation, configuration, and maintenance of Oracle and MySQL database systems.\n",
        "    Created and managed database objects, such as tables, views, indexes, and sequences, as per application requirements.\n",
        "    Implemented database security policies, including user authentication, role-based access control, and data encryption.\n",
        "    Performed database backups and restores using RMAN and MySQL utilities to ensure data availability and disaster recovery.\n",
        "    Monitored database performance and executed performance tuning activities, such as index optimization and SQL query tuning.\n",
        "    Conducted database capacity planning and implemented scalability solutions to accommodate growing data volumes.\n",
        "    Provided technical support and troubleshooting for database-related issues, including performance bottlenecks and data corruption.\n",
        "\n",
        "Skills:\n",
        "\n",
        "    Database Management Systems: Microsoft SQL Server, Oracle, MySQL, MongoDB\n",
        "    Database Design and Implementation\n",
        "    Database Administration and Performance Tuning\n",
        "    Backup and Recovery\n",
        "    Database Security and Compliance\n",
        "    SQL Query Optimization\n",
        "    Scripting Languages: SQL, PL/SQL, T-SQL, PowerShell\n",
        "    Operating Systems: Windows Server, Linux\n",
        "\n",
        "Certifications:\n",
        "\n",
        "    Microsoft Certified: Azure Database Administrator Associate\n",
        "    Oracle Certified Professional (OCP)\n",
        "    MongoDB Certified DBA Associate\n",
        "'''"
      ],
      "metadata": {
        "id": "Tj5GfbkvHsVk"
      },
      "execution_count": 114,
      "outputs": []
    },
    {
      "cell_type": "code",
      "source": [
        "# Make a prediction on resume from the wild\n",
        "predict_on_sentence(model=model_5,\n",
        "                    sentence=resume_6,\n",
        "                    class_names=class_names)"
      ],
      "metadata": {
        "colab": {
          "base_uri": "https://localhost:8080/"
        },
        "id": "3ykFIXBxJpOn",
        "outputId": "de7fdd60-a36c-4ddd-f488-4e9d95d83a56"
      },
      "execution_count": 117,
      "outputs": [
        {
          "output_type": "stream",
          "name": "stdout",
          "text": [
            "1/1 [==============================] - 0s 60ms/step\n",
            "Predicted Label: 7, Class: Database, Probability: 0.3206905126571655\n",
            "Sentence:\n",
            "Jane Smith\n",
            "\n",
            "456 Elm Street, Cityville, USA | (555) 123-4567 | jane.smith@email.com\n",
            "\n",
            "Objective:\n",
            "Experienced and detail-oriented Database Administrator with a proven track record of managing large-scale database environments. Skilled in database design, implementation, optimization, and troubleshooting. Seeking a challenging role where I can leverage my expertise to contribute to the success of the organization.\n",
            "\n",
            "Education:\n",
            "\n",
            "    Bachelor of Science in Computer Engineering\n",
            "    City University, Cityville, USA\n",
            "    Graduated: May 20XX\n",
            "\n",
            "Professional Experience:\n",
            "\n",
            "Senior Database Administrator\n",
            "Tech Innovations Inc., Cityville, USA\n",
            "June 20XX - Present\n",
            "\n",
            "    Manage and administer Microsoft SQL Server and MongoDB database systems, including installation, configuration, and maintenance.\n",
            "    Design and implement database schemas, tables, indexes, and stored procedures to meet application requirements.\n",
            "    Optimize database performance through query optimization, indexing strategies, and database tuning techniques.\n",
            "    Implement database security measures, including access controls, encryption, and auditing, to ensure data protection and compliance.\n",
            "    Develop and maintain database backup and recovery procedures to ensure data integrity and availability.\n",
            "    Monitor database performance and resource utilization using performance monitoring tools and implement proactive measures to prevent performance bottlenecks.\n",
            "    Provide technical support and troubleshooting for database-related issues and collaborate with development and infrastructure teams to resolve them.\n",
            "    Document database configurations, procedures, and best practices.\n",
            "\n",
            "Database Administrator\n",
            "Data Solutions Ltd., Cityville, USA\n",
            "January 20XX - May 20XX\n",
            "\n",
            "    Assisted in the installation, configuration, and maintenance of Oracle and MySQL database systems.\n",
            "    Created and managed database objects, such as tables, views, indexes, and sequences, as per application requirements.\n",
            "    Implemented database security policies, including user authentication, role-based access control, and data encryption.\n",
            "    Performed database backups and restores using RMAN and MySQL utilities to ensure data availability and disaster recovery.\n",
            "    Monitored database performance and executed performance tuning activities, such as index optimization and SQL query tuning.\n",
            "    Conducted database capacity planning and implemented scalability solutions to accommodate growing data volumes.\n",
            "    Provided technical support and troubleshooting for database-related issues, including performance bottlenecks and data corruption.\n",
            "\n",
            "Skills:\n",
            "\n",
            "    Database Management Systems: Microsoft SQL Server, Oracle, MySQL, MongoDB\n",
            "    Database Design and Implementation\n",
            "    Database Administration and Performance Tuning\n",
            "    Backup and Recovery\n",
            "    Database Security and Compliance\n",
            "    SQL Query Optimization\n",
            "    Scripting Languages: SQL, PL/SQL, T-SQL, PowerShell\n",
            "    Operating Systems: Windows Server, Linux\n",
            "\n",
            "Certifications:\n",
            "\n",
            "    Microsoft Certified: Azure Database Administrator Associate\n",
            "    Oracle Certified Professional (OCP)\n",
            "    MongoDB Certified DBA Associate\n",
            "\n"
          ]
        }
      ]
    },
    {
      "cell_type": "code",
      "source": [],
      "metadata": {
        "id": "qTtMQWOjJ-Fa"
      },
      "execution_count": null,
      "outputs": []
    }
  ]
}